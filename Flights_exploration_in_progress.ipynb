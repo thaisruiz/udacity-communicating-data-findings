{
 "cells": [
  {
   "cell_type": "markdown",
   "metadata": {},
   "source": [
    "# Domestic Flights on December 2008 Data Exploration\n",
    "## by Thais Ruiz\n",
    "\n",
    "## Preliminary Wrangling\n",
    "\n",
    "This document explores a dataset of 544,958 domestic flights operations on December 2008.\n"
   ]
  },
  {
   "cell_type": "code",
   "execution_count": 1,
   "metadata": {},
   "outputs": [
    {
     "data": {
      "text/html": [
       "<script type=\"text/javascript\">window.PlotlyConfig = {MathJaxConfig: 'local'};</script><script type=\"text/javascript\">if (window.MathJax) {MathJax.Hub.Config({SVG: {font: \"STIX-Web\"}});}</script><script>requirejs.config({paths: { 'plotly': ['https://cdn.plot.ly/plotly-latest.min']},});if(!window._Plotly) {require(['plotly'],function(plotly) {window._Plotly=plotly;});}</script>"
      ],
      "text/vnd.plotly.v1+html": [
       "<script type=\"text/javascript\">window.PlotlyConfig = {MathJaxConfig: 'local'};</script><script type=\"text/javascript\">if (window.MathJax) {MathJax.Hub.Config({SVG: {font: \"STIX-Web\"}});}</script><script>requirejs.config({paths: { 'plotly': ['https://cdn.plot.ly/plotly-latest.min']},});if(!window._Plotly) {require(['plotly'],function(plotly) {window._Plotly=plotly;});}</script>"
      ]
     },
     "metadata": {},
     "output_type": "display_data"
    }
   ],
   "source": [
    "# import all packages and set plots to be embedded inline\n",
    "import numpy as np\n",
    "import pandas as pd\n",
    "import matplotlib.pyplot as plt\n",
    "import seaborn as sb\n",
    "import os\n",
    "from plotly.offline import init_notebook_mode, iplot\n",
    "from collections import Counter\n",
    "\n",
    "%matplotlib inline\n",
    "\n",
    "init_notebook_mode(connected=True) # send Plotly output to notebook"
   ]
  },
  {
   "cell_type": "code",
   "execution_count": 2,
   "metadata": {},
   "outputs": [],
   "source": [
    "# load in the datasets into pandas dataframes\n",
    "file_dir = 'C:/Users/DuranRuiz/Desktop/NanoDegree Data Analyst/Communicate Data Findings Project/Datasource'\n",
    "os.chdir(file_dir)\n",
    "\n",
    "flights_2008 = pd.read_csv('2008.csv')\n",
    "airports = pd.read_csv('L_AIRPORT.csv')"
   ]
  },
  {
   "cell_type": "code",
   "execution_count": 3,
   "metadata": {},
   "outputs": [
    {
     "name": "stdout",
     "output_type": "stream",
     "text": [
      "(7009728, 29)\n",
      "Year                   int64\n",
      "Month                  int64\n",
      "DayofMonth             int64\n",
      "DayOfWeek              int64\n",
      "DepTime              float64\n",
      "CRSDepTime             int64\n",
      "ArrTime              float64\n",
      "CRSArrTime             int64\n",
      "UniqueCarrier         object\n",
      "FlightNum              int64\n",
      "TailNum               object\n",
      "ActualElapsedTime    float64\n",
      "CRSElapsedTime       float64\n",
      "AirTime              float64\n",
      "ArrDelay             float64\n",
      "DepDelay             float64\n",
      "Origin                object\n",
      "Dest                  object\n",
      "Distance               int64\n",
      "TaxiIn               float64\n",
      "TaxiOut              float64\n",
      "Cancelled              int64\n",
      "CancellationCode      object\n",
      "Diverted               int64\n",
      "CarrierDelay         float64\n",
      "WeatherDelay         float64\n",
      "NASDelay             float64\n",
      "SecurityDelay        float64\n",
      "LateAircraftDelay    float64\n",
      "dtype: object\n",
      "   Year  Month  DayofMonth  DayOfWeek  DepTime  CRSDepTime  ArrTime  \\\n",
      "0  2008      1           3          4   2003.0        1955   2211.0   \n",
      "1  2008      1           3          4    754.0         735   1002.0   \n",
      "2  2008      1           3          4    628.0         620    804.0   \n",
      "3  2008      1           3          4    926.0         930   1054.0   \n",
      "4  2008      1           3          4   1829.0        1755   1959.0   \n",
      "\n",
      "   CRSArrTime UniqueCarrier  FlightNum        ...         TaxiIn  TaxiOut  \\\n",
      "0        2225            WN        335        ...            4.0      8.0   \n",
      "1        1000            WN       3231        ...            5.0     10.0   \n",
      "2         750            WN        448        ...            3.0     17.0   \n",
      "3        1100            WN       1746        ...            3.0      7.0   \n",
      "4        1925            WN       3920        ...            3.0     10.0   \n",
      "\n",
      "   Cancelled  CancellationCode  Diverted  CarrierDelay WeatherDelay NASDelay  \\\n",
      "0          0               NaN         0           NaN          NaN      NaN   \n",
      "1          0               NaN         0           NaN          NaN      NaN   \n",
      "2          0               NaN         0           NaN          NaN      NaN   \n",
      "3          0               NaN         0           NaN          NaN      NaN   \n",
      "4          0               NaN         0           2.0          0.0      0.0   \n",
      "\n",
      "   SecurityDelay  LateAircraftDelay  \n",
      "0            NaN                NaN  \n",
      "1            NaN                NaN  \n",
      "2            NaN                NaN  \n",
      "3            NaN                NaN  \n",
      "4            0.0               32.0  \n",
      "\n",
      "[5 rows x 29 columns]\n"
     ]
    }
   ],
   "source": [
    "# high-level overview of data shape and composition\n",
    "print(flights_2008.shape)\n",
    "print(flights_2008.dtypes)\n",
    "print(flights_2008.head())"
   ]
  },
  {
   "cell_type": "code",
   "execution_count": 4,
   "metadata": {},
   "outputs": [
    {
     "name": "stdout",
     "output_type": "stream",
     "text": [
      "(6510, 2)\n",
      "Code           object\n",
      "Description    object\n",
      "dtype: object\n",
      "     Code                                        Description\n",
      "4610  RBG                    Roseburg, OR: Roseburg Regional\n",
      "6380  YWJ                     Deline, Canada: Deline Airport\n",
      "2569  JFN             Jefferson, OH: Northeast Ohio Regional\n",
      "2887  KSM                 St. Mary's, AK: St. Mary's Airport\n",
      "3656  MVW       Burlington/Mount Vernon, WA: Skagit Regional\n",
      "3974  OBE                  Okeechobee, FL: Okeechobee County\n",
      "2950  KZI                           Kozani, Greece: Filippos\n",
      "4525  PZO  Puerto Ordaz, Venezuela: General Manuel Carlos...\n",
      "2691  KAB             Kariba, Zimbabwe: Kariba International\n",
      "5292  TAV                               Tau, TT: Tau Airport\n"
     ]
    }
   ],
   "source": [
    "print(airports.shape)\n",
    "print(airports.dtypes)\n",
    "print(airports.sample(10))"
   ]
  },
  {
   "cell_type": "code",
   "execution_count": 5,
   "metadata": {},
   "outputs": [],
   "source": [
    "# Subset of domestic flights operations on Dec-2008\n",
    "flights_0812 = flights_2008[(flights_2008.Month==12)]\n",
    "\n",
    "# Remove columns: Year, Month, TaxiIn, TaxiOut, TailNum, ActualElapsedTime, CRSElapsedTime, AirTime, Distance \n",
    "flights_0812 = flights_0812[['DayofMonth', 'DayOfWeek', 'DepTime', 'CRSDepTime', 'ArrTime', 'CRSArrTime',\\\n",
    "                             'UniqueCarrier', 'FlightNum', 'ArrDelay', 'DepDelay', 'Origin', 'Dest', 'Cancelled',\\\n",
    "                             'CancellationCode', 'Diverted', 'CarrierDelay', 'WeatherDelay', 'NASDelay',\\\n",
    "                             'SecurityDelay', 'LateAircraftDelay']]"
   ]
  },
  {
   "cell_type": "code",
   "execution_count": 6,
   "metadata": {},
   "outputs": [],
   "source": [
    "# Merge origin/destination description fields from airport dataframe to flights_0812 dataframe\n",
    "flights_0812 = pd.merge(flights_0812, airports, left_on='Origin', right_on='Code').drop('Code', axis=1)\n",
    "flights_0812.rename(columns = {'Description':'OriginDescription'}, inplace = True)\n",
    "\n",
    "flights_0812 =  pd.merge(flights_0812, airports, left_on='Dest', right_on='Code').drop('Code', axis=1)\n",
    "flights_0812.rename(columns = {'Description':'DestDescription'}, inplace = True)"
   ]
  },
  {
   "cell_type": "code",
   "execution_count": 7,
   "metadata": {},
   "outputs": [
    {
     "name": "stdout",
     "output_type": "stream",
     "text": [
      "Index(['DayofMonth', 'DayOfWeek', 'DepTime', 'CRSDepTime', 'ArrTime',\n",
      "       'CRSArrTime', 'UniqueCarrier', 'FlightNum', 'ArrDelay', 'DepDelay',\n",
      "       'Origin', 'Dest', 'Cancelled', 'CancellationCode', 'Diverted',\n",
      "       'CarrierDelay', 'WeatherDelay', 'NASDelay', 'SecurityDelay',\n",
      "       'LateAircraftDelay', 'OriginDescription', 'DestDescription'],\n",
      "      dtype='object')\n"
     ]
    },
    {
     "data": {
      "text/html": [
       "<div>\n",
       "<style>\n",
       "    .dataframe thead tr:only-child th {\n",
       "        text-align: right;\n",
       "    }\n",
       "\n",
       "    .dataframe thead th {\n",
       "        text-align: left;\n",
       "    }\n",
       "\n",
       "    .dataframe tbody tr th {\n",
       "        vertical-align: top;\n",
       "    }\n",
       "</style>\n",
       "<table border=\"1\" class=\"dataframe\">\n",
       "  <thead>\n",
       "    <tr style=\"text-align: right;\">\n",
       "      <th></th>\n",
       "      <th>Origin</th>\n",
       "      <th>Dest</th>\n",
       "      <th>OriginDescription</th>\n",
       "      <th>DestDescription</th>\n",
       "    </tr>\n",
       "  </thead>\n",
       "  <tbody>\n",
       "    <tr>\n",
       "      <th>186384</th>\n",
       "      <td>MKE</td>\n",
       "      <td>ORD</td>\n",
       "      <td>Milwaukee, WI: General Mitchell International</td>\n",
       "      <td>Chicago, IL: Chicago O'Hare International</td>\n",
       "    </tr>\n",
       "    <tr>\n",
       "      <th>183239</th>\n",
       "      <td>IAH</td>\n",
       "      <td>ORD</td>\n",
       "      <td>Houston, TX: George Bush Intercontinental/Houston</td>\n",
       "      <td>Chicago, IL: Chicago O'Hare International</td>\n",
       "    </tr>\n",
       "    <tr>\n",
       "      <th>323323</th>\n",
       "      <td>RDU</td>\n",
       "      <td>JFK</td>\n",
       "      <td>Raleigh/Durham, NC: Raleigh-Durham International</td>\n",
       "      <td>New York, NY: John F. Kennedy International</td>\n",
       "    </tr>\n",
       "    <tr>\n",
       "      <th>211053</th>\n",
       "      <td>ATL</td>\n",
       "      <td>IAD</td>\n",
       "      <td>Atlanta, GA: Hartsfield-Jackson Atlanta Intern...</td>\n",
       "      <td>Washington, DC: Washington Dulles International</td>\n",
       "    </tr>\n",
       "    <tr>\n",
       "      <th>144402</th>\n",
       "      <td>FLL</td>\n",
       "      <td>BWI</td>\n",
       "      <td>Fort Lauderdale, FL: Fort Lauderdale-Hollywood...</td>\n",
       "      <td>Baltimore, MD: Baltimore/Washington Internatio...</td>\n",
       "    </tr>\n",
       "  </tbody>\n",
       "</table>\n",
       "</div>"
      ],
      "text/plain": [
       "       Origin Dest                                  OriginDescription  \\\n",
       "186384    MKE  ORD      Milwaukee, WI: General Mitchell International   \n",
       "183239    IAH  ORD  Houston, TX: George Bush Intercontinental/Houston   \n",
       "323323    RDU  JFK   Raleigh/Durham, NC: Raleigh-Durham International   \n",
       "211053    ATL  IAD  Atlanta, GA: Hartsfield-Jackson Atlanta Intern...   \n",
       "144402    FLL  BWI  Fort Lauderdale, FL: Fort Lauderdale-Hollywood...   \n",
       "\n",
       "                                          DestDescription  \n",
       "186384          Chicago, IL: Chicago O'Hare International  \n",
       "183239          Chicago, IL: Chicago O'Hare International  \n",
       "323323        New York, NY: John F. Kennedy International  \n",
       "211053    Washington, DC: Washington Dulles International  \n",
       "144402  Baltimore, MD: Baltimore/Washington Internatio...  "
      ]
     },
     "execution_count": 7,
     "metadata": {},
     "output_type": "execute_result"
    }
   ],
   "source": [
    "# Check merged columns\n",
    "print(flights_0812.columns)\n",
    "flights_0812.sample(5)[['Origin', 'Dest', 'OriginDescription', 'DestDescription']]"
   ]
  },
  {
   "cell_type": "code",
   "execution_count": 8,
   "metadata": {},
   "outputs": [
    {
     "name": "stdout",
     "output_type": "stream",
     "text": [
      "<class 'pandas.core.frame.DataFrame'>\n",
      "Int64Index: 544958 entries, 0 to 544957\n",
      "Data columns (total 22 columns):\n",
      "DayofMonth           544958 non-null int64\n",
      "DayOfWeek            544958 non-null int64\n",
      "DepTime              527926 non-null float64\n",
      "CRSDepTime           544958 non-null int64\n",
      "ArrTime              526376 non-null float64\n",
      "CRSArrTime           544958 non-null int64\n",
      "UniqueCarrier        544958 non-null object\n",
      "FlightNum            544958 non-null int64\n",
      "ArrDelay             524747 non-null float64\n",
      "DepDelay             527926 non-null float64\n",
      "Origin               544958 non-null object\n",
      "Dest                 544958 non-null object\n",
      "Cancelled            544958 non-null int64\n",
      "CancellationCode     17779 non-null object\n",
      "Diverted             544958 non-null int64\n",
      "CarrierDelay         168647 non-null float64\n",
      "WeatherDelay         168647 non-null float64\n",
      "NASDelay             168647 non-null float64\n",
      "SecurityDelay        168647 non-null float64\n",
      "LateAircraftDelay    168647 non-null float64\n",
      "OriginDescription    544958 non-null object\n",
      "DestDescription      544958 non-null object\n",
      "dtypes: float64(9), int64(7), object(6)\n",
      "memory usage: 95.6+ MB\n"
     ]
    }
   ],
   "source": [
    "flights_0812.info()"
   ]
  },
  {
   "cell_type": "code",
   "execution_count": 9,
   "metadata": {
    "collapsed": true
   },
   "outputs": [],
   "source": [
    "# Change columns to category type\n",
    "categories_cols = ['DayOfWeek', 'UniqueCarrier', 'Origin', 'Dest']\n",
    "\n",
    "for col in categories_cols:\n",
    "    flights_0812[col] = flights_0812[col].astype('category')"
   ]
  },
  {
   "cell_type": "code",
   "execution_count": 10,
   "metadata": {},
   "outputs": [
    {
     "name": "stdout",
     "output_type": "stream",
     "text": [
      "<class 'pandas.core.frame.DataFrame'>\n",
      "Int64Index: 544958 entries, 0 to 544957\n",
      "Data columns (total 22 columns):\n",
      "DayofMonth           544958 non-null int64\n",
      "DayOfWeek            544958 non-null category\n",
      "DepTime              527926 non-null float64\n",
      "CRSDepTime           544958 non-null int64\n",
      "ArrTime              526376 non-null float64\n",
      "CRSArrTime           544958 non-null int64\n",
      "UniqueCarrier        544958 non-null category\n",
      "FlightNum            544958 non-null int64\n",
      "ArrDelay             524747 non-null float64\n",
      "DepDelay             527926 non-null float64\n",
      "Origin               544958 non-null category\n",
      "Dest                 544958 non-null category\n",
      "Cancelled            544958 non-null int64\n",
      "CancellationCode     17779 non-null object\n",
      "Diverted             544958 non-null int64\n",
      "CarrierDelay         168647 non-null float64\n",
      "WeatherDelay         168647 non-null float64\n",
      "NASDelay             168647 non-null float64\n",
      "SecurityDelay        168647 non-null float64\n",
      "LateAircraftDelay    168647 non-null float64\n",
      "OriginDescription    544958 non-null object\n",
      "DestDescription      544958 non-null object\n",
      "dtypes: category(4), float64(9), int64(6), object(3)\n",
      "memory usage: 82.1+ MB\n"
     ]
    }
   ],
   "source": [
    "flights_0812.info()"
   ]
  },
  {
   "cell_type": "code",
   "execution_count": 11,
   "metadata": {},
   "outputs": [
    {
     "data": {
      "text/html": [
       "<div>\n",
       "<style>\n",
       "    .dataframe thead tr:only-child th {\n",
       "        text-align: right;\n",
       "    }\n",
       "\n",
       "    .dataframe thead th {\n",
       "        text-align: left;\n",
       "    }\n",
       "\n",
       "    .dataframe tbody tr th {\n",
       "        vertical-align: top;\n",
       "    }\n",
       "</style>\n",
       "<table border=\"1\" class=\"dataframe\">\n",
       "  <thead>\n",
       "    <tr style=\"text-align: right;\">\n",
       "      <th></th>\n",
       "      <th>DayofMonth</th>\n",
       "      <th>DayOfWeek</th>\n",
       "      <th>DepTime</th>\n",
       "      <th>CRSDepTime</th>\n",
       "      <th>ArrTime</th>\n",
       "      <th>CRSArrTime</th>\n",
       "      <th>UniqueCarrier</th>\n",
       "      <th>FlightNum</th>\n",
       "      <th>ArrDelay</th>\n",
       "      <th>DepDelay</th>\n",
       "      <th>...</th>\n",
       "      <th>Cancelled</th>\n",
       "      <th>CancellationCode</th>\n",
       "      <th>Diverted</th>\n",
       "      <th>CarrierDelay</th>\n",
       "      <th>WeatherDelay</th>\n",
       "      <th>NASDelay</th>\n",
       "      <th>SecurityDelay</th>\n",
       "      <th>LateAircraftDelay</th>\n",
       "      <th>OriginDescription</th>\n",
       "      <th>DestDescription</th>\n",
       "    </tr>\n",
       "  </thead>\n",
       "  <tbody>\n",
       "    <tr>\n",
       "      <th>364095</th>\n",
       "      <td>18</td>\n",
       "      <td>4</td>\n",
       "      <td>2001.0</td>\n",
       "      <td>1920</td>\n",
       "      <td>2246.0</td>\n",
       "      <td>2204</td>\n",
       "      <td>NW</td>\n",
       "      <td>496</td>\n",
       "      <td>42.0</td>\n",
       "      <td>41.0</td>\n",
       "      <td>...</td>\n",
       "      <td>0</td>\n",
       "      <td>NaN</td>\n",
       "      <td>0</td>\n",
       "      <td>37.0</td>\n",
       "      <td>0.0</td>\n",
       "      <td>1.0</td>\n",
       "      <td>0.0</td>\n",
       "      <td>4.0</td>\n",
       "      <td>Minneapolis, MN: Minneapolis-St Paul Internati...</td>\n",
       "      <td>Indianapolis, IN: Indianapolis International</td>\n",
       "    </tr>\n",
       "    <tr>\n",
       "      <th>321500</th>\n",
       "      <td>3</td>\n",
       "      <td>3</td>\n",
       "      <td>739.0</td>\n",
       "      <td>745</td>\n",
       "      <td>1549.0</td>\n",
       "      <td>1600</td>\n",
       "      <td>AA</td>\n",
       "      <td>118</td>\n",
       "      <td>-11.0</td>\n",
       "      <td>-6.0</td>\n",
       "      <td>...</td>\n",
       "      <td>0</td>\n",
       "      <td>NaN</td>\n",
       "      <td>0</td>\n",
       "      <td>NaN</td>\n",
       "      <td>NaN</td>\n",
       "      <td>NaN</td>\n",
       "      <td>NaN</td>\n",
       "      <td>NaN</td>\n",
       "      <td>Los Angeles, CA: Los Angeles International</td>\n",
       "      <td>New York, NY: John F. Kennedy International</td>\n",
       "    </tr>\n",
       "    <tr>\n",
       "      <th>517828</th>\n",
       "      <td>12</td>\n",
       "      <td>5</td>\n",
       "      <td>1850.0</td>\n",
       "      <td>1845</td>\n",
       "      <td>1949.0</td>\n",
       "      <td>1943</td>\n",
       "      <td>XE</td>\n",
       "      <td>2731</td>\n",
       "      <td>6.0</td>\n",
       "      <td>5.0</td>\n",
       "      <td>...</td>\n",
       "      <td>0</td>\n",
       "      <td>NaN</td>\n",
       "      <td>0</td>\n",
       "      <td>NaN</td>\n",
       "      <td>NaN</td>\n",
       "      <td>NaN</td>\n",
       "      <td>NaN</td>\n",
       "      <td>NaN</td>\n",
       "      <td>Houston, TX: George Bush Intercontinental/Houston</td>\n",
       "      <td>Shreveport, LA: Shreveport Regional</td>\n",
       "    </tr>\n",
       "    <tr>\n",
       "      <th>99687</th>\n",
       "      <td>14</td>\n",
       "      <td>7</td>\n",
       "      <td>1845.0</td>\n",
       "      <td>1720</td>\n",
       "      <td>2157.0</td>\n",
       "      <td>1942</td>\n",
       "      <td>NW</td>\n",
       "      <td>125</td>\n",
       "      <td>135.0</td>\n",
       "      <td>85.0</td>\n",
       "      <td>...</td>\n",
       "      <td>0</td>\n",
       "      <td>NaN</td>\n",
       "      <td>0</td>\n",
       "      <td>85.0</td>\n",
       "      <td>0.0</td>\n",
       "      <td>50.0</td>\n",
       "      <td>0.0</td>\n",
       "      <td>0.0</td>\n",
       "      <td>Minneapolis, MN: Minneapolis-St Paul Internati...</td>\n",
       "      <td>Phoenix, AZ: Phoenix Sky Harbor International</td>\n",
       "    </tr>\n",
       "    <tr>\n",
       "      <th>324863</th>\n",
       "      <td>5</td>\n",
       "      <td>5</td>\n",
       "      <td>1110.0</td>\n",
       "      <td>1045</td>\n",
       "      <td>1224.0</td>\n",
       "      <td>1158</td>\n",
       "      <td>OH</td>\n",
       "      <td>6672</td>\n",
       "      <td>26.0</td>\n",
       "      <td>25.0</td>\n",
       "      <td>...</td>\n",
       "      <td>0</td>\n",
       "      <td>NaN</td>\n",
       "      <td>0</td>\n",
       "      <td>0.0</td>\n",
       "      <td>25.0</td>\n",
       "      <td>1.0</td>\n",
       "      <td>0.0</td>\n",
       "      <td>0.0</td>\n",
       "      <td>Washington, DC: Ronald Reagan Washington National</td>\n",
       "      <td>New York, NY: John F. Kennedy International</td>\n",
       "    </tr>\n",
       "    <tr>\n",
       "      <th>493874</th>\n",
       "      <td>5</td>\n",
       "      <td>5</td>\n",
       "      <td>2045.0</td>\n",
       "      <td>2045</td>\n",
       "      <td>2155.0</td>\n",
       "      <td>2157</td>\n",
       "      <td>OH</td>\n",
       "      <td>6427</td>\n",
       "      <td>-2.0</td>\n",
       "      <td>0.0</td>\n",
       "      <td>...</td>\n",
       "      <td>0</td>\n",
       "      <td>NaN</td>\n",
       "      <td>0</td>\n",
       "      <td>NaN</td>\n",
       "      <td>NaN</td>\n",
       "      <td>NaN</td>\n",
       "      <td>NaN</td>\n",
       "      <td>NaN</td>\n",
       "      <td>Cincinnati, OH: Cincinnati/Northern Kentucky I...</td>\n",
       "      <td>Sioux Falls, SD: Joe Foss Field</td>\n",
       "    </tr>\n",
       "    <tr>\n",
       "      <th>350959</th>\n",
       "      <td>18</td>\n",
       "      <td>4</td>\n",
       "      <td>637.0</td>\n",
       "      <td>620</td>\n",
       "      <td>835.0</td>\n",
       "      <td>818</td>\n",
       "      <td>US</td>\n",
       "      <td>1592</td>\n",
       "      <td>17.0</td>\n",
       "      <td>17.0</td>\n",
       "      <td>...</td>\n",
       "      <td>0</td>\n",
       "      <td>NaN</td>\n",
       "      <td>0</td>\n",
       "      <td>17.0</td>\n",
       "      <td>0.0</td>\n",
       "      <td>0.0</td>\n",
       "      <td>0.0</td>\n",
       "      <td>0.0</td>\n",
       "      <td>Atlanta, GA: Hartsfield-Jackson Atlanta Intern...</td>\n",
       "      <td>Philadelphia, PA: Philadelphia International</td>\n",
       "    </tr>\n",
       "    <tr>\n",
       "      <th>230839</th>\n",
       "      <td>23</td>\n",
       "      <td>2</td>\n",
       "      <td>1325.0</td>\n",
       "      <td>1328</td>\n",
       "      <td>1649.0</td>\n",
       "      <td>1648</td>\n",
       "      <td>FL</td>\n",
       "      <td>843</td>\n",
       "      <td>1.0</td>\n",
       "      <td>-3.0</td>\n",
       "      <td>...</td>\n",
       "      <td>0</td>\n",
       "      <td>NaN</td>\n",
       "      <td>0</td>\n",
       "      <td>NaN</td>\n",
       "      <td>NaN</td>\n",
       "      <td>NaN</td>\n",
       "      <td>NaN</td>\n",
       "      <td>NaN</td>\n",
       "      <td>Minneapolis, MN: Minneapolis-St Paul Internati...</td>\n",
       "      <td>Atlanta, GA: Hartsfield-Jackson Atlanta Intern...</td>\n",
       "    </tr>\n",
       "    <tr>\n",
       "      <th>357267</th>\n",
       "      <td>23</td>\n",
       "      <td>2</td>\n",
       "      <td>1106.0</td>\n",
       "      <td>1012</td>\n",
       "      <td>1444.0</td>\n",
       "      <td>1346</td>\n",
       "      <td>OO</td>\n",
       "      <td>6656</td>\n",
       "      <td>58.0</td>\n",
       "      <td>54.0</td>\n",
       "      <td>...</td>\n",
       "      <td>0</td>\n",
       "      <td>NaN</td>\n",
       "      <td>0</td>\n",
       "      <td>0.0</td>\n",
       "      <td>0.0</td>\n",
       "      <td>4.0</td>\n",
       "      <td>0.0</td>\n",
       "      <td>54.0</td>\n",
       "      <td>Denver, CO: Denver International</td>\n",
       "      <td>Nashville, TN: Nashville International</td>\n",
       "    </tr>\n",
       "    <tr>\n",
       "      <th>431372</th>\n",
       "      <td>25</td>\n",
       "      <td>4</td>\n",
       "      <td>920.0</td>\n",
       "      <td>925</td>\n",
       "      <td>1038.0</td>\n",
       "      <td>1040</td>\n",
       "      <td>AA</td>\n",
       "      <td>1903</td>\n",
       "      <td>-2.0</td>\n",
       "      <td>-5.0</td>\n",
       "      <td>...</td>\n",
       "      <td>0</td>\n",
       "      <td>NaN</td>\n",
       "      <td>0</td>\n",
       "      <td>NaN</td>\n",
       "      <td>NaN</td>\n",
       "      <td>NaN</td>\n",
       "      <td>NaN</td>\n",
       "      <td>NaN</td>\n",
       "      <td>Dallas/Fort Worth, TX: Dallas/Fort Worth Inter...</td>\n",
       "      <td>Ontario, CA: Ontario International</td>\n",
       "    </tr>\n",
       "  </tbody>\n",
       "</table>\n",
       "<p>10 rows × 22 columns</p>\n",
       "</div>"
      ],
      "text/plain": [
       "        DayofMonth DayOfWeek  DepTime  CRSDepTime  ArrTime  CRSArrTime  \\\n",
       "364095          18         4   2001.0        1920   2246.0        2204   \n",
       "321500           3         3    739.0         745   1549.0        1600   \n",
       "517828          12         5   1850.0        1845   1949.0        1943   \n",
       "99687           14         7   1845.0        1720   2157.0        1942   \n",
       "324863           5         5   1110.0        1045   1224.0        1158   \n",
       "493874           5         5   2045.0        2045   2155.0        2157   \n",
       "350959          18         4    637.0         620    835.0         818   \n",
       "230839          23         2   1325.0        1328   1649.0        1648   \n",
       "357267          23         2   1106.0        1012   1444.0        1346   \n",
       "431372          25         4    920.0         925   1038.0        1040   \n",
       "\n",
       "       UniqueCarrier  FlightNum  ArrDelay  DepDelay  \\\n",
       "364095            NW        496      42.0      41.0   \n",
       "321500            AA        118     -11.0      -6.0   \n",
       "517828            XE       2731       6.0       5.0   \n",
       "99687             NW        125     135.0      85.0   \n",
       "324863            OH       6672      26.0      25.0   \n",
       "493874            OH       6427      -2.0       0.0   \n",
       "350959            US       1592      17.0      17.0   \n",
       "230839            FL        843       1.0      -3.0   \n",
       "357267            OO       6656      58.0      54.0   \n",
       "431372            AA       1903      -2.0      -5.0   \n",
       "\n",
       "                              ...                         Cancelled  \\\n",
       "364095                        ...                                 0   \n",
       "321500                        ...                                 0   \n",
       "517828                        ...                                 0   \n",
       "99687                         ...                                 0   \n",
       "324863                        ...                                 0   \n",
       "493874                        ...                                 0   \n",
       "350959                        ...                                 0   \n",
       "230839                        ...                                 0   \n",
       "357267                        ...                                 0   \n",
       "431372                        ...                                 0   \n",
       "\n",
       "       CancellationCode  Diverted CarrierDelay  WeatherDelay  NASDelay  \\\n",
       "364095              NaN         0         37.0           0.0       1.0   \n",
       "321500              NaN         0          NaN           NaN       NaN   \n",
       "517828              NaN         0          NaN           NaN       NaN   \n",
       "99687               NaN         0         85.0           0.0      50.0   \n",
       "324863              NaN         0          0.0          25.0       1.0   \n",
       "493874              NaN         0          NaN           NaN       NaN   \n",
       "350959              NaN         0         17.0           0.0       0.0   \n",
       "230839              NaN         0          NaN           NaN       NaN   \n",
       "357267              NaN         0          0.0           0.0       4.0   \n",
       "431372              NaN         0          NaN           NaN       NaN   \n",
       "\n",
       "        SecurityDelay  LateAircraftDelay  \\\n",
       "364095            0.0                4.0   \n",
       "321500            NaN                NaN   \n",
       "517828            NaN                NaN   \n",
       "99687             0.0                0.0   \n",
       "324863            0.0                0.0   \n",
       "493874            NaN                NaN   \n",
       "350959            0.0                0.0   \n",
       "230839            NaN                NaN   \n",
       "357267            0.0               54.0   \n",
       "431372            NaN                NaN   \n",
       "\n",
       "                                        OriginDescription  \\\n",
       "364095  Minneapolis, MN: Minneapolis-St Paul Internati...   \n",
       "321500         Los Angeles, CA: Los Angeles International   \n",
       "517828  Houston, TX: George Bush Intercontinental/Houston   \n",
       "99687   Minneapolis, MN: Minneapolis-St Paul Internati...   \n",
       "324863  Washington, DC: Ronald Reagan Washington National   \n",
       "493874  Cincinnati, OH: Cincinnati/Northern Kentucky I...   \n",
       "350959  Atlanta, GA: Hartsfield-Jackson Atlanta Intern...   \n",
       "230839  Minneapolis, MN: Minneapolis-St Paul Internati...   \n",
       "357267                   Denver, CO: Denver International   \n",
       "431372  Dallas/Fort Worth, TX: Dallas/Fort Worth Inter...   \n",
       "\n",
       "                                          DestDescription  \n",
       "364095       Indianapolis, IN: Indianapolis International  \n",
       "321500        New York, NY: John F. Kennedy International  \n",
       "517828                Shreveport, LA: Shreveport Regional  \n",
       "99687       Phoenix, AZ: Phoenix Sky Harbor International  \n",
       "324863        New York, NY: John F. Kennedy International  \n",
       "493874                    Sioux Falls, SD: Joe Foss Field  \n",
       "350959       Philadelphia, PA: Philadelphia International  \n",
       "230839  Atlanta, GA: Hartsfield-Jackson Atlanta Intern...  \n",
       "357267             Nashville, TN: Nashville International  \n",
       "431372                 Ontario, CA: Ontario International  \n",
       "\n",
       "[10 rows x 22 columns]"
      ]
     },
     "execution_count": 11,
     "metadata": {},
     "output_type": "execute_result"
    }
   ],
   "source": [
    "flights_0812.sample(10)"
   ]
  },
  {
   "cell_type": "code",
   "execution_count": 20,
   "metadata": {},
   "outputs": [
    {
     "name": "stdout",
     "output_type": "stream",
     "text": [
      "            ArrDelay       DepDelay      Cancelled       Diverted  \\\n",
      "count  524747.000000  527926.000000  544958.000000  544958.000000   \n",
      "mean       16.680505      17.304380       0.032625       0.004463   \n",
      "std        48.570617      44.880798       0.177652       0.066654   \n",
      "min       -90.000000     -49.000000       0.000000       0.000000   \n",
      "25%        -8.000000      -3.000000       0.000000       0.000000   \n",
      "50%         2.000000       0.000000       0.000000       0.000000   \n",
      "75%        23.000000      18.000000       0.000000       0.000000   \n",
      "max      1655.000000    1597.000000       1.000000       1.000000   \n",
      "\n",
      "        CarrierDelay   WeatherDelay       NASDelay  SecurityDelay  \\\n",
      "count  168647.000000  168647.000000  168647.000000  168647.000000   \n",
      "mean       15.422806       4.435057      17.251395       0.072228   \n",
      "std        39.539046      25.519685      31.153545       1.565449   \n",
      "min         0.000000       0.000000       0.000000       0.000000   \n",
      "25%         0.000000       0.000000       0.000000       0.000000   \n",
      "50%         0.000000       0.000000       7.000000       0.000000   \n",
      "75%        15.000000       0.000000      22.000000       0.000000   \n",
      "max      1307.000000    1352.000000     903.000000     254.000000   \n",
      "\n",
      "       LateAircraftDelay  \n",
      "count      168647.000000  \n",
      "mean           25.373235  \n",
      "std            45.011729  \n",
      "min             0.000000  \n",
      "25%             0.000000  \n",
      "50%             3.000000  \n",
      "75%            33.000000  \n",
      "max          1143.000000  \n"
     ]
    }
   ],
   "source": [
    "# Descriptive statistics for numeric variables\n",
    "print(flights_0812[['ArrDelay', 'DepDelay', 'Cancelled', 'Diverted'] + delay_cols].describe())"
   ]
  },
  {
   "cell_type": "markdown",
   "metadata": {},
   "source": [
    "#### Data Subsets: On Time, Delayed, Cancelled and Diverted flights"
   ]
  },
  {
   "cell_type": "code",
   "execution_count": 12,
   "metadata": {},
   "outputs": [],
   "source": [
    "on_time   = flights_0812.ArrDelay<15\n",
    "delayed   = flights_0812.ArrDelay>=15 # A flight is considered delayed if its delay is over 15 minutes (inclusive)\n",
    "cancelled = flights_0812.Cancelled==1\n",
    "diverted  = flights_0812.Diverted==1\n",
    "\n",
    "ontime_arr_flights = flights_0812[on_time]\n",
    "delay_arr_flights  = flights_0812[delayed]\n",
    "cancelled_flights  = flights_0812[cancelled]\n",
    "diverted_flights   = flights_0812[diverted]"
   ]
  },
  {
   "cell_type": "code",
   "execution_count": 13,
   "metadata": {},
   "outputs": [
    {
     "name": "stdout",
     "output_type": "stream",
     "text": [
      "<class 'pandas.core.frame.DataFrame'>\n",
      "Int64Index: 356100 entries, 1 to 544957\n",
      "Data columns (total 22 columns):\n",
      "DayofMonth           356100 non-null int64\n",
      "DayOfWeek            356100 non-null category\n",
      "DepTime              356100 non-null float64\n",
      "CRSDepTime           356100 non-null int64\n",
      "ArrTime              356100 non-null float64\n",
      "CRSArrTime           356100 non-null int64\n",
      "UniqueCarrier        356100 non-null category\n",
      "FlightNum            356100 non-null int64\n",
      "ArrDelay             356100 non-null float64\n",
      "DepDelay             356100 non-null float64\n",
      "Origin               356100 non-null category\n",
      "Dest                 356100 non-null category\n",
      "Cancelled            356100 non-null int64\n",
      "CancellationCode     0 non-null object\n",
      "Diverted             356100 non-null int64\n",
      "CarrierDelay         0 non-null float64\n",
      "WeatherDelay         0 non-null float64\n",
      "NASDelay             0 non-null float64\n",
      "SecurityDelay        0 non-null float64\n",
      "LateAircraftDelay    0 non-null float64\n",
      "OriginDescription    356100 non-null object\n",
      "DestDescription      356100 non-null object\n",
      "dtypes: category(4), float64(9), int64(6), object(3)\n",
      "memory usage: 53.7+ MB\n"
     ]
    },
    {
     "data": {
      "text/plain": [
       "(None, array([0], dtype=int64), array([0], dtype=int64))"
      ]
     },
     "execution_count": 13,
     "metadata": {},
     "output_type": "execute_result"
    }
   ],
   "source": [
    "# On Time flights data info and its unique values in Cancelled/Diverted columns\n",
    "ontime_arr_flights.info(), ontime_arr_flights.Cancelled.unique(), ontime_arr_flights.Diverted.unique()"
   ]
  },
  {
   "cell_type": "code",
   "execution_count": 14,
   "metadata": {},
   "outputs": [
    {
     "name": "stdout",
     "output_type": "stream",
     "text": [
      "<class 'pandas.core.frame.DataFrame'>\n",
      "Int64Index: 168647 entries, 0 to 544956\n",
      "Data columns (total 22 columns):\n",
      "DayofMonth           168647 non-null int64\n",
      "DayOfWeek            168647 non-null category\n",
      "DepTime              168647 non-null float64\n",
      "CRSDepTime           168647 non-null int64\n",
      "ArrTime              168647 non-null float64\n",
      "CRSArrTime           168647 non-null int64\n",
      "UniqueCarrier        168647 non-null category\n",
      "FlightNum            168647 non-null int64\n",
      "ArrDelay             168647 non-null float64\n",
      "DepDelay             168647 non-null float64\n",
      "Origin               168647 non-null category\n",
      "Dest                 168647 non-null category\n",
      "Cancelled            168647 non-null int64\n",
      "CancellationCode     0 non-null object\n",
      "Diverted             168647 non-null int64\n",
      "CarrierDelay         168647 non-null float64\n",
      "WeatherDelay         168647 non-null float64\n",
      "NASDelay             168647 non-null float64\n",
      "SecurityDelay        168647 non-null float64\n",
      "LateAircraftDelay    168647 non-null float64\n",
      "OriginDescription    168647 non-null object\n",
      "DestDescription      168647 non-null object\n",
      "dtypes: category(4), float64(9), int64(6), object(3)\n",
      "memory usage: 25.4+ MB\n"
     ]
    },
    {
     "data": {
      "text/plain": [
       "(None, array([0], dtype=int64), array([0], dtype=int64))"
      ]
     },
     "execution_count": 14,
     "metadata": {},
     "output_type": "execute_result"
    }
   ],
   "source": [
    "# Delayed flights data info and its unique values in Cancelled/Diverted columns\n",
    "delay_arr_flights.info(), delay_arr_flights.Cancelled.unique(), delay_arr_flights.Diverted.unique()"
   ]
  },
  {
   "cell_type": "code",
   "execution_count": 15,
   "metadata": {},
   "outputs": [
    {
     "name": "stdout",
     "output_type": "stream",
     "text": [
      "<class 'pandas.core.frame.DataFrame'>\n",
      "Int64Index: 17779 entries, 528 to 544954\n",
      "Data columns (total 22 columns):\n",
      "DayofMonth           17779 non-null int64\n",
      "DayOfWeek            17779 non-null category\n",
      "DepTime              747 non-null float64\n",
      "CRSDepTime           17779 non-null int64\n",
      "ArrTime              0 non-null float64\n",
      "CRSArrTime           17779 non-null int64\n",
      "UniqueCarrier        17779 non-null category\n",
      "FlightNum            17779 non-null int64\n",
      "ArrDelay             0 non-null float64\n",
      "DepDelay             747 non-null float64\n",
      "Origin               17779 non-null category\n",
      "Dest                 17779 non-null category\n",
      "Cancelled            17779 non-null int64\n",
      "CancellationCode     17779 non-null object\n",
      "Diverted             17779 non-null int64\n",
      "CarrierDelay         0 non-null float64\n",
      "WeatherDelay         0 non-null float64\n",
      "NASDelay             0 non-null float64\n",
      "SecurityDelay        0 non-null float64\n",
      "LateAircraftDelay    0 non-null float64\n",
      "OriginDescription    17779 non-null object\n",
      "DestDescription      17779 non-null object\n",
      "dtypes: category(4), float64(9), int64(6), object(3)\n",
      "memory usage: 2.7+ MB\n"
     ]
    }
   ],
   "source": [
    "cancelled_flights.info(), cancelled_flights.Diverted.unique()"
   ]
  },
  {
   "cell_type": "code",
   "execution_count": 43,
   "metadata": {},
   "outputs": [
    {
     "name": "stdout",
     "output_type": "stream",
     "text": [
      "<class 'pandas.core.frame.DataFrame'>\n",
      "Int64Index: 2432 entries, 997 to 544953\n",
      "Data columns (total 13 columns):\n",
      "DayofMonth           2432 non-null int64\n",
      "DayOfWeek            2432 non-null category\n",
      "DepTime              2432 non-null float64\n",
      "CRSDepTime           2432 non-null int64\n",
      "ArrTime              1629 non-null float64\n",
      "CRSArrTime           2432 non-null int64\n",
      "UniqueCarrier        2432 non-null category\n",
      "FlightNum            2432 non-null int64\n",
      "DepDelay             2432 non-null float64\n",
      "Origin               2432 non-null category\n",
      "Dest                 2432 non-null category\n",
      "OriginDescription    2432 non-null object\n",
      "DestDescription      2432 non-null object\n",
      "dtypes: category(4), float64(3), int64(4), object(2)\n",
      "memory usage: 309.8+ KB\n"
     ]
    }
   ],
   "source": [
    "diverted_flights.info(), diverted_flights.Cancelled.unique()"
   ]
  },
  {
   "cell_type": "code",
   "execution_count": 45,
   "metadata": {},
   "outputs": [
    {
     "data": {
      "text/plain": [
       "168647"
      ]
     },
     "execution_count": 45,
     "metadata": {},
     "output_type": "execute_result"
    }
   ],
   "source": [
    "# Compare sum of the causes of the delay columns with arrival delay\n",
    "\n",
    "delay_cols = ['CarrierDelay', 'WeatherDelay', 'NASDelay', 'SecurityDelay', 'LateAircraftDelay']\n",
    "\n",
    "(delay_arr_flights[delay_cols].sum(axis=1) == delay_arr_flights['ArrDelay']).sum()"
   ]
  },
  {
   "cell_type": "markdown",
   "metadata": {},
   "source": [
    "The sum of the delay causes in minutes totals the arrival delay  in the  delayed flights subset"
   ]
  },
  {
   "cell_type": "markdown",
   "metadata": {},
   "source": [
    "### Subsets cleaning\n",
    "\n",
    "On time, delayed, cancelled and diverted statuses are exclusive among them. For ex. cancelled flights cannot be diverted or viceversa.\n",
    "#### On Time flights dataset\n",
    "- Cancellation code and delay causes columns are extraneous and null. They should be removed.\n",
    "- Cancelled and Diverted values are 0 (since subsets are exclusive). These statuses columns could be removed.\n",
    "\n",
    "#### Delayed flights dataset\n",
    "- Cancellation code column is extraneous and null. It should be removed.\n",
    "- Cancelled and Diverted values are 0 (since subsets are exclusive). These statuses columns could be removed.\n",
    "\n",
    "#### Cancelled flights dataset\n",
    "- Arrival time, arrival delay and delay causes are extraneous and null. They should be removed.\n",
    "- Cancelled value is 1 and Diverted value is 0 (since subsets are exclusive). These statuses columns could be removed.\n",
    "- Departure time and delay have (17032) missing values. *BUT HOW CANCELLED FLIGHTS HAVE DEPARTURE DATA???* XXX Assign -1 (negative value) to the rest? XXXXXX\n",
    "\n",
    "#### Diverted flights dataset\n",
    "- Cancellation data and delay causes are extraneous and null. They should be removed.\n",
    "- Cancelled value is 0 and Diverted value is 1 (since subsets are exclusive). These statuses columns could be removed.\n",
    "- Arrival time has (803) missing values. XXX *ARRIVAL TIME SHOULD BE NULL FOR DIVERTED FLIGHTS???*"
   ]
  },
  {
   "cell_type": "code",
   "execution_count": 21,
   "metadata": {},
   "outputs": [
    {
     "name": "stdout",
     "output_type": "stream",
     "text": [
      "<class 'pandas.core.frame.DataFrame'>\n",
      "Int64Index: 356100 entries, 1 to 544957\n",
      "Data columns (total 14 columns):\n",
      "DayofMonth           356100 non-null int64\n",
      "DayOfWeek            356100 non-null category\n",
      "DepTime              356100 non-null float64\n",
      "CRSDepTime           356100 non-null int64\n",
      "ArrTime              356100 non-null float64\n",
      "CRSArrTime           356100 non-null int64\n",
      "UniqueCarrier        356100 non-null category\n",
      "FlightNum            356100 non-null int64\n",
      "ArrDelay             356100 non-null float64\n",
      "DepDelay             356100 non-null float64\n",
      "Origin               356100 non-null category\n",
      "Dest                 356100 non-null category\n",
      "OriginDescription    356100 non-null object\n",
      "DestDescription      356100 non-null object\n",
      "dtypes: category(4), float64(4), int64(4), object(2)\n",
      "memory usage: 31.9+ MB\n"
     ]
    }
   ],
   "source": [
    "# Drop null columns\n",
    "ontime_arr_flights = ontime_arr_flights.drop(['Cancelled', 'CancellationCode', 'Diverted'] + delay_cols, axis=1)\n",
    "ontime_arr_flights.info()"
   ]
  },
  {
   "cell_type": "code",
   "execution_count": 22,
   "metadata": {},
   "outputs": [
    {
     "name": "stdout",
     "output_type": "stream",
     "text": [
      "<class 'pandas.core.frame.DataFrame'>\n",
      "Int64Index: 168647 entries, 0 to 544956\n",
      "Data columns (total 19 columns):\n",
      "DayofMonth           168647 non-null int64\n",
      "DayOfWeek            168647 non-null category\n",
      "DepTime              168647 non-null float64\n",
      "CRSDepTime           168647 non-null int64\n",
      "ArrTime              168647 non-null float64\n",
      "CRSArrTime           168647 non-null int64\n",
      "UniqueCarrier        168647 non-null category\n",
      "FlightNum            168647 non-null int64\n",
      "ArrDelay             168647 non-null float64\n",
      "DepDelay             168647 non-null float64\n",
      "Origin               168647 non-null category\n",
      "Dest                 168647 non-null category\n",
      "CarrierDelay         168647 non-null float64\n",
      "WeatherDelay         168647 non-null float64\n",
      "NASDelay             168647 non-null float64\n",
      "SecurityDelay        168647 non-null float64\n",
      "LateAircraftDelay    168647 non-null float64\n",
      "OriginDescription    168647 non-null object\n",
      "DestDescription      168647 non-null object\n",
      "dtypes: category(4), float64(9), int64(4), object(2)\n",
      "memory usage: 21.6+ MB\n"
     ]
    }
   ],
   "source": [
    "# Drop null columns\n",
    "delay_arr_flights  = delay_arr_flights.drop(['Cancelled', 'CancellationCode', 'Diverted'], axis=1)\n",
    "delay_arr_flights.info()"
   ]
  },
  {
   "cell_type": "code",
   "execution_count": 23,
   "metadata": {},
   "outputs": [
    {
     "name": "stdout",
     "output_type": "stream",
     "text": [
      "<class 'pandas.core.frame.DataFrame'>\n",
      "Int64Index: 17779 entries, 528 to 544954\n",
      "Data columns (total 22 columns):\n",
      "DayofMonth           17779 non-null int64\n",
      "DayOfWeek            17779 non-null category\n",
      "DepTime              747 non-null float64\n",
      "CRSDepTime           17779 non-null int64\n",
      "ArrTime              0 non-null float64\n",
      "CRSArrTime           17779 non-null int64\n",
      "UniqueCarrier        17779 non-null category\n",
      "FlightNum            17779 non-null int64\n",
      "ArrDelay             0 non-null float64\n",
      "DepDelay             747 non-null float64\n",
      "Origin               17779 non-null category\n",
      "Dest                 17779 non-null category\n",
      "Cancelled            17779 non-null int64\n",
      "CancellationCode     17779 non-null object\n",
      "Diverted             17779 non-null int64\n",
      "CarrierDelay         0 non-null float64\n",
      "WeatherDelay         0 non-null float64\n",
      "NASDelay             0 non-null float64\n",
      "SecurityDelay        0 non-null float64\n",
      "LateAircraftDelay    0 non-null float64\n",
      "OriginDescription    17779 non-null object\n",
      "DestDescription      17779 non-null object\n",
      "dtypes: category(4), float64(9), int64(6), object(3)\n",
      "memory usage: 2.7+ MB\n"
     ]
    }
   ],
   "source": [
    "# Drop null columns\n",
    "cancelled_flights  = cancelled_flights.drop(['Cancelled', 'Diverted', 'ArrTime', 'ArrDelay'] + delay_cols, axis=1)\n",
    "cancelled_flights.info()"
   ]
  },
  {
   "cell_type": "code",
   "execution_count": 24,
   "metadata": {},
   "outputs": [
    {
     "name": "stdout",
     "output_type": "stream",
     "text": [
      "<class 'pandas.core.frame.DataFrame'>\n",
      "Int64Index: 2432 entries, 997 to 544953\n",
      "Data columns (total 13 columns):\n",
      "DayofMonth           2432 non-null int64\n",
      "DayOfWeek            2432 non-null category\n",
      "DepTime              2432 non-null float64\n",
      "CRSDepTime           2432 non-null int64\n",
      "ArrTime              1629 non-null float64\n",
      "CRSArrTime           2432 non-null int64\n",
      "UniqueCarrier        2432 non-null category\n",
      "FlightNum            2432 non-null int64\n",
      "DepDelay             2432 non-null float64\n",
      "Origin               2432 non-null category\n",
      "Dest                 2432 non-null category\n",
      "OriginDescription    2432 non-null object\n",
      "DestDescription      2432 non-null object\n",
      "dtypes: category(4), float64(3), int64(4), object(2)\n",
      "memory usage: 229.8+ KB\n"
     ]
    }
   ],
   "source": [
    "# Drop null columns\n",
    "diverted_flights   = diverted_flights.drop(['Cancelled', 'CancellationCode', 'Diverted', 'ArrDelay']\\\n",
    "                                           + delay_cols, axis=1)\n",
    "diverted_flights.info()"
   ]
  },
  {
   "cell_type": "markdown",
   "metadata": {},
   "source": [
    "### What is the structure of your dataset?\n",
    "\n",
    "There are 544,958 entries in the dataset with information of flights operations on December 2008. It features airlines, origin/destination, scheduled and actual arrival/departure times, delays time/causes and cancellation/divert status. Airlines, airports and cities/states are categorical variables; departure/arrivals times, delays and status are numeric, being the delays calculated differences between the actual and scheduled times of departures and arrivals.\n",
    "\n",
    "The dataset can be split in four exclusive subsets per their statuses: on time (on time arrivals), delayed (late arrivals with delays over 15 mins), cancelled and diverted.\n",
    "\n",
    "In the delayed flights subset the sum of the delay causes in minutes totals the arrival delay.\n",
    "\n",
    "### What is/are the main feature(s) of interest in your dataset?\n",
    "\n",
    "I am most interested in figuring out which airlines and cities had more flight delays and what are the causes.\n",
    "\n",
    "### What features in the dataset do you think will help support your investigation into your feature(s) of interest?\n",
    "\n",
    "I expect main US cities close the holidays time have more and longest delays; also expect flights to/from these destinations/origins be cancelled per winter weather conditions."
   ]
  },
  {
   "cell_type": "markdown",
   "metadata": {},
   "source": [
    "## Univariate Exploration\n"
   ]
  },
  {
   "cell_type": "markdown",
   "metadata": {},
   "source": [
    "#### Departure/Arrival Delays on December 2008"
   ]
  },
  {
   "cell_type": "code",
   "execution_count": 26,
   "metadata": {},
   "outputs": [
    {
     "data": {
      "image/png": "[encoded data removed]",
      "text/plain": [
       "<matplotlib.figure.Figure at 0x1afa0a4db00>"
      ]
     },
     "metadata": {},
     "output_type": "display_data"
    }
   ],
   "source": [
    "# Histogram plotting\n",
    "\n",
    "fig = plt.figure(figsize = [15, 5])\n",
    "fig.suptitle('Domestic Flights Delays on Dec-2008', fontsize=14)\n",
    "\n",
    "# Departure and Arrival delays subset without Nan values\n",
    "dep_delay = flights_0812[np.isfinite(flights_0812['DepDelay'])].DepDelay\n",
    "arr_delay = flights_0812[np.isfinite(flights_0812['ArrDelay'])].ArrDelay\n",
    "\n",
    "dep_bins = np.arange(dep_delay.min(), dep_delay.max()+50, 50) \n",
    "arr_bins = np.arange(arr_delay.min(), arr_delay.max()+50, 50) \n",
    "\n",
    "xticks = [i*100 for i in np.arange(-1, 18)]\n",
    "yticks = [i*5e4 for i in np.arange(0, 7)]\n",
    "ylabels = ['0','5e4', '10e4', '15e4', '20e4', '25e4', '30e4']\n",
    "\n",
    "ax1 = plt.subplot(1,2,1)\n",
    "plt.hist(dep_delay, bins=dep_bins, color='silver')\n",
    "plt.xlabel('Departure Delay (mins)')\n",
    "plt.ylabel('Number of Flight Operations')\n",
    "plt.xticks(xticks, xticks, rotation=45)\n",
    "plt.yticks(yticks, ylabels)\n",
    "plt.axvline(x=15, c='red');\n",
    "\n",
    "ax2 = plt.subplot(1,2,2, sharey=ax1)\n",
    "plt.hist(arr_delay, bins=arr_bins, color='silver')\n",
    "plt.xlabel('Arrival Delay (mins)')\n",
    "plt.ylabel('Number of Flight Operations')\n",
    "plt.xticks(xticks, xticks, rotation=45)\n",
    "plt.axvline(x=15, c='red');"
   ]
  },
  {
   "cell_type": "markdown",
   "metadata": {},
   "source": [
    "Both of the above distributions are right skewed, with long tail.\n",
    "\n",
    "On each plot, the red line divides the on time flights to the left, and the delayed ones to the right.\n",
    "A flight is considered delayed when it has a delay of 15 or more minutes than the schedule.\n",
    "\n",
    "Delay plots show many on time flights on Dec-2008: more than 250,000 for departure and more than 300,000 for arrivals; but still it is visible a bulk of delayed flights too: around 200,000 for departure and close to 150,000 for arrivals.\n",
    "\n",
    "But how many flights were on track that day (not cancelled or not diverted)? (see Pie Chart below)\n",
    "\n",
    "Interesting that the frequency for ontime flights are different in both plots; with an approximate difference around 50,000 flights, which delays are in the negative range from -100 to 0 minutes.\n",
    "\n",
    "It might be worthy to explore these skewed distributions on a log scale."
   ]
  },
  {
   "cell_type": "code",
   "execution_count": 27,
   "metadata": {},
   "outputs": [
    {
     "data": {
      "image/png": "[encoded data removed]",
      "text/plain": [
       "<matplotlib.figure.Figure at 0x1afa0a47da0>"
      ]
     },
     "metadata": {},
     "output_type": "display_data"
    }
   ],
   "source": [
    "# Delayed departures and arrivals on a log scale\n",
    "\n",
    "plt.figure(figsize = [15, 5]);\n",
    "\n",
    "dep_bins = 10 ** np.arange(np.log10(15), np.log10(dep_delay.max())+0.07, 0.07)\n",
    "arr_bins = 10 ** np.arange(np.log10(15), np.log10(arr_delay.max())+0.07, 0.07)\n",
    "\n",
    "xticks = [15, 20, 35, 50, 75, 100, 150, 200, 350, 500, 1000]\n",
    "\n",
    "ax1 = plt.subplot(1,2,1)\n",
    "plt.hist(dep_delay, bins=dep_bins, color='silver')\n",
    "plt.xscale('log')\n",
    "plt.xlabel('Log Departure Delay (mins)')\n",
    "plt.xticks(xticks, xticks);\n",
    "\n",
    "ax2 = plt.subplot(1,2,2, sharey=ax1)\n",
    "plt.hist(arr_delay, bins=arr_bins, color='silver')\n",
    "plt.xscale('log')\n",
    "plt.xlabel('Log Arrival Delay (mins)')\n",
    "plt.xticks(xticks, xticks);"
   ]
  },
  {
   "cell_type": "markdown",
   "metadata": {},
   "source": [
    "When plotted on a log-scale, the delay distributions have a sloping shape (similar to a Weibull distribution) as for departures and as for arrivals. Both plots are very similar, with peaks on same intervals, although with different frequencies. The most frequent delays are situated in the range of 20-25 minutes.\n",
    "Outliers seem to be located on delays greater than 8 hours (>= 500 minutes) in both plots."
   ]
  },
  {
   "cell_type": "markdown",
   "metadata": {},
   "source": [
    "#### On Time, Delayed, Cancelled and Diverted Flights on December 2008"
   ]
  },
  {
   "cell_type": "code",
   "execution_count": 28,
   "metadata": {},
   "outputs": [
    {
     "data": {
      "image/png": "[encoded data removed]",
      "text/plain": [
       "<matplotlib.figure.Figure at 0x1afa9c95860>"
      ]
     },
     "metadata": {},
     "output_type": "display_data"
    }
   ],
   "source": [
    "# Pie chart plotting\n",
    "\n",
    "status = ['On Time', 'Delayed', 'Cancelled', 'Diverted']\n",
    "sizes  = [len(ontime_arr_flights), len(delay_arr_flights), len(cancelled_flights), len(diverted_flights)]\n",
    "total  = sum(sizes)\n",
    "labels = ['{:.2f}%'.format(sizes[i]*100/total) for i in np.arange(0,4)]\n",
    "colors = ['thistle','lavender', 'lightblue', 'darkorchid']\n",
    "\n",
    "patches, texts, autotexts = plt.pie(sizes, autopct='', startangle=90, colors=colors)\n",
    "\n",
    "plt.axis('square') # equal aspect ratio ensures that pie is drawn as a circle\n",
    "plt.title('Percentage of Domestic Flight Status on Dec-2008\\n', fontsize=14)\n",
    "\n",
    "subtotal_list = ['{}: {} ({})'.format(status[i], sizes[i], labels[i]) for i in np.arange(0,4)]\n",
    "\n",
    "plt.legend(patches, subtotal_list, bbox_to_anchor=(-0.1, 1.), fontsize=10);"
   ]
  },
  {
   "cell_type": "markdown",
   "metadata": {},
   "source": [
    "Out of 544,958 scheduled flight operations on Dec-2008, 356,100 were on time (65.34%), 168,647 (30.95%) delayed, 17,779 (3.26%) were cancelled and 2,432 (.45%) were diverted.\n",
    "Flights with arrival delays over 15 minutes are the ones considered as 'delayed'."
   ]
  },
  {
   "cell_type": "markdown",
   "metadata": {},
   "source": [
    "#### Flights Operations by Airlines on Dec-2008"
   ]
  },
  {
   "cell_type": "code",
   "execution_count": 29,
   "metadata": {
    "collapsed": true
   },
   "outputs": [],
   "source": [
    "# Dictionary of airlines codes and names\n",
    "Airlines = {'9E':'Endeavor Air', 'AA':'American Airlines', 'AS':'Alaska Airlines', 'B6':'JetBlue Airways',\\\n",
    "            'CO':'Continental Air Lines', 'DL':'Delta Air Lines', 'EV':'ExpressJet Airlines', 'F9':'Frontier Airlines',\\\n",
    "            'FL':'AirTran Airways', 'HA': 'Hawaiian Airlines', 'MQ':'Envoy Air', 'NW':'Northwest Airlines',\\\n",
    "            'OH':'PSA Airlines', 'OO':'SkyWest Airlines', 'UA':'United Air Lines', 'US':'US Airways',\\\n",
    "            'WN': 'Southwest Airlines', 'XE':'ExpressJet Airlines(1)', 'YV':'Mesa Airlines'}"
   ]
  },
  {
   "cell_type": "code",
   "execution_count": 30,
   "metadata": {},
   "outputs": [
    {
     "data": {
      "image/png": "[encoded data removed]",
      "text/plain": [
       "<matplotlib.figure.Figure at 0x1afa9cd8d68>"
      ]
     },
     "metadata": {},
     "output_type": "display_data"
    }
   ],
   "source": [
    "# Bar chart plotting\n",
    "\n",
    "cat_order = flights_0812['UniqueCarrier'].value_counts().index\n",
    "\n",
    "plt.figure(figsize=(8,6))\n",
    "sb.countplot(data=flights_0812, y='UniqueCarrier', color='lightblue', order=cat_order)\n",
    "\n",
    "plt.title( 'Domestic Flights on Dec-2008', fontsize=14)\n",
    "plt.xlabel('Flight Operations')\n",
    "plt.ylabel('Airlines');\n",
    "\n",
    "xlocs   = [0, 10e3, 20e3, 30e3, 40e3, 50e3, 60e3, 70e3, 80e3, 90e3, 10e4]\n",
    "xlabels = ['{}k'.format(i*10) for i in np.arange(0,11)]\n",
    "plt.xticks(xlocs, xlabels)\n",
    "\n",
    "ylocs, ylabels = plt.yticks()\n",
    "ylabels = [Airlines[cat] for cat in cat_order]\n",
    "plt.yticks(ylocs, ylabels);"
   ]
  },
  {
   "cell_type": "markdown",
   "metadata": {},
   "source": [
    "The airline with more flight operations (almost 100,000) on Dec-2008 was Southwest, followed by American and Skywest (both airlines with operations above the mid 40,000).\n",
    "On the bottom side, Frontier and Hawaiian Airlines, operated each one less than 10,000 flights that period."
   ]
  },
  {
   "cell_type": "code",
   "execution_count": 31,
   "metadata": {
    "scrolled": true
   },
   "outputs": [
    {
     "data": {
      "image/png": "[encoded data removed]",
      "text/plain": [
       "<matplotlib.figure.Figure at 0x1afa9b487b8>"
      ]
     },
     "metadata": {},
     "output_type": "display_data"
    }
   ],
   "source": [
    "# Bar chart plotting of airlines by flight statuses\n",
    "fig, ax = plt.subplots(nrows=4, figsize=[10,20]);\n",
    "\n",
    "flight_status = [ontime_arr_flights, delay_arr_flights, cancelled_flights, diverted_flights]\n",
    "\n",
    "orders = [ ontime_arr_flights['UniqueCarrier'].value_counts().index,\\\n",
    "           delay_arr_flights['UniqueCarrier'].value_counts().index,\\\n",
    "           cancelled_flights['UniqueCarrier'].value_counts().index,\\\n",
    "           diverted_flights['UniqueCarrier'].value_counts().index]\n",
    "\n",
    "for i in np.arange(0,len(status)):\n",
    "    sb.countplot(data=flight_status[i], y='UniqueCarrier', color=colors[i], order=orders[i], ax=ax[i])\n",
    "    ax[i].set(xlabel=status[i]+' Flights', yticklabels=[Airlines[order] for order in orders[i]])\n",
    "\n",
    "plt.show()"
   ]
  },
  {
   "cell_type": "markdown",
   "metadata": {},
   "source": [
    "ESCRIBIR ANALISIS\n",
    "\n",
    "For on time flights,\n",
    "\n",
    "\n",
    "Envoy is situated among the top-5 delayed, the first on cancelled and in the top-5 diverted.\n",
    "\n",
    "the bar chart got the same airlines order like in the bar chart for all domestic flights operations; and it makes sense since it represents 96.29% of the data.\n",
    "Southwest remain in the top with more scheduled flight operations on Dec-2008, except for cancelled flights, were Envoy has the 1st position and Southwest the 2nd.\n",
    "On the bottom end, Frontier and Hawaiian are located as the airlines with the least scheduled flight operations, regardless the status.\n",
    "\n",
    "Relative frequencies of cancellations and diversions in relation to total of flights operations per airline, would give better sense of proportions of each airline on these statuses."
   ]
  },
  {
   "cell_type": "markdown",
   "metadata": {},
   "source": [
    "GROUP BY AIRLINE AND CALCULATE OF CANCELLATION AND DIVERSION PROPORTIONS\n",
    "ALSO GROUP BY AIRLINE TO SEE THE PROPORTION OF DELAYS\n",
    "\n",
    "BOTH ABOVE ALSO GROUPED BY STATES"
   ]
  },
  {
   "cell_type": "markdown",
   "metadata": {},
   "source": [
    "#### Domestic Flights Operations per Days of Week\n",
    "\n",
    "Since December has 31 days, 4 weeks + 3 days, the frequency of days of the week is 4 for four days and 5 for the other three days. To be fair on the Days of Week comparison, the frequency flights will be measured by the average of flights per day of the week."
   ]
  },
  {
   "cell_type": "code",
   "execution_count": 32,
   "metadata": {},
   "outputs": [
    {
     "data": {
      "image/png": "[encoded data removed]",
      "text/plain": [
       "<matplotlib.figure.Figure at 0x1afa9b43d30>"
      ]
     },
     "metadata": {},
     "output_type": "display_data"
    }
   ],
   "source": [
    "# Bar plotting\n",
    "plt.figure(figsize=[8,6]);\n",
    "\n",
    "days = ['Monday', 'Tuesday', 'Wednesday', 'Thursday', 'Friday', 'Saturday', 'Sunday']\n",
    "days_frequency = [5,5,5,4,4,4,4]\n",
    "\n",
    "groupby_day_wk = flights_0812.groupby('DayOfWeek').count()[['DayofMonth']]\n",
    "day_avg = groupby_day_wk.DayofMonth / days_frequency # average of flights per day of the week\n",
    "\n",
    "plt.bar(day_avg.index, day_avg, color='peachpuff')\n",
    "plt.xticks(np.arange(1,8), days)\n",
    "plt.yticks([2500,5000,7500,10000,12500,15000,17500],['2,5k','5k','7,5k','10k','12,5k','15k','17,5k']);"
   ]
  },
  {
   "cell_type": "markdown",
   "metadata": {},
   "source": [
    "On Dec-2008, the most popular traveling day was Friday, followed by Monday (both days with an average around 18,500 daily flights). The less popular traveling day was Saturday (average around 15,500 daily flights)."
   ]
  },
  {
   "cell_type": "markdown",
   "metadata": {},
   "source": [
    "#### Domestic Flights Timeline on Dec-2008"
   ]
  },
  {
   "cell_type": "code",
   "execution_count": 33,
   "metadata": {},
   "outputs": [
    {
     "data": {
      "image/png": "[encoded data removed]",
      "text/plain": [
       "<matplotlib.figure.Figure at 0x1afa0a11400>"
      ]
     },
     "metadata": {},
     "output_type": "display_data"
    }
   ],
   "source": [
    "# Timeline plotting\n",
    "plt.figure(figsize=[16,4])\n",
    "groupby_day = flights_0812.groupby('DayofMonth').count()[['DayOfWeek']]\n",
    "\n",
    "plt.errorbar(data=groupby_day, x=groupby_day.index, y=groupby_day);\n",
    "\n",
    "plt.title( 'Domestic Flights Timeline', fontsize=14)\n",
    "plt.xlabel('December 2008 (day)')\n",
    "plt.ylabel('Number of Flights')\n",
    "\n",
    "xticks = np.arange(1,32)\n",
    "plt.xticks(xticks, xticks, rotation=45);"
   ]
  },
  {
   "cell_type": "markdown",
   "metadata": {},
   "source": [
    "On every week the timeline looks similar ('bimodal' shape) until December 20th (a day before Hanukkah commences). From this date on, the frequency of flight operations is exceptional per the Winter Holidays: the frequency ascends through the 22nd-23rd, and then it plummets on Christmas eve and remains pretty much the same on Christmas day.\n",
    "On the same Holidays, like Christmas and New Year's Eve (both on Wednesdays), flights operation drop drastically.\n",
    "\n",
    "The 'bimodal' shape shows peaks on Fridays (days 5, 12, 19, 26) and lower spikes on Saturdays (days 6, 13, 20 and 27). A weaker plummeting in flights frequency occurs on Tuesdays (days 2,9,16).\n",
    "\n",
    "About frequencies, the lowest points show around 14,500 flights (Dec 6, 13) and the top ones above 18,000 flights. The maximum frequency (close to 19,000) was on December 1st (first Monday after Thanksgiving 2008)."
   ]
  },
  {
   "cell_type": "markdown",
   "metadata": {},
   "source": [
    "#### Flights Operations from/to State on Dec-2008"
   ]
  },
  {
   "cell_type": "code",
   "execution_count": 34,
   "metadata": {
    "collapsed": true
   },
   "outputs": [
    {
     "name": "stdout",
     "output_type": "stream",
     "text": [
      "CA    62278\n",
      "TX    58499\n",
      "FL    38718\n",
      "GA    35359\n",
      "IL    34734\n",
      "NY    25208\n",
      "CO    22934\n",
      "AZ    17858\n",
      "NC    16893\n",
      "OH    16094\n",
      "MI    15400\n",
      "NV    14877\n",
      "DC    12784\n",
      "TN    12725\n",
      "PA    12687\n",
      "UT    11156\n",
      "NJ    10459\n",
      "MN    10139\n",
      "MO     9906\n",
      "WA     9652\n",
      "HI     9385\n",
      "MA     9060\n",
      "MD     8239\n",
      "WI     5872\n",
      "OR     5841\n",
      "LA     5243\n",
      "IN     4598\n",
      "OK     3831\n",
      "VA     3789\n",
      "AL     3582\n",
      "NM     3276\n",
      "SC     3150\n",
      "AK     2809\n",
      "AR     2780\n",
      "KY     2509\n",
      "NE     2407\n",
      "IA     2333\n",
      "CT     2148\n",
      "ID     2098\n",
      "PR     1924\n",
      "MS     1846\n",
      "RI     1775\n",
      "MT     1535\n",
      "NH     1410\n",
      "KS     1116\n",
      "WY      799\n",
      "SD      758\n",
      "ND      666\n",
      "ME      640\n",
      "VT      531\n",
      "WV      351\n",
      "VI      297\n",
      "dtype: int64\n"
     ]
    },
    {
     "data": {
      "text/plain": [
       "52"
      ]
     },
     "execution_count": 34,
     "metadata": {},
     "output_type": "execute_result"
    }
   ],
   "source": [
    "# Split the Origin fields (city:State and airport) and extract the State\n",
    "origin_city_airport = flights_0812.OriginDescription.str.split(':')\n",
    "states_list = [city[0][-2:] for city in origin_city_airport]\n",
    "\n",
    "# Count the ocurrences of each State, convert from Counter object to Series and sort descending by values\n",
    "origin_valct = pd.Series(Counter(states_list)).sort_values(ascending=False)\n",
    "print(origin_valct)\n",
    "len(origin_valct)\n",
    "\n",
    "# https://stackoverflow.com/questions/2600191/how-can-i-count-the-occurrences-of-a-list-item"
   ]
  },
  {
   "cell_type": "markdown",
   "metadata": {},
   "source": [
    "*Notice that there are 52 States, since PR (Puerto Rico) and VI (Virgin Islands) are included in the data.\n",
    "For the State Heatmap, unfortunately there is no way under the parameter 'locationmode' to incorporate these origins in.\n",
    "The same will apply for destinations*"
   ]
  },
  {
   "cell_type": "code",
   "execution_count": 35,
   "metadata": {},
   "outputs": [
    {
     "data": {
      "application/vnd.plotly.v1+json": {
       "config": {
        "linkText": "Export to plot.ly",
        "plotlyServerURL": "https://plot.ly",
        "showLink": false
       },
       "data": [
        {
         "autocolorscale": false,
         "colorbar": {
          "title": {
           "text": "Flights Operations"
          }
         },
         "colorscale": [
          [
           0,
           "rgb(242,240,247)"
          ],
          [
           0.2,
           "rgb(218,218,235)"
          ],
          [
           0.4,
           "rgb(188,189,220)"
          ],
          [
           0.6,
           "rgb(158,154,200)"
          ],
          [
           0.8,
           "rgb(117,107,177)"
          ],
          [
           1,
           "rgb(84,39,143)"
          ]
         ],
         "locationmode": "USA-states",
         "locations": [
          "CA",
          "TX",
          "FL",
          "GA",
          "IL",
          "NY",
          "CO",
          "AZ",
          "NC",
          "OH",
          "MI",
          "NV",
          "DC",
          "TN",
          "PA",
          "UT",
          "NJ",
          "MN",
          "MO",
          "WA",
          "HI",
          "MA",
          "MD",
          "WI",
          "OR",
          "LA",
          "IN",
          "OK",
          "VA",
          "AL",
          "NM",
          "SC",
          "AK",
          "AR",
          "KY",
          "NE",
          "IA",
          "CT",
          "ID",
          "PR",
          "MS",
          "RI",
          "MT",
          "NH",
          "KS",
          "WY",
          "SD",
          "ND",
          "ME",
          "VT",
          "WV",
          "VI"
         ],
         "marker": {
          "line": {
           "color": "rgb(255,255,255)",
           "width": 2
          }
         },
         "type": "choropleth",
         "uid": "7d08eb6f-e02f-4840-a9e7-bad28140f55f",
         "z": [
          62278,
          58499,
          38718,
          35359,
          34734,
          25208,
          22934,
          17858,
          16893,
          16094,
          15400,
          14877,
          12784,
          12725,
          12687,
          11156,
          10459,
          10139,
          9906,
          9652,
          9385,
          9060,
          8239,
          5872,
          5841,
          5243,
          4598,
          3831,
          3789,
          3582,
          3276,
          3150,
          2809,
          2780,
          2509,
          2407,
          2333,
          2148,
          2098,
          1924,
          1846,
          1775,
          1535,
          1410,
          1116,
          799,
          758,
          666,
          640,
          531,
          351,
          297
         ]
        }
       ],
       "layout": {
        "geo": {
         "projection": {
          "type": "albers usa"
         },
         "scope": "north america"
        },
        "title": {
         "text": "Domestic Flights FROM State on Dec-2008<br>"
        }
       }
      },
      "text/html": [
       "<div id=\"61c006f9-8944-4111-a56f-5c1762b8aeee\" style=\"height: 525px; width: 100%;\" class=\"plotly-graph-div\"></div><script type=\"text/javascript\">require([\"plotly\"], function(Plotly) { window.PLOTLYENV=window.PLOTLYENV || {};window.PLOTLYENV.BASE_URL=\"https://plot.ly\";Plotly.newPlot(\"61c006f9-8944-4111-a56f-5c1762b8aeee\", [{\"autocolorscale\": false, \"colorbar\": {\"title\": {\"text\": \"Flights Operations\"}}, \"colorscale\": [[0.0, \"rgb(242,240,247)\"], [0.2, \"rgb(218,218,235)\"], [0.4, \"rgb(188,189,220)\"], [0.6, \"rgb(158,154,200)\"], [0.8, \"rgb(117,107,177)\"], [1.0, \"rgb(84,39,143)\"]], \"locationmode\": \"USA-states\", \"locations\": [\"CA\", \"TX\", \"FL\", \"GA\", \"IL\", \"NY\", \"CO\", \"AZ\", \"NC\", \"OH\", \"MI\", \"NV\", \"DC\", \"TN\", \"PA\", \"UT\", \"NJ\", \"MN\", \"MO\", \"WA\", \"HI\", \"MA\", \"MD\", \"WI\", \"OR\", \"LA\", \"IN\", \"OK\", \"VA\", \"AL\", \"NM\", \"SC\", \"AK\", \"AR\", \"KY\", \"NE\", \"IA\", \"CT\", \"ID\", \"PR\", \"MS\", \"RI\", \"MT\", \"NH\", \"KS\", \"WY\", \"SD\", \"ND\", \"ME\", \"VT\", \"WV\", \"VI\"], \"marker\": {\"line\": {\"color\": \"rgb(255,255,255)\", \"width\": 2}}, \"z\": [62278, 58499, 38718, 35359, 34734, 25208, 22934, 17858, 16893, 16094, 15400, 14877, 12784, 12725, 12687, 11156, 10459, 10139, 9906, 9652, 9385, 9060, 8239, 5872, 5841, 5243, 4598, 3831, 3789, 3582, 3276, 3150, 2809, 2780, 2509, 2407, 2333, 2148, 2098, 1924, 1846, 1775, 1535, 1410, 1116, 799, 758, 666, 640, 531, 351, 297], \"type\": \"choropleth\", \"uid\": \"769683d3-2909-48b8-b3ec-78d858015a3b\"}], {\"geo\": {\"projection\": {\"type\": \"albers usa\"}, \"scope\": \"north america\"}, \"title\": {\"text\": \"Domestic Flights FROM State on Dec-2008<br>\"}}, {\"showLink\": false, \"linkText\": \"Export to plot.ly\", \"plotlyServerURL\": \"https://plot.ly\"})});</script><script type=\"text/javascript\">window.addEventListener(\"resize\", function(){window._Plotly.Plots.resize(document.getElementById(\"61c006f9-8944-4111-a56f-5c1762b8aeee\"));});</script>"
      ],
      "text/vnd.plotly.v1+html": [
       "<div id=\"61c006f9-8944-4111-a56f-5c1762b8aeee\" style=\"height: 525px; width: 100%;\" class=\"plotly-graph-div\"></div><script type=\"text/javascript\">require([\"plotly\"], function(Plotly) { window.PLOTLYENV=window.PLOTLYENV || {};window.PLOTLYENV.BASE_URL=\"https://plot.ly\";Plotly.newPlot(\"61c006f9-8944-4111-a56f-5c1762b8aeee\", [{\"autocolorscale\": false, \"colorbar\": {\"title\": {\"text\": \"Flights Operations\"}}, \"colorscale\": [[0.0, \"rgb(242,240,247)\"], [0.2, \"rgb(218,218,235)\"], [0.4, \"rgb(188,189,220)\"], [0.6, \"rgb(158,154,200)\"], [0.8, \"rgb(117,107,177)\"], [1.0, \"rgb(84,39,143)\"]], \"locationmode\": \"USA-states\", \"locations\": [\"CA\", \"TX\", \"FL\", \"GA\", \"IL\", \"NY\", \"CO\", \"AZ\", \"NC\", \"OH\", \"MI\", \"NV\", \"DC\", \"TN\", \"PA\", \"UT\", \"NJ\", \"MN\", \"MO\", \"WA\", \"HI\", \"MA\", \"MD\", \"WI\", \"OR\", \"LA\", \"IN\", \"OK\", \"VA\", \"AL\", \"NM\", \"SC\", \"AK\", \"AR\", \"KY\", \"NE\", \"IA\", \"CT\", \"ID\", \"PR\", \"MS\", \"RI\", \"MT\", \"NH\", \"KS\", \"WY\", \"SD\", \"ND\", \"ME\", \"VT\", \"WV\", \"VI\"], \"marker\": {\"line\": {\"color\": \"rgb(255,255,255)\", \"width\": 2}}, \"z\": [62278, 58499, 38718, 35359, 34734, 25208, 22934, 17858, 16893, 16094, 15400, 14877, 12784, 12725, 12687, 11156, 10459, 10139, 9906, 9652, 9385, 9060, 8239, 5872, 5841, 5243, 4598, 3831, 3789, 3582, 3276, 3150, 2809, 2780, 2509, 2407, 2333, 2148, 2098, 1924, 1846, 1775, 1535, 1410, 1116, 799, 758, 666, 640, 531, 351, 297], \"type\": \"choropleth\", \"uid\": \"769683d3-2909-48b8-b3ec-78d858015a3b\"}], {\"geo\": {\"projection\": {\"type\": \"albers usa\"}, \"scope\": \"north america\"}, \"title\": {\"text\": \"Domestic Flights FROM State on Dec-2008<br>\"}}, {\"showLink\": false, \"linkText\": \"Export to plot.ly\", \"plotlyServerURL\": \"https://plot.ly\"})});</script><script type=\"text/javascript\">window.addEventListener(\"resize\", function(){window._Plotly.Plots.resize(document.getElementById(\"61c006f9-8944-4111-a56f-5c1762b8aeee\"));});</script>"
      ]
     },
     "metadata": {},
     "output_type": "display_data"
    }
   ],
   "source": [
    "# (Origin) State Heatmap plotting\n",
    "scl = [[0.0, 'rgb(242,240,247)'],[0.2, 'rgb(218,218,235)'],[0.4, 'rgb(188,189,220)'],\\\n",
    "            [0.6, 'rgb(158,154,200)'],[0.8, 'rgb(117,107,177)'],[1.0, 'rgb(84,39,143)']]\n",
    "\n",
    "data = [ dict(\n",
    "        type='choropleth',\n",
    "        colorscale=scl,\n",
    "        autocolorscale=False,\n",
    "        locations=origin_valct.index,\n",
    "        z=origin_valct,\n",
    "        locationmode='USA-states',\n",
    "        marker = dict(line = dict(color='rgb(255,255,255)', width=2)),\n",
    "        colorbar = dict(title=\"Flights Operations\")\n",
    "    ) ]\n",
    "\n",
    "layout = dict(\n",
    "        title = 'Domestic Flights FROM State on Dec-2008<br>',\n",
    "        geo = dict(scope='north america', projection=dict( type='albers usa'))\n",
    "        )\n",
    "\n",
    "fig = dict( data=data, layout=layout )\n",
    "\n",
    "iplot( fig, filename='origin-cloropleth-map' )\n",
    "\n",
    "# Source: https://datascience.stackexchange.com/questions/9616/how-to-create-us-state-heatmap"
   ]
  },
  {
   "cell_type": "markdown",
   "metadata": {},
   "source": [
    "Origin States with more flight operations (around 60k) on Dec-2008 were California (62,278) and Texas (58,499), followed by Florida (38,718), Georgia (35,359) and Illinois (34,734). On the bottom end below the 10k flights operations, are Wyoming (799), South Dakota (758),  North Dakota (666), Maine (640), Vermont (531) and West Virginia (351). The top ones are shaded darker and the bottom ones in lighter shades."
   ]
  },
  {
   "cell_type": "markdown",
   "metadata": {},
   "source": [
    "*These numbers are visible as hovering over the States in the map*"
   ]
  },
  {
   "cell_type": "code",
   "execution_count": 36,
   "metadata": {
    "scrolled": true
   },
   "outputs": [
    {
     "data": {
      "text/plain": [
       "CA    62280\n",
       "TX    58495\n",
       "FL    38729\n",
       "GA    35404\n",
       "IL    34732\n",
       "NY    25202\n",
       "CO    22936\n",
       "AZ    17867\n",
       "NC    16892\n",
       "OH    16085\n",
       "MI    15395\n",
       "NV    14880\n",
       "DC    12780\n",
       "TN    12719\n",
       "PA    12690\n",
       "UT    11167\n",
       "NJ    10453\n",
       "MN    10143\n",
       "MO     9913\n",
       "WA     9652\n",
       "HI     9384\n",
       "MA     9057\n",
       "MD     8238\n",
       "WI     5878\n",
       "OR     5838\n",
       "LA     5234\n",
       "IN     4587\n",
       "OK     3823\n",
       "VA     3786\n",
       "AL     3581\n",
       "NM     3277\n",
       "SC     3144\n",
       "AK     2813\n",
       "AR     2778\n",
       "KY     2506\n",
       "NE     2406\n",
       "IA     2331\n",
       "CT     2145\n",
       "ID     2094\n",
       "PR     1930\n",
       "MS     1842\n",
       "RI     1775\n",
       "MT     1536\n",
       "NH     1409\n",
       "KS     1115\n",
       "WY      796\n",
       "SD      759\n",
       "ND      666\n",
       "ME      639\n",
       "VT      531\n",
       "WV      349\n",
       "VI      297\n",
       "dtype: int64"
      ]
     },
     "execution_count": 36,
     "metadata": {},
     "output_type": "execute_result"
    }
   ],
   "source": [
    "# Split the Destination fields (city:State and airport) and extract the State\n",
    "destin_city_airport = flights_0812.DestDescription.str.split(':')\n",
    "states_list = [city[0][-2:] for city in destin_city_airport]\n",
    "\n",
    "# Count the ocurrences of each State, convert from Counter object to Series and sort by values\n",
    "destin_valct = pd.Series(Counter(states_list)).sort_values(ascending=False)\n",
    "destin_valct"
   ]
  },
  {
   "cell_type": "code",
   "execution_count": 37,
   "metadata": {
    "collapsed": true
   },
   "outputs": [
    {
     "data": {
      "application/vnd.plotly.v1+json": {
       "config": {
        "linkText": "Export to plot.ly",
        "plotlyServerURL": "https://plot.ly",
        "showLink": false
       },
       "data": [
        {
         "autocolorscale": false,
         "colorbar": {
          "title": {
           "text": "Flights Operations"
          }
         },
         "colorscale": [
          [
           0,
           "rgb(242,240,247)"
          ],
          [
           0.2,
           "rgb(218,218,235)"
          ],
          [
           0.4,
           "rgb(188,189,220)"
          ],
          [
           0.6,
           "rgb(158,154,200)"
          ],
          [
           0.8,
           "rgb(117,107,177)"
          ],
          [
           1,
           "rgb(84,39,143)"
          ]
         ],
         "locationmode": "USA-states",
         "locations": [
          "CA",
          "TX",
          "FL",
          "GA",
          "IL",
          "NY",
          "CO",
          "AZ",
          "NC",
          "OH",
          "MI",
          "NV",
          "DC",
          "TN",
          "PA",
          "UT",
          "NJ",
          "MN",
          "MO",
          "WA",
          "HI",
          "MA",
          "MD",
          "WI",
          "OR",
          "LA",
          "IN",
          "OK",
          "VA",
          "AL",
          "NM",
          "SC",
          "AK",
          "AR",
          "KY",
          "NE",
          "IA",
          "CT",
          "ID",
          "PR",
          "MS",
          "RI",
          "MT",
          "NH",
          "KS",
          "WY",
          "SD",
          "ND",
          "ME",
          "VT",
          "WV",
          "VI"
         ],
         "marker": {
          "line": {
           "color": "rgb(255,255,255)",
           "width": 2
          }
         },
         "type": "choropleth",
         "uid": "62f13331-3a66-4c35-8c02-33697ad83687",
         "z": [
          62280,
          58495,
          38729,
          35404,
          34732,
          25202,
          22936,
          17867,
          16892,
          16085,
          15395,
          14880,
          12780,
          12719,
          12690,
          11167,
          10453,
          10143,
          9913,
          9652,
          9384,
          9057,
          8238,
          5878,
          5838,
          5234,
          4587,
          3823,
          3786,
          3581,
          3277,
          3144,
          2813,
          2778,
          2506,
          2406,
          2331,
          2145,
          2094,
          1930,
          1842,
          1775,
          1536,
          1409,
          1115,
          796,
          759,
          666,
          639,
          531,
          349,
          297
         ]
        }
       ],
       "layout": {
        "geo": {
         "projection": {
          "type": "albers usa"
         },
         "scope": "north america"
        },
        "title": {
         "text": "Domestic Flights TO State on Dec-2008<br>"
        }
       }
      },
      "text/html": [
       "<div id=\"7576736f-555b-40dc-952b-9f22de832d08\" style=\"height: 525px; width: 100%;\" class=\"plotly-graph-div\"></div><script type=\"text/javascript\">require([\"plotly\"], function(Plotly) { window.PLOTLYENV=window.PLOTLYENV || {};window.PLOTLYENV.BASE_URL=\"https://plot.ly\";Plotly.newPlot(\"7576736f-555b-40dc-952b-9f22de832d08\", [{\"autocolorscale\": false, \"colorbar\": {\"title\": {\"text\": \"Flights Operations\"}}, \"colorscale\": [[0.0, \"rgb(242,240,247)\"], [0.2, \"rgb(218,218,235)\"], [0.4, \"rgb(188,189,220)\"], [0.6, \"rgb(158,154,200)\"], [0.8, \"rgb(117,107,177)\"], [1.0, \"rgb(84,39,143)\"]], \"locationmode\": \"USA-states\", \"locations\": [\"CA\", \"TX\", \"FL\", \"GA\", \"IL\", \"NY\", \"CO\", \"AZ\", \"NC\", \"OH\", \"MI\", \"NV\", \"DC\", \"TN\", \"PA\", \"UT\", \"NJ\", \"MN\", \"MO\", \"WA\", \"HI\", \"MA\", \"MD\", \"WI\", \"OR\", \"LA\", \"IN\", \"OK\", \"VA\", \"AL\", \"NM\", \"SC\", \"AK\", \"AR\", \"KY\", \"NE\", \"IA\", \"CT\", \"ID\", \"PR\", \"MS\", \"RI\", \"MT\", \"NH\", \"KS\", \"WY\", \"SD\", \"ND\", \"ME\", \"VT\", \"WV\", \"VI\"], \"marker\": {\"line\": {\"color\": \"rgb(255,255,255)\", \"width\": 2}}, \"z\": [62280, 58495, 38729, 35404, 34732, 25202, 22936, 17867, 16892, 16085, 15395, 14880, 12780, 12719, 12690, 11167, 10453, 10143, 9913, 9652, 9384, 9057, 8238, 5878, 5838, 5234, 4587, 3823, 3786, 3581, 3277, 3144, 2813, 2778, 2506, 2406, 2331, 2145, 2094, 1930, 1842, 1775, 1536, 1409, 1115, 796, 759, 666, 639, 531, 349, 297], \"type\": \"choropleth\", \"uid\": \"d68a5303-73c6-47b1-90bd-15431ba1f1ce\"}], {\"geo\": {\"projection\": {\"type\": \"albers usa\"}, \"scope\": \"north america\"}, \"title\": {\"text\": \"Domestic Flights TO State on Dec-2008<br>\"}}, {\"showLink\": false, \"linkText\": \"Export to plot.ly\", \"plotlyServerURL\": \"https://plot.ly\"})});</script><script type=\"text/javascript\">window.addEventListener(\"resize\", function(){window._Plotly.Plots.resize(document.getElementById(\"7576736f-555b-40dc-952b-9f22de832d08\"));});</script>"
      ],
      "text/vnd.plotly.v1+html": [
       "<div id=\"7576736f-555b-40dc-952b-9f22de832d08\" style=\"height: 525px; width: 100%;\" class=\"plotly-graph-div\"></div><script type=\"text/javascript\">require([\"plotly\"], function(Plotly) { window.PLOTLYENV=window.PLOTLYENV || {};window.PLOTLYENV.BASE_URL=\"https://plot.ly\";Plotly.newPlot(\"7576736f-555b-40dc-952b-9f22de832d08\", [{\"autocolorscale\": false, \"colorbar\": {\"title\": {\"text\": \"Flights Operations\"}}, \"colorscale\": [[0.0, \"rgb(242,240,247)\"], [0.2, \"rgb(218,218,235)\"], [0.4, \"rgb(188,189,220)\"], [0.6, \"rgb(158,154,200)\"], [0.8, \"rgb(117,107,177)\"], [1.0, \"rgb(84,39,143)\"]], \"locationmode\": \"USA-states\", \"locations\": [\"CA\", \"TX\", \"FL\", \"GA\", \"IL\", \"NY\", \"CO\", \"AZ\", \"NC\", \"OH\", \"MI\", \"NV\", \"DC\", \"TN\", \"PA\", \"UT\", \"NJ\", \"MN\", \"MO\", \"WA\", \"HI\", \"MA\", \"MD\", \"WI\", \"OR\", \"LA\", \"IN\", \"OK\", \"VA\", \"AL\", \"NM\", \"SC\", \"AK\", \"AR\", \"KY\", \"NE\", \"IA\", \"CT\", \"ID\", \"PR\", \"MS\", \"RI\", \"MT\", \"NH\", \"KS\", \"WY\", \"SD\", \"ND\", \"ME\", \"VT\", \"WV\", \"VI\"], \"marker\": {\"line\": {\"color\": \"rgb(255,255,255)\", \"width\": 2}}, \"z\": [62280, 58495, 38729, 35404, 34732, 25202, 22936, 17867, 16892, 16085, 15395, 14880, 12780, 12719, 12690, 11167, 10453, 10143, 9913, 9652, 9384, 9057, 8238, 5878, 5838, 5234, 4587, 3823, 3786, 3581, 3277, 3144, 2813, 2778, 2506, 2406, 2331, 2145, 2094, 1930, 1842, 1775, 1536, 1409, 1115, 796, 759, 666, 639, 531, 349, 297], \"type\": \"choropleth\", \"uid\": \"d68a5303-73c6-47b1-90bd-15431ba1f1ce\"}], {\"geo\": {\"projection\": {\"type\": \"albers usa\"}, \"scope\": \"north america\"}, \"title\": {\"text\": \"Domestic Flights TO State on Dec-2008<br>\"}}, {\"showLink\": false, \"linkText\": \"Export to plot.ly\", \"plotlyServerURL\": \"https://plot.ly\"})});</script><script type=\"text/javascript\">window.addEventListener(\"resize\", function(){window._Plotly.Plots.resize(document.getElementById(\"7576736f-555b-40dc-952b-9f22de832d08\"));});</script>"
      ]
     },
     "metadata": {},
     "output_type": "display_data"
    }
   ],
   "source": [
    "# (Destination) State Heatmap plotting\n",
    "\n",
    "data[0]['locations'] = destin_valct.index\n",
    "data[0]['z'] = destin_valct\n",
    "layout['title'] = 'Domestic Flights TO State on Dec-2008<br>'\n",
    "\n",
    "fig = dict( data=data, layout=layout )\n",
    "\n",
    "iplot( fig, filename='destin-cloropleth-map' )"
   ]
  },
  {
   "cell_type": "markdown",
   "metadata": {},
   "source": [
    "Destination States with more flight operations (around 60k) on Dec-2008 were California (62,280) and Texas (58,495), followed by Florida (38,729), Georgia (35,404) and Illinois (34,732). On the bottom end below the 10k flights operations, are Wyoming (796), South Dakota (759),  North Dakota (666), Maine (639), Vermont (531) and West Virginia (349). The top ones are shaded darker and the bottom ones in lighter shades."
   ]
  },
  {
   "cell_type": "markdown",
   "metadata": {},
   "source": [
    "*These numbers are visible as hovering over the States in the map*"
   ]
  },
  {
   "cell_type": "code",
   "execution_count": 38,
   "metadata": {
    "collapsed": true
   },
   "outputs": [
    {
     "data": {
      "text/plain": [
       "CA    -2\n",
       "TX     4\n",
       "FL   -11\n",
       "GA   -45\n",
       "IL     2\n",
       "NY     6\n",
       "CO    -2\n",
       "AZ    -9\n",
       "NC     1\n",
       "OH     9\n",
       "MI     5\n",
       "NV    -3\n",
       "DC     4\n",
       "TN     6\n",
       "PA    -3\n",
       "UT   -11\n",
       "NJ     6\n",
       "MN    -4\n",
       "MO    -7\n",
       "WA     0\n",
       "HI     1\n",
       "MA     3\n",
       "MD     1\n",
       "WI    -6\n",
       "OR     3\n",
       "LA     9\n",
       "IN    11\n",
       "OK     8\n",
       "VA     3\n",
       "AL     1\n",
       "NM    -1\n",
       "SC     6\n",
       "AK    -4\n",
       "AR     2\n",
       "KY     3\n",
       "NE     1\n",
       "IA     2\n",
       "CT     3\n",
       "ID     4\n",
       "PR    -6\n",
       "MS     4\n",
       "RI     0\n",
       "MT    -1\n",
       "NH     1\n",
       "KS     1\n",
       "WY     3\n",
       "SD    -1\n",
       "ND     0\n",
       "ME     1\n",
       "VT     0\n",
       "WV     2\n",
       "VI     0\n",
       "dtype: int64"
      ]
     },
     "execution_count": 38,
     "metadata": {},
     "output_type": "execute_result"
    }
   ],
   "source": [
    "origin_valct - destin_valct"
   ]
  },
  {
   "cell_type": "markdown",
   "metadata": {},
   "source": [
    "The difference flights operations by State is very small, keeping the same frequency order as for Origin as for Destination; therefore the heat map for both looks the same, with the same shades on the States. It is likely that these variables are highly correlated with one another."
   ]
  },
  {
   "cell_type": "markdown",
   "metadata": {},
   "source": [
    "### Discuss the distribution(s) of your variable(s) of interest. Were there any unusual points? Did you need to perform any transformations?\n",
    "\n",
    "Logarithm transformation was needed for right skewed distributions of flights with delays greater than 15 minutes. For negative delays, it was not worthy since the logarithm function applies only for positive values.\n",
    "By manipulating the bin sizes to get a better look of the distributions, the resultant shapes were similar to a Weibull distribution as well for departures and as for arrivals. \n",
    "Outliers seem to be located on delays longer than 8 hours.\n",
    "\n",
    "### Of the features you investigated, were there any unusual distributions? Did you perform any operations on the data to tidy, adjust, or change the form of the data? If so, why did you do this?\n",
    "\n",
    "In the exploration of flights operations by airlines, the data was split in four exclusive subsets according the following statuses: on time (arrivals), delayed (late arrivals), cancelled and diverted.\n",
    "The split was a consequence of finding many null values in the original dataset; and it helped to understand the dataset structure: for ex. delayed causes are not null for delayed arrivals, but for the rest of the data is null."
   ]
  },
  {
   "cell_type": "markdown",
   "metadata": {},
   "source": [
    "## Bivariate Exploration\n"
   ]
  },
  {
   "cell_type": "markdown",
   "metadata": {},
   "source": [
    "The dataset offers few numeric variables: two related to delay in minutes (DepDelay and ArrDelay), two related to status (Cancelled and Diverted), and the other related to scheduled/actual departure/arrival times.\n",
    "The ones related to delays and to status are exclusive among them: one cancelled flight is not diverted or viceversa; non-cancelled/non-diverted flights are on track with no-Nan data in their delays fields (which are calculated difference between actual and scheduled times for departures and arrivals).\n",
    "Given this, the only exploration left for numerical variables are between Arrival and Departure delays.\n",
    "\n",
    "The rest of the bivariate exploration will be between the subsets on-track, cancelled and diverted with the categorical variables."
   ]
  },
  {
   "cell_type": "markdown",
   "metadata": {},
   "source": [
    "### PAIR GRIDS FOR SUBSETS WITHOUT NAN VALUES"
   ]
  },
  {
   "cell_type": "markdown",
   "metadata": {},
   "source": [
    "#### ON TIME"
   ]
  },
  {
   "cell_type": "code",
   "execution_count": 3,
   "metadata": {},
   "outputs": [
    {
     "ename": "NameError",
     "evalue": "name 'sb' is not defined",
     "output_type": "error",
     "traceback": [
      "\u001b[1;31m---------------------------------------------------------------------------\u001b[0m",
      "\u001b[1;31mNameError\u001b[0m                                 Traceback (most recent call last)",
      "\u001b[1;32m<ipython-input-3-86d9a3696337>\u001b[0m in \u001b[0;36m<module>\u001b[1;34m()\u001b[0m\n\u001b[0;32m      1\u001b[0m \u001b[0mot_num_vars\u001b[0m \u001b[1;33m=\u001b[0m \u001b[1;33m[\u001b[0m\u001b[1;34m'DayofMonth'\u001b[0m\u001b[1;33m,\u001b[0m \u001b[1;34m'DayOfWeek'\u001b[0m\u001b[1;33m,\u001b[0m \u001b[1;34m'ArrDelay'\u001b[0m\u001b[1;33m,\u001b[0m \u001b[1;34m'DepDelay'\u001b[0m\u001b[1;33m]\u001b[0m\u001b[1;33m\u001b[0m\u001b[0m\n\u001b[1;32m----> 2\u001b[1;33m \u001b[0mg\u001b[0m \u001b[1;33m=\u001b[0m \u001b[0msb\u001b[0m\u001b[1;33m.\u001b[0m\u001b[0mPairGrid\u001b[0m\u001b[1;33m(\u001b[0m\u001b[0mdata\u001b[0m\u001b[1;33m=\u001b[0m\u001b[0montime_arr_flights\u001b[0m\u001b[1;33m,\u001b[0m \u001b[0mvars\u001b[0m\u001b[1;33m=\u001b[0m\u001b[0mot_num_vars\u001b[0m\u001b[1;33m)\u001b[0m\u001b[1;33m\u001b[0m\u001b[0m\n\u001b[0m\u001b[0;32m      3\u001b[0m \u001b[0mg\u001b[0m \u001b[1;33m=\u001b[0m \u001b[0mg\u001b[0m\u001b[1;33m.\u001b[0m\u001b[0mmap_diag\u001b[0m\u001b[1;33m(\u001b[0m\u001b[0mplt\u001b[0m\u001b[1;33m.\u001b[0m\u001b[0mhist\u001b[0m\u001b[1;33m,\u001b[0m \u001b[0mbins\u001b[0m \u001b[1;33m=\u001b[0m \u001b[1;36m100\u001b[0m\u001b[1;33m)\u001b[0m\u001b[1;33m;\u001b[0m\u001b[1;33m\u001b[0m\u001b[0m\n\u001b[0;32m      4\u001b[0m \u001b[0mg\u001b[0m\u001b[1;33m.\u001b[0m\u001b[0mmap_offdiag\u001b[0m\u001b[1;33m(\u001b[0m\u001b[0mplt\u001b[0m\u001b[1;33m.\u001b[0m\u001b[0mscatter\u001b[0m\u001b[1;33m)\u001b[0m\u001b[1;33m\u001b[0m\u001b[0m\n",
      "\u001b[1;31mNameError\u001b[0m: name 'sb' is not defined"
     ]
    }
   ],
   "source": [
    "ot_num_vars = ['DayofMonth', 'DayOfWeek', 'ArrDelay', 'DepDelay']\n",
    "\n",
    "g = sb.PairGrid(data=ontime_arr_flights, vars=ot_num_vars)\n",
    "g = g.map_diag(plt.hist, bins = 100);\n",
    "g.map_offdiag(plt.scatter)"
   ]
  },
  {
   "cell_type": "markdown",
   "metadata": {},
   "source": [
    "#### Flights per the Departure Time  (morning, afternoon, night)\n",
    "#### Relative frequency of flights"
   ]
  },
  {
   "cell_type": "markdown",
   "metadata": {},
   "source": [
    "#### Departure Delay vs Arrival Delay"
   ]
  },
  {
   "cell_type": "code",
   "execution_count": null,
   "metadata": {},
   "outputs": [],
   "source": [
    "plt.scatter(data=flights_0812, x='DepDelay', y='ArrDelay', alpha=.1)\n",
    "plt.xlabel('Departure Delay (mins)')\n",
    "plt.ylabel('Arrival Delay (mins)')\n",
    "plt.axvline(15, color='r')\n",
    "plt.axhline(15, color='r');"
   ]
  },
  {
   "cell_type": "markdown",
   "metadata": {},
   "source": [
    "The red lines divide the scatter plot in four sections, to remark flights considered on time or delayed.\n",
    "\n",
    "It seems there is a very strong positive correlation between Departure and Arrival Delays:\n",
    "Mostly for those flights that depart or arrive before the scheduled time, or are on time (located in the left bottom square).\n",
    "The second main frequency is allocated for ontime departures with delayed arrivals (upper left square).\n",
    "Then on the upper right section, delayed departures follow a linear relationship with delayed arrivals; and finally, a group of delayed departures end up on ontime arrivals (shown in the bottom right section on the plot)."
   ]
  },
  {
   "cell_type": "code",
   "execution_count": null,
   "metadata": {
    "collapsed": true
   },
   "outputs": [],
   "source": []
  },
  {
   "cell_type": "markdown",
   "metadata": {},
   "source": [
    "#### Exploring Outliers: delays over 8 hours"
   ]
  },
  {
   "cell_type": "code",
   "execution_count": null,
   "metadata": {},
   "outputs": [],
   "source": [
    "delay_arr_flights[delay_arr_flights.ArrDelay>=480][delay_cols].sum()"
   ]
  },
  {
   "cell_type": "markdown",
   "metadata": {},
   "source": [
    "The main cause for delays over 8 hours is the Carrier Delay"
   ]
  },
  {
   "cell_type": "markdown",
   "metadata": {},
   "source": [
    "### Talk about some of the relationships you observed in this part of the investigation. How did the feature(s) of interest vary with other features in the dataset?\n",
    "\n",
    "> Your answer here!\n",
    "\n",
    "### Did you observe any interesting relationships between the other features (not the main feature(s) of interest)?\n",
    "\n",
    "> Your answer here!"
   ]
  },
  {
   "cell_type": "markdown",
   "metadata": {},
   "source": [
    "## Multivariate Exploration\n",
    "\n",
    "> Create plots of three or more variables to investigate your data even\n",
    "further. Make sure that your investigations are justified, and follow from\n",
    "your work in the previous sections."
   ]
  },
  {
   "cell_type": "code",
   "execution_count": null,
   "metadata": {
    "collapsed": true
   },
   "outputs": [],
   "source": []
  },
  {
   "cell_type": "markdown",
   "metadata": {},
   "source": [
    "### Talk about some of the relationships you observed in this part of the investigation. Were there features that strengthened each other in terms of looking at your feature(s) of interest?\n",
    "\n",
    "> Your answer here!\n",
    "\n",
    "### Were there any interesting or surprising interactions between features?\n",
    "\n",
    "> Your answer here!"
   ]
  },
  {
   "cell_type": "markdown",
   "metadata": {},
   "source": [
    "> At the end of your report, make sure that you export the notebook as an\n",
    "html file from the `File > Download as... > HTML` menu. Make sure you keep\n",
    "track of where the exported file goes, so you can put it in the same folder\n",
    "as this notebook for project submission. Also, make sure you remove all of\n",
    "the quote-formatted guide notes like this one before you finish your report!"
   ]
  },
  {
   "cell_type": "code",
   "execution_count": null,
   "metadata": {
    "collapsed": true
   },
   "outputs": [],
   "source": []
  }
 ],
 "metadata": {
  "kernelspec": {
   "display_name": "Python 3",
   "language": "python",
   "name": "python3"
  },
  "language_info": {
   "codemirror_mode": {
    "name": "ipython",
    "version": 3
   },
   "file_extension": ".py",
   "mimetype": "text/x-python",
   "name": "python",
   "nbconvert_exporter": "python",
   "pygments_lexer": "ipython3",
   "version": "3.6.2"
  }
 },
 "nbformat": 4,
 "nbformat_minor": 2
}
