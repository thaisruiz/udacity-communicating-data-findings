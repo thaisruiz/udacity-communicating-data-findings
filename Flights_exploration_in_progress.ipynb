{
 "cells": [
  {
   "cell_type": "markdown",
   "metadata": {},
   "source": [
    "# Flights on December 2008 Data Exploration\n",
    "## by Thais Ruiz\n",
    "\n",
    "## Preliminary Wrangling\n",
    "\n",
    "This document explores a dataset of 544,958 domestic flights operations on December 2008.\n"
   ]
  },
  {
   "cell_type": "code",
   "execution_count": 1,
   "metadata": {},
   "outputs": [
    {
     "data": {
      "text/html": [
       "<script type=\"text/javascript\">window.PlotlyConfig = {MathJaxConfig: 'local'};</script><script type=\"text/javascript\">if (window.MathJax) {MathJax.Hub.Config({SVG: {font: \"STIX-Web\"}});}</script><script>requirejs.config({paths: { 'plotly': ['https://cdn.plot.ly/plotly-latest.min']},});if(!window._Plotly) {require(['plotly'],function(plotly) {window._Plotly=plotly;});}</script>"
      ],
      "text/vnd.plotly.v1+html": [
       "<script type=\"text/javascript\">window.PlotlyConfig = {MathJaxConfig: 'local'};</script><script type=\"text/javascript\">if (window.MathJax) {MathJax.Hub.Config({SVG: {font: \"STIX-Web\"}});}</script><script>requirejs.config({paths: { 'plotly': ['https://cdn.plot.ly/plotly-latest.min']},});if(!window._Plotly) {require(['plotly'],function(plotly) {window._Plotly=plotly;});}</script>"
      ]
     },
     "metadata": {},
     "output_type": "display_data"
    }
   ],
   "source": [
    "# import all packages and set plots to be embedded inline\n",
    "import numpy as np\n",
    "import pandas as pd\n",
    "import matplotlib.pyplot as plt\n",
    "import seaborn as sb\n",
    "import os\n",
    "from plotly.offline import init_notebook_mode, iplot\n",
    "from collections import Counter\n",
    "\n",
    "%matplotlib inline\n",
    "\n",
    "init_notebook_mode(connected=True) # send Plotly output to notebook"
   ]
  },
  {
   "cell_type": "code",
   "execution_count": 2,
   "metadata": {
    "collapsed": true
   },
   "outputs": [],
   "source": [
    "# load in the datasets into pandas dataframes\n",
    "file_dir = 'C:/Users/DuranRuiz/Desktop/NanoDegree Data Analyst/Communicate Data Findings Project/Datasource'\n",
    "os.chdir(file_dir)\n",
    "\n",
    "flights_2008 = pd.read_csv('2008.csv')\n",
    "airports = pd.read_csv('L_AIRPORT.csv')"
   ]
  },
  {
   "cell_type": "code",
   "execution_count": 3,
   "metadata": {},
   "outputs": [
    {
     "name": "stdout",
     "output_type": "stream",
     "text": [
      "(7009728, 29)\n",
      "Year                   int64\n",
      "Month                  int64\n",
      "DayofMonth             int64\n",
      "DayOfWeek              int64\n",
      "DepTime              float64\n",
      "CRSDepTime             int64\n",
      "ArrTime              float64\n",
      "CRSArrTime             int64\n",
      "UniqueCarrier         object\n",
      "FlightNum              int64\n",
      "TailNum               object\n",
      "ActualElapsedTime    float64\n",
      "CRSElapsedTime       float64\n",
      "AirTime              float64\n",
      "ArrDelay             float64\n",
      "DepDelay             float64\n",
      "Origin                object\n",
      "Dest                  object\n",
      "Distance               int64\n",
      "TaxiIn               float64\n",
      "TaxiOut              float64\n",
      "Cancelled              int64\n",
      "CancellationCode      object\n",
      "Diverted               int64\n",
      "CarrierDelay         float64\n",
      "WeatherDelay         float64\n",
      "NASDelay             float64\n",
      "SecurityDelay        float64\n",
      "LateAircraftDelay    float64\n",
      "dtype: object\n",
      "   Year  Month  DayofMonth  DayOfWeek  DepTime  CRSDepTime  ArrTime  \\\n",
      "0  2008      1           3          4   2003.0        1955   2211.0   \n",
      "1  2008      1           3          4    754.0         735   1002.0   \n",
      "2  2008      1           3          4    628.0         620    804.0   \n",
      "3  2008      1           3          4    926.0         930   1054.0   \n",
      "4  2008      1           3          4   1829.0        1755   1959.0   \n",
      "\n",
      "   CRSArrTime UniqueCarrier  FlightNum        ...         TaxiIn  TaxiOut  \\\n",
      "0        2225            WN        335        ...            4.0      8.0   \n",
      "1        1000            WN       3231        ...            5.0     10.0   \n",
      "2         750            WN        448        ...            3.0     17.0   \n",
      "3        1100            WN       1746        ...            3.0      7.0   \n",
      "4        1925            WN       3920        ...            3.0     10.0   \n",
      "\n",
      "   Cancelled  CancellationCode  Diverted  CarrierDelay WeatherDelay NASDelay  \\\n",
      "0          0               NaN         0           NaN          NaN      NaN   \n",
      "1          0               NaN         0           NaN          NaN      NaN   \n",
      "2          0               NaN         0           NaN          NaN      NaN   \n",
      "3          0               NaN         0           NaN          NaN      NaN   \n",
      "4          0               NaN         0           2.0          0.0      0.0   \n",
      "\n",
      "   SecurityDelay  LateAircraftDelay  \n",
      "0            NaN                NaN  \n",
      "1            NaN                NaN  \n",
      "2            NaN                NaN  \n",
      "3            NaN                NaN  \n",
      "4            0.0               32.0  \n",
      "\n",
      "[5 rows x 29 columns]\n"
     ]
    }
   ],
   "source": [
    "# high-level overview of data shape and composition\n",
    "print(flights_2008.shape)\n",
    "print(flights_2008.dtypes)\n",
    "print(flights_2008.head())"
   ]
  },
  {
   "cell_type": "code",
   "execution_count": 4,
   "metadata": {},
   "outputs": [
    {
     "name": "stdout",
     "output_type": "stream",
     "text": [
      "(6510, 2)\n",
      "Code           object\n",
      "Description    object\n",
      "dtype: object\n",
      "     Code                                        Description\n",
      "6024  WUG                 Wau, Papua New Guinea: Wau Airport\n",
      "4540  QBN  Middle Bass Island, OH: Middle Bass Island Air...\n",
      "6049  WZY          Nassau, The Bahamas: Nassau Seaplane Base\n",
      "1367  DFI                    Defiance, OH: Defiance Memorial\n",
      "1532  EAG                      Noatak, AK: Eagle Creek Strip\n",
      "1242  CTU                          Chengdu, China: Shuangliu\n",
      "4923  SFO     San Francisco, CA: San Francisco International\n",
      "6023  WTT                     Whittier, AK: Whittier Airport\n",
      "1635  EPL                   Epinal, France: Epinal Mirecourt\n",
      "100   A85                   Big River, AK: Big River Airport\n"
     ]
    }
   ],
   "source": [
    "print(airports.shape)\n",
    "print(airports.dtypes)\n",
    "print(airports.sample(10))"
   ]
  },
  {
   "cell_type": "code",
   "execution_count": 5,
   "metadata": {
    "collapsed": true
   },
   "outputs": [],
   "source": [
    "# Subset of domestic flights operations on Dec-2008\n",
    "flights_0812 = flights_2008[(flights_2008.Month==12)]\n",
    "\n",
    "# Remove columns: Year, Month, TaxiIn, TaxiOut, TailNum, ActualElapsedTime, CRSElapsedTime, AirTime, Distance \n",
    "flights_0812 = flights_0812[['DayofMonth', 'DayOfWeek', 'DepTime', 'CRSDepTime', 'ArrTime', 'CRSArrTime',\\\n",
    "                             'UniqueCarrier', 'FlightNum', 'ArrDelay', 'DepDelay', 'Origin', 'Dest', 'Cancelled',\\\n",
    "                             'CancellationCode', 'Diverted', 'CarrierDelay', 'WeatherDelay', 'NASDelay',\\\n",
    "                             'SecurityDelay', 'LateAircraftDelay']]"
   ]
  },
  {
   "cell_type": "code",
   "execution_count": 6,
   "metadata": {
    "collapsed": true
   },
   "outputs": [],
   "source": [
    "# Merge origin/destination description fields from airport dataframe to flights_0812 dataframe\n",
    "flights_0812 = pd.merge(flights_0812, airports, left_on='Origin', right_on='Code').drop('Code', axis=1)\n",
    "flights_0812.rename(columns = {'Description':'OriginDescription'}, inplace = True)\n",
    "\n",
    "flights_0812 =  pd.merge(flights_0812, airports, left_on='Dest', right_on='Code').drop('Code', axis=1)\n",
    "flights_0812.rename(columns = {'Description':'DestDescription'}, inplace = True)"
   ]
  },
  {
   "cell_type": "code",
   "execution_count": 7,
   "metadata": {},
   "outputs": [
    {
     "name": "stdout",
     "output_type": "stream",
     "text": [
      "Index(['DayofMonth', 'DayOfWeek', 'DepTime', 'CRSDepTime', 'ArrTime',\n",
      "       'CRSArrTime', 'UniqueCarrier', 'FlightNum', 'ArrDelay', 'DepDelay',\n",
      "       'Origin', 'Dest', 'Cancelled', 'CancellationCode', 'Diverted',\n",
      "       'CarrierDelay', 'WeatherDelay', 'NASDelay', 'SecurityDelay',\n",
      "       'LateAircraftDelay', 'OriginDescription', 'DestDescription'],\n",
      "      dtype='object')\n"
     ]
    },
    {
     "data": {
      "text/html": [
       "<div>\n",
       "<style>\n",
       "    .dataframe thead tr:only-child th {\n",
       "        text-align: right;\n",
       "    }\n",
       "\n",
       "    .dataframe thead th {\n",
       "        text-align: left;\n",
       "    }\n",
       "\n",
       "    .dataframe tbody tr th {\n",
       "        vertical-align: top;\n",
       "    }\n",
       "</style>\n",
       "<table border=\"1\" class=\"dataframe\">\n",
       "  <thead>\n",
       "    <tr style=\"text-align: right;\">\n",
       "      <th></th>\n",
       "      <th>Origin</th>\n",
       "      <th>Dest</th>\n",
       "      <th>OriginDescription</th>\n",
       "      <th>DestDescription</th>\n",
       "    </tr>\n",
       "  </thead>\n",
       "  <tbody>\n",
       "    <tr>\n",
       "      <th>264520</th>\n",
       "      <td>PHX</td>\n",
       "      <td>DFW</td>\n",
       "      <td>Phoenix, AZ: Phoenix Sky Harbor International</td>\n",
       "      <td>Dallas/Fort Worth, TX: Dallas/Fort Worth Inter...</td>\n",
       "    </tr>\n",
       "    <tr>\n",
       "      <th>401908</th>\n",
       "      <td>LGA</td>\n",
       "      <td>MIA</td>\n",
       "      <td>New York, NY: LaGuardia</td>\n",
       "      <td>Miami, FL: Miami International</td>\n",
       "    </tr>\n",
       "    <tr>\n",
       "      <th>55339</th>\n",
       "      <td>AUS</td>\n",
       "      <td>LBB</td>\n",
       "      <td>Austin, TX: Austin - Bergstrom International</td>\n",
       "      <td>Lubbock, TX: Lubbock Preston Smith International</td>\n",
       "    </tr>\n",
       "    <tr>\n",
       "      <th>35501</th>\n",
       "      <td>SNA</td>\n",
       "      <td>LAS</td>\n",
       "      <td>Santa Ana, CA: John Wayne Airport-Orange County</td>\n",
       "      <td>Las Vegas, NV: McCarran International</td>\n",
       "    </tr>\n",
       "    <tr>\n",
       "      <th>483163</th>\n",
       "      <td>SLC</td>\n",
       "      <td>RAP</td>\n",
       "      <td>Salt Lake City, UT: Salt Lake City International</td>\n",
       "      <td>Rapid City, SD: Rapid City Regional</td>\n",
       "    </tr>\n",
       "  </tbody>\n",
       "</table>\n",
       "</div>"
      ],
      "text/plain": [
       "       Origin Dest                                 OriginDescription  \\\n",
       "264520    PHX  DFW     Phoenix, AZ: Phoenix Sky Harbor International   \n",
       "401908    LGA  MIA                           New York, NY: LaGuardia   \n",
       "55339     AUS  LBB      Austin, TX: Austin - Bergstrom International   \n",
       "35501     SNA  LAS   Santa Ana, CA: John Wayne Airport-Orange County   \n",
       "483163    SLC  RAP  Salt Lake City, UT: Salt Lake City International   \n",
       "\n",
       "                                          DestDescription  \n",
       "264520  Dallas/Fort Worth, TX: Dallas/Fort Worth Inter...  \n",
       "401908                     Miami, FL: Miami International  \n",
       "55339    Lubbock, TX: Lubbock Preston Smith International  \n",
       "35501               Las Vegas, NV: McCarran International  \n",
       "483163                Rapid City, SD: Rapid City Regional  "
      ]
     },
     "execution_count": 7,
     "metadata": {},
     "output_type": "execute_result"
    }
   ],
   "source": [
    "# Check merged columns\n",
    "print(flights_0812.columns)\n",
    "flights_0812.sample(5)[['Origin', 'Dest', 'OriginDescription', 'DestDescription']]"
   ]
  },
  {
   "cell_type": "code",
   "execution_count": 8,
   "metadata": {},
   "outputs": [
    {
     "name": "stdout",
     "output_type": "stream",
     "text": [
      "<class 'pandas.core.frame.DataFrame'>\n",
      "Int64Index: 544958 entries, 0 to 544957\n",
      "Data columns (total 22 columns):\n",
      "DayofMonth           544958 non-null int64\n",
      "DayOfWeek            544958 non-null int64\n",
      "DepTime              527926 non-null float64\n",
      "CRSDepTime           544958 non-null int64\n",
      "ArrTime              526376 non-null float64\n",
      "CRSArrTime           544958 non-null int64\n",
      "UniqueCarrier        544958 non-null object\n",
      "FlightNum            544958 non-null int64\n",
      "ArrDelay             524747 non-null float64\n",
      "DepDelay             527926 non-null float64\n",
      "Origin               544958 non-null object\n",
      "Dest                 544958 non-null object\n",
      "Cancelled            544958 non-null int64\n",
      "CancellationCode     17779 non-null object\n",
      "Diverted             544958 non-null int64\n",
      "CarrierDelay         168647 non-null float64\n",
      "WeatherDelay         168647 non-null float64\n",
      "NASDelay             168647 non-null float64\n",
      "SecurityDelay        168647 non-null float64\n",
      "LateAircraftDelay    168647 non-null float64\n",
      "OriginDescription    544958 non-null object\n",
      "DestDescription      544958 non-null object\n",
      "dtypes: float64(9), int64(7), object(6)\n",
      "memory usage: 95.6+ MB\n"
     ]
    }
   ],
   "source": [
    "flights_0812.info()"
   ]
  },
  {
   "cell_type": "code",
   "execution_count": 9,
   "metadata": {
    "collapsed": true
   },
   "outputs": [],
   "source": [
    "# Change columns to category type\n",
    "categories_cols = ['DayOfWeek', 'UniqueCarrier', 'Origin', 'Dest']\n",
    "\n",
    "for col in categories_cols:\n",
    "    flights_0812[col] = flights_0812[col].astype('category')"
   ]
  },
  {
   "cell_type": "code",
   "execution_count": 10,
   "metadata": {},
   "outputs": [
    {
     "name": "stdout",
     "output_type": "stream",
     "text": [
      "<class 'pandas.core.frame.DataFrame'>\n",
      "Int64Index: 544958 entries, 0 to 544957\n",
      "Data columns (total 22 columns):\n",
      "DayofMonth           544958 non-null int64\n",
      "DayOfWeek            544958 non-null category\n",
      "DepTime              527926 non-null float64\n",
      "CRSDepTime           544958 non-null int64\n",
      "ArrTime              526376 non-null float64\n",
      "CRSArrTime           544958 non-null int64\n",
      "UniqueCarrier        544958 non-null category\n",
      "FlightNum            544958 non-null int64\n",
      "ArrDelay             524747 non-null float64\n",
      "DepDelay             527926 non-null float64\n",
      "Origin               544958 non-null category\n",
      "Dest                 544958 non-null category\n",
      "Cancelled            544958 non-null int64\n",
      "CancellationCode     17779 non-null object\n",
      "Diverted             544958 non-null int64\n",
      "CarrierDelay         168647 non-null float64\n",
      "WeatherDelay         168647 non-null float64\n",
      "NASDelay             168647 non-null float64\n",
      "SecurityDelay        168647 non-null float64\n",
      "LateAircraftDelay    168647 non-null float64\n",
      "OriginDescription    544958 non-null object\n",
      "DestDescription      544958 non-null object\n",
      "dtypes: category(4), float64(9), int64(6), object(3)\n",
      "memory usage: 82.1+ MB\n"
     ]
    }
   ],
   "source": [
    "flights_0812.info()"
   ]
  },
  {
   "cell_type": "code",
   "execution_count": 11,
   "metadata": {},
   "outputs": [
    {
     "data": {
      "text/html": [
       "<div>\n",
       "<style>\n",
       "    .dataframe thead tr:only-child th {\n",
       "        text-align: right;\n",
       "    }\n",
       "\n",
       "    .dataframe thead th {\n",
       "        text-align: left;\n",
       "    }\n",
       "\n",
       "    .dataframe tbody tr th {\n",
       "        vertical-align: top;\n",
       "    }\n",
       "</style>\n",
       "<table border=\"1\" class=\"dataframe\">\n",
       "  <thead>\n",
       "    <tr style=\"text-align: right;\">\n",
       "      <th></th>\n",
       "      <th>DayofMonth</th>\n",
       "      <th>DayOfWeek</th>\n",
       "      <th>DepTime</th>\n",
       "      <th>CRSDepTime</th>\n",
       "      <th>ArrTime</th>\n",
       "      <th>CRSArrTime</th>\n",
       "      <th>UniqueCarrier</th>\n",
       "      <th>FlightNum</th>\n",
       "      <th>ArrDelay</th>\n",
       "      <th>DepDelay</th>\n",
       "      <th>...</th>\n",
       "      <th>Cancelled</th>\n",
       "      <th>CancellationCode</th>\n",
       "      <th>Diverted</th>\n",
       "      <th>CarrierDelay</th>\n",
       "      <th>WeatherDelay</th>\n",
       "      <th>NASDelay</th>\n",
       "      <th>SecurityDelay</th>\n",
       "      <th>LateAircraftDelay</th>\n",
       "      <th>OriginDescription</th>\n",
       "      <th>DestDescription</th>\n",
       "    </tr>\n",
       "  </thead>\n",
       "  <tbody>\n",
       "    <tr>\n",
       "      <th>428761</th>\n",
       "      <td>16</td>\n",
       "      <td>2</td>\n",
       "      <td>2025.0</td>\n",
       "      <td>1855</td>\n",
       "      <td>2254.0</td>\n",
       "      <td>2105</td>\n",
       "      <td>OO</td>\n",
       "      <td>2814</td>\n",
       "      <td>109.0</td>\n",
       "      <td>90.0</td>\n",
       "      <td>...</td>\n",
       "      <td>0</td>\n",
       "      <td>NaN</td>\n",
       "      <td>0</td>\n",
       "      <td>0.0</td>\n",
       "      <td>0.0</td>\n",
       "      <td>19.0</td>\n",
       "      <td>0.0</td>\n",
       "      <td>90.0</td>\n",
       "      <td>Milwaukee, WI: General Mitchell International</td>\n",
       "      <td>Columbus, OH: John Glenn Columbus International</td>\n",
       "    </tr>\n",
       "    <tr>\n",
       "      <th>465144</th>\n",
       "      <td>14</td>\n",
       "      <td>7</td>\n",
       "      <td>1300.0</td>\n",
       "      <td>1300</td>\n",
       "      <td>1628.0</td>\n",
       "      <td>1640</td>\n",
       "      <td>XE</td>\n",
       "      <td>2105</td>\n",
       "      <td>-12.0</td>\n",
       "      <td>0.0</td>\n",
       "      <td>...</td>\n",
       "      <td>0</td>\n",
       "      <td>NaN</td>\n",
       "      <td>0</td>\n",
       "      <td>NaN</td>\n",
       "      <td>NaN</td>\n",
       "      <td>NaN</td>\n",
       "      <td>NaN</td>\n",
       "      <td>NaN</td>\n",
       "      <td>Houston, TX: George Bush Intercontinental/Houston</td>\n",
       "      <td>Grand Rapids, MI: Gerald R. Ford International</td>\n",
       "    </tr>\n",
       "    <tr>\n",
       "      <th>524487</th>\n",
       "      <td>15</td>\n",
       "      <td>1</td>\n",
       "      <td>1353.0</td>\n",
       "      <td>1331</td>\n",
       "      <td>1537.0</td>\n",
       "      <td>1535</td>\n",
       "      <td>9E</td>\n",
       "      <td>2961</td>\n",
       "      <td>2.0</td>\n",
       "      <td>22.0</td>\n",
       "      <td>...</td>\n",
       "      <td>0</td>\n",
       "      <td>NaN</td>\n",
       "      <td>0</td>\n",
       "      <td>NaN</td>\n",
       "      <td>NaN</td>\n",
       "      <td>NaN</td>\n",
       "      <td>NaN</td>\n",
       "      <td>NaN</td>\n",
       "      <td>Detroit, MI: Detroit Metro Wayne County</td>\n",
       "      <td>Bangor, ME: Bangor International</td>\n",
       "    </tr>\n",
       "    <tr>\n",
       "      <th>287953</th>\n",
       "      <td>6</td>\n",
       "      <td>6</td>\n",
       "      <td>633.0</td>\n",
       "      <td>638</td>\n",
       "      <td>750.0</td>\n",
       "      <td>808</td>\n",
       "      <td>XE</td>\n",
       "      <td>2733</td>\n",
       "      <td>-18.0</td>\n",
       "      <td>-5.0</td>\n",
       "      <td>...</td>\n",
       "      <td>0</td>\n",
       "      <td>NaN</td>\n",
       "      <td>0</td>\n",
       "      <td>NaN</td>\n",
       "      <td>NaN</td>\n",
       "      <td>NaN</td>\n",
       "      <td>NaN</td>\n",
       "      <td>NaN</td>\n",
       "      <td>Richmond, VA: Richmond International</td>\n",
       "      <td>Cleveland, OH: Cleveland-Hopkins International</td>\n",
       "    </tr>\n",
       "    <tr>\n",
       "      <th>309891</th>\n",
       "      <td>12</td>\n",
       "      <td>5</td>\n",
       "      <td>1506.0</td>\n",
       "      <td>1429</td>\n",
       "      <td>1655.0</td>\n",
       "      <td>1633</td>\n",
       "      <td>NW</td>\n",
       "      <td>531</td>\n",
       "      <td>22.0</td>\n",
       "      <td>37.0</td>\n",
       "      <td>...</td>\n",
       "      <td>0</td>\n",
       "      <td>NaN</td>\n",
       "      <td>0</td>\n",
       "      <td>5.0</td>\n",
       "      <td>0.0</td>\n",
       "      <td>0.0</td>\n",
       "      <td>0.0</td>\n",
       "      <td>17.0</td>\n",
       "      <td>New York, NY: LaGuardia</td>\n",
       "      <td>Detroit, MI: Detroit Metro Wayne County</td>\n",
       "    </tr>\n",
       "    <tr>\n",
       "      <th>399653</th>\n",
       "      <td>14</td>\n",
       "      <td>7</td>\n",
       "      <td>1720.0</td>\n",
       "      <td>1710</td>\n",
       "      <td>1941.0</td>\n",
       "      <td>1955</td>\n",
       "      <td>AA</td>\n",
       "      <td>1219</td>\n",
       "      <td>-14.0</td>\n",
       "      <td>10.0</td>\n",
       "      <td>...</td>\n",
       "      <td>0</td>\n",
       "      <td>NaN</td>\n",
       "      <td>0</td>\n",
       "      <td>NaN</td>\n",
       "      <td>NaN</td>\n",
       "      <td>NaN</td>\n",
       "      <td>NaN</td>\n",
       "      <td>NaN</td>\n",
       "      <td>Washington, DC: Ronald Reagan Washington National</td>\n",
       "      <td>Miami, FL: Miami International</td>\n",
       "    </tr>\n",
       "    <tr>\n",
       "      <th>435927</th>\n",
       "      <td>31</td>\n",
       "      <td>3</td>\n",
       "      <td>1454.0</td>\n",
       "      <td>1400</td>\n",
       "      <td>1832.0</td>\n",
       "      <td>1735</td>\n",
       "      <td>WN</td>\n",
       "      <td>1922</td>\n",
       "      <td>57.0</td>\n",
       "      <td>54.0</td>\n",
       "      <td>...</td>\n",
       "      <td>0</td>\n",
       "      <td>NaN</td>\n",
       "      <td>0</td>\n",
       "      <td>16.0</td>\n",
       "      <td>0.0</td>\n",
       "      <td>3.0</td>\n",
       "      <td>0.0</td>\n",
       "      <td>38.0</td>\n",
       "      <td>Philadelphia, PA: Philadelphia International</td>\n",
       "      <td>San Antonio, TX: San Antonio International</td>\n",
       "    </tr>\n",
       "    <tr>\n",
       "      <th>32508</th>\n",
       "      <td>4</td>\n",
       "      <td>4</td>\n",
       "      <td>1640.0</td>\n",
       "      <td>1640</td>\n",
       "      <td>1753.0</td>\n",
       "      <td>1755</td>\n",
       "      <td>WN</td>\n",
       "      <td>1792</td>\n",
       "      <td>-2.0</td>\n",
       "      <td>0.0</td>\n",
       "      <td>...</td>\n",
       "      <td>0</td>\n",
       "      <td>NaN</td>\n",
       "      <td>0</td>\n",
       "      <td>NaN</td>\n",
       "      <td>NaN</td>\n",
       "      <td>NaN</td>\n",
       "      <td>NaN</td>\n",
       "      <td>NaN</td>\n",
       "      <td>Reno, NV: Reno/Tahoe International</td>\n",
       "      <td>Las Vegas, NV: McCarran International</td>\n",
       "    </tr>\n",
       "    <tr>\n",
       "      <th>450600</th>\n",
       "      <td>17</td>\n",
       "      <td>3</td>\n",
       "      <td>918.0</td>\n",
       "      <td>925</td>\n",
       "      <td>1102.0</td>\n",
       "      <td>1057</td>\n",
       "      <td>US</td>\n",
       "      <td>1942</td>\n",
       "      <td>5.0</td>\n",
       "      <td>-7.0</td>\n",
       "      <td>...</td>\n",
       "      <td>0</td>\n",
       "      <td>NaN</td>\n",
       "      <td>0</td>\n",
       "      <td>NaN</td>\n",
       "      <td>NaN</td>\n",
       "      <td>NaN</td>\n",
       "      <td>NaN</td>\n",
       "      <td>NaN</td>\n",
       "      <td>Charlotte, NC: Charlotte Douglas International</td>\n",
       "      <td>Buffalo, NY: Buffalo Niagara International</td>\n",
       "    </tr>\n",
       "    <tr>\n",
       "      <th>422518</th>\n",
       "      <td>29</td>\n",
       "      <td>1</td>\n",
       "      <td>924.0</td>\n",
       "      <td>925</td>\n",
       "      <td>1234.0</td>\n",
       "      <td>1252</td>\n",
       "      <td>B6</td>\n",
       "      <td>1061</td>\n",
       "      <td>-18.0</td>\n",
       "      <td>-1.0</td>\n",
       "      <td>...</td>\n",
       "      <td>0</td>\n",
       "      <td>NaN</td>\n",
       "      <td>0</td>\n",
       "      <td>NaN</td>\n",
       "      <td>NaN</td>\n",
       "      <td>NaN</td>\n",
       "      <td>NaN</td>\n",
       "      <td>NaN</td>\n",
       "      <td>New York, NY: John F. Kennedy International</td>\n",
       "      <td>Austin, TX: Austin - Bergstrom International</td>\n",
       "    </tr>\n",
       "  </tbody>\n",
       "</table>\n",
       "<p>10 rows × 22 columns</p>\n",
       "</div>"
      ],
      "text/plain": [
       "        DayofMonth DayOfWeek  DepTime  CRSDepTime  ArrTime  CRSArrTime  \\\n",
       "428761          16         2   2025.0        1855   2254.0        2105   \n",
       "465144          14         7   1300.0        1300   1628.0        1640   \n",
       "524487          15         1   1353.0        1331   1537.0        1535   \n",
       "287953           6         6    633.0         638    750.0         808   \n",
       "309891          12         5   1506.0        1429   1655.0        1633   \n",
       "399653          14         7   1720.0        1710   1941.0        1955   \n",
       "435927          31         3   1454.0        1400   1832.0        1735   \n",
       "32508            4         4   1640.0        1640   1753.0        1755   \n",
       "450600          17         3    918.0         925   1102.0        1057   \n",
       "422518          29         1    924.0         925   1234.0        1252   \n",
       "\n",
       "       UniqueCarrier  FlightNum  ArrDelay  DepDelay  \\\n",
       "428761            OO       2814     109.0      90.0   \n",
       "465144            XE       2105     -12.0       0.0   \n",
       "524487            9E       2961       2.0      22.0   \n",
       "287953            XE       2733     -18.0      -5.0   \n",
       "309891            NW        531      22.0      37.0   \n",
       "399653            AA       1219     -14.0      10.0   \n",
       "435927            WN       1922      57.0      54.0   \n",
       "32508             WN       1792      -2.0       0.0   \n",
       "450600            US       1942       5.0      -7.0   \n",
       "422518            B6       1061     -18.0      -1.0   \n",
       "\n",
       "                             ...                        Cancelled  \\\n",
       "428761                       ...                                0   \n",
       "465144                       ...                                0   \n",
       "524487                       ...                                0   \n",
       "287953                       ...                                0   \n",
       "309891                       ...                                0   \n",
       "399653                       ...                                0   \n",
       "435927                       ...                                0   \n",
       "32508                        ...                                0   \n",
       "450600                       ...                                0   \n",
       "422518                       ...                                0   \n",
       "\n",
       "       CancellationCode  Diverted CarrierDelay  WeatherDelay  NASDelay  \\\n",
       "428761              NaN         0          0.0           0.0      19.0   \n",
       "465144              NaN         0          NaN           NaN       NaN   \n",
       "524487              NaN         0          NaN           NaN       NaN   \n",
       "287953              NaN         0          NaN           NaN       NaN   \n",
       "309891              NaN         0          5.0           0.0       0.0   \n",
       "399653              NaN         0          NaN           NaN       NaN   \n",
       "435927              NaN         0         16.0           0.0       3.0   \n",
       "32508               NaN         0          NaN           NaN       NaN   \n",
       "450600              NaN         0          NaN           NaN       NaN   \n",
       "422518              NaN         0          NaN           NaN       NaN   \n",
       "\n",
       "        SecurityDelay  LateAircraftDelay  \\\n",
       "428761            0.0               90.0   \n",
       "465144            NaN                NaN   \n",
       "524487            NaN                NaN   \n",
       "287953            NaN                NaN   \n",
       "309891            0.0               17.0   \n",
       "399653            NaN                NaN   \n",
       "435927            0.0               38.0   \n",
       "32508             NaN                NaN   \n",
       "450600            NaN                NaN   \n",
       "422518            NaN                NaN   \n",
       "\n",
       "                                        OriginDescription  \\\n",
       "428761      Milwaukee, WI: General Mitchell International   \n",
       "465144  Houston, TX: George Bush Intercontinental/Houston   \n",
       "524487            Detroit, MI: Detroit Metro Wayne County   \n",
       "287953               Richmond, VA: Richmond International   \n",
       "309891                            New York, NY: LaGuardia   \n",
       "399653  Washington, DC: Ronald Reagan Washington National   \n",
       "435927       Philadelphia, PA: Philadelphia International   \n",
       "32508                  Reno, NV: Reno/Tahoe International   \n",
       "450600     Charlotte, NC: Charlotte Douglas International   \n",
       "422518        New York, NY: John F. Kennedy International   \n",
       "\n",
       "                                        DestDescription  \n",
       "428761  Columbus, OH: John Glenn Columbus International  \n",
       "465144   Grand Rapids, MI: Gerald R. Ford International  \n",
       "524487                 Bangor, ME: Bangor International  \n",
       "287953   Cleveland, OH: Cleveland-Hopkins International  \n",
       "309891          Detroit, MI: Detroit Metro Wayne County  \n",
       "399653                   Miami, FL: Miami International  \n",
       "435927       San Antonio, TX: San Antonio International  \n",
       "32508             Las Vegas, NV: McCarran International  \n",
       "450600       Buffalo, NY: Buffalo Niagara International  \n",
       "422518     Austin, TX: Austin - Bergstrom International  \n",
       "\n",
       "[10 rows x 22 columns]"
      ]
     },
     "execution_count": 11,
     "metadata": {},
     "output_type": "execute_result"
    }
   ],
   "source": [
    "flights_0812.sample(10)"
   ]
  },
  {
   "cell_type": "code",
   "execution_count": 12,
   "metadata": {},
   "outputs": [
    {
     "name": "stdout",
     "output_type": "stream",
     "text": [
      "            ArrDelay       DepDelay      Cancelled       Diverted  \\\n",
      "count  524747.000000  527926.000000  544958.000000  544958.000000   \n",
      "mean       16.680505      17.304380       0.032625       0.004463   \n",
      "std        48.570617      44.880798       0.177652       0.066654   \n",
      "min       -90.000000     -49.000000       0.000000       0.000000   \n",
      "25%        -8.000000      -3.000000       0.000000       0.000000   \n",
      "50%         2.000000       0.000000       0.000000       0.000000   \n",
      "75%        23.000000      18.000000       0.000000       0.000000   \n",
      "max      1655.000000    1597.000000       1.000000       1.000000   \n",
      "\n",
      "        CarrierDelay   WeatherDelay       NASDelay  SecurityDelay  \\\n",
      "count  168647.000000  168647.000000  168647.000000  168647.000000   \n",
      "mean       15.422806       4.435057      17.251395       0.072228   \n",
      "std        39.539046      25.519685      31.153545       1.565449   \n",
      "min         0.000000       0.000000       0.000000       0.000000   \n",
      "25%         0.000000       0.000000       0.000000       0.000000   \n",
      "50%         0.000000       0.000000       7.000000       0.000000   \n",
      "75%        15.000000       0.000000      22.000000       0.000000   \n",
      "max      1307.000000    1352.000000     903.000000     254.000000   \n",
      "\n",
      "       LateAircraftDelay  \n",
      "count      168647.000000  \n",
      "mean           25.373235  \n",
      "std            45.011729  \n",
      "min             0.000000  \n",
      "25%             0.000000  \n",
      "50%             3.000000  \n",
      "75%            33.000000  \n",
      "max          1143.000000  \n"
     ]
    }
   ],
   "source": [
    "# Descriptive statistics for numeric variables\n",
    "\n",
    "delay_cols = ['CarrierDelay', 'WeatherDelay', 'NASDelay', 'SecurityDelay', 'LateAircraftDelay']\n",
    "\n",
    "print(flights_0812[['ArrDelay', 'DepDelay', 'Cancelled', 'Diverted'] + delay_cols].describe())"
   ]
  },
  {
   "cell_type": "markdown",
   "metadata": {},
   "source": [
    "### What is the structure of your dataset?\n",
    "\n",
    "There are 544,958 entries in the dataset with information of flights operations on December 2008. It features airlines, origin/destination, flight dates, scheduled and actual arrival/departure times, delays time/causes and cancellation/divert status.\n",
    "\n",
    "It has the following numeric variables:\n",
    "- the ones related to time: departure/arrivals times and the delays which are the difference between the actual and scheduled times\n",
    "- the time of delays caused by carrier, weather, NAS (National Airspace System), security and late aircraft. Their values are in minutes and the sum of these five totals the arrival delay, also measured in minutes. The delay causes for a flight could be multiple and only apply to delayed flights.\n",
    "\n",
    "A flight is considered delayed when its arrival delay is longer than 15 minutes.\n",
    "\n",
    "The whole flights dataset could be seen as it is comprised by four main datasets, which are exclusive among them:\n",
    "on time (arrival delay is less than 15 minutes), delayed (arrival delays equal or greather than 15 minutes), cancelled and diverted.\n",
    "\n",
    "Therefore, the categorical variables are:\n",
    "- extractable directly from the dataframe like: days of week, airlines, origin/destination, delay causes (not their values in minutes), cancellation causes, and cancellation/divert status \n",
    "- derived from splitting the dataframe in the four flight categories per their (exclusive) statuses like: on time, delayed, cancelled and diverted \n",
    "\n",
    "Similarly as the causes of delays are applicable only for delayed flights, the same happens to causes of cancellation which are only applicable for cancelled flights. This means that for the rest of flights out of these categories, the values are null on these columns as corresponding.\n",
    "\n",
    "\n",
    "\n",
    "### What is/are the main feature(s) of interest in your dataset?\n",
    "\n",
    "I am most interested in figuring out which airlines had more flight delays and what are the causes on December 2008.\n",
    "\n",
    "\n",
    "\n",
    "### What features in the dataset do you think will help support your investigation into your feature(s) of interest?\n",
    "\n",
    "I expect main US cities close the holidays time have more and longest delays; also expect flights to/from these destinations/origins be cancelled per winter weather conditions.\n",
    "\n",
    "I deem convenient for the investigation, to remove the cancelled and diverted flights records, since their data is no relevant to the investigation."
   ]
  },
  {
   "cell_type": "markdown",
   "metadata": {},
   "source": [
    "### Data Subsets: On Time and Delayed Flights"
   ]
  },
  {
   "cell_type": "code",
   "execution_count": 13,
   "metadata": {},
   "outputs": [
    {
     "name": "stdout",
     "output_type": "stream",
     "text": [
      "<class 'pandas.core.frame.DataFrame'>\n",
      "Int64Index: 524747 entries, 0 to 544957\n",
      "Data columns (total 19 columns):\n",
      "DayofMonth           524747 non-null int64\n",
      "DayOfWeek            524747 non-null category\n",
      "DepTime              524747 non-null float64\n",
      "CRSDepTime           524747 non-null int64\n",
      "ArrTime              524747 non-null float64\n",
      "CRSArrTime           524747 non-null int64\n",
      "UniqueCarrier        524747 non-null category\n",
      "FlightNum            524747 non-null int64\n",
      "ArrDelay             524747 non-null float64\n",
      "DepDelay             524747 non-null float64\n",
      "Origin               524747 non-null category\n",
      "Dest                 524747 non-null category\n",
      "CarrierDelay         168647 non-null float64\n",
      "WeatherDelay         168647 non-null float64\n",
      "NASDelay             168647 non-null float64\n",
      "SecurityDelay        168647 non-null float64\n",
      "LateAircraftDelay    168647 non-null float64\n",
      "OriginDescription    524747 non-null object\n",
      "DestDescription      524747 non-null object\n",
      "dtypes: category(4), float64(9), int64(4), object(2)\n",
      "memory usage: 67.1+ MB\n"
     ]
    }
   ],
   "source": [
    "# Remove cancelled and diverted flights data\n",
    "cancelled = flights_0812.Cancelled==1\n",
    "diverted  = flights_0812.Diverted==1\n",
    "\n",
    "flights = flights_0812[(~cancelled) & (~diverted)].drop(['Cancelled', 'CancellationCode', 'Diverted'], axis=1)\n",
    "flights.info()"
   ]
  },
  {
   "cell_type": "code",
   "execution_count": 14,
   "metadata": {
    "collapsed": true
   },
   "outputs": [],
   "source": [
    "# Subset On Time and Delayed flights\n",
    "on_time = flights.ArrDelay<15\n",
    "delayed = flights.ArrDelay>=15 # A flight is considered delayed if its (arrival) delay is over 15 minutes (inclusive)\n",
    "\n",
    "on_time_flights = flights[on_time]\n",
    "delayed_flights = flights[delayed]"
   ]
  },
  {
   "cell_type": "code",
   "execution_count": 15,
   "metadata": {},
   "outputs": [
    {
     "name": "stdout",
     "output_type": "stream",
     "text": [
      "<class 'pandas.core.frame.DataFrame'>\n",
      "Int64Index: 356100 entries, 1 to 544957\n",
      "Data columns (total 19 columns):\n",
      "DayofMonth           356100 non-null int64\n",
      "DayOfWeek            356100 non-null category\n",
      "DepTime              356100 non-null float64\n",
      "CRSDepTime           356100 non-null int64\n",
      "ArrTime              356100 non-null float64\n",
      "CRSArrTime           356100 non-null int64\n",
      "UniqueCarrier        356100 non-null category\n",
      "FlightNum            356100 non-null int64\n",
      "ArrDelay             356100 non-null float64\n",
      "DepDelay             356100 non-null float64\n",
      "Origin               356100 non-null category\n",
      "Dest                 356100 non-null category\n",
      "CarrierDelay         0 non-null float64\n",
      "WeatherDelay         0 non-null float64\n",
      "NASDelay             0 non-null float64\n",
      "SecurityDelay        0 non-null float64\n",
      "LateAircraftDelay    0 non-null float64\n",
      "OriginDescription    356100 non-null object\n",
      "DestDescription      356100 non-null object\n",
      "dtypes: category(4), float64(9), int64(4), object(2)\n",
      "memory usage: 45.5+ MB\n"
     ]
    }
   ],
   "source": [
    "# On Time flights data info\n",
    "on_time_flights.info()"
   ]
  },
  {
   "cell_type": "markdown",
   "metadata": {},
   "source": [
    "In the On Time dataset, delay causes columns are extraneous and null. They should be removed."
   ]
  },
  {
   "cell_type": "code",
   "execution_count": 16,
   "metadata": {},
   "outputs": [
    {
     "name": "stdout",
     "output_type": "stream",
     "text": [
      "<class 'pandas.core.frame.DataFrame'>\n",
      "Int64Index: 356100 entries, 1 to 544957\n",
      "Data columns (total 14 columns):\n",
      "DayofMonth           356100 non-null int64\n",
      "DayOfWeek            356100 non-null category\n",
      "DepTime              356100 non-null float64\n",
      "CRSDepTime           356100 non-null int64\n",
      "ArrTime              356100 non-null float64\n",
      "CRSArrTime           356100 non-null int64\n",
      "UniqueCarrier        356100 non-null category\n",
      "FlightNum            356100 non-null int64\n",
      "ArrDelay             356100 non-null float64\n",
      "DepDelay             356100 non-null float64\n",
      "Origin               356100 non-null category\n",
      "Dest                 356100 non-null category\n",
      "OriginDescription    356100 non-null object\n",
      "DestDescription      356100 non-null object\n",
      "dtypes: category(4), float64(4), int64(4), object(2)\n",
      "memory usage: 31.9+ MB\n"
     ]
    }
   ],
   "source": [
    "# Removing delay causes columns on On Time flights dataset\n",
    "on_time_flights = on_time_flights.drop(delay_cols, axis=1)\n",
    "on_time_flights.info()"
   ]
  },
  {
   "cell_type": "code",
   "execution_count": 17,
   "metadata": {},
   "outputs": [
    {
     "name": "stdout",
     "output_type": "stream",
     "text": [
      "<class 'pandas.core.frame.DataFrame'>\n",
      "Int64Index: 168647 entries, 0 to 544956\n",
      "Data columns (total 19 columns):\n",
      "DayofMonth           168647 non-null int64\n",
      "DayOfWeek            168647 non-null category\n",
      "DepTime              168647 non-null float64\n",
      "CRSDepTime           168647 non-null int64\n",
      "ArrTime              168647 non-null float64\n",
      "CRSArrTime           168647 non-null int64\n",
      "UniqueCarrier        168647 non-null category\n",
      "FlightNum            168647 non-null int64\n",
      "ArrDelay             168647 non-null float64\n",
      "DepDelay             168647 non-null float64\n",
      "Origin               168647 non-null category\n",
      "Dest                 168647 non-null category\n",
      "CarrierDelay         168647 non-null float64\n",
      "WeatherDelay         168647 non-null float64\n",
      "NASDelay             168647 non-null float64\n",
      "SecurityDelay        168647 non-null float64\n",
      "LateAircraftDelay    168647 non-null float64\n",
      "OriginDescription    168647 non-null object\n",
      "DestDescription      168647 non-null object\n",
      "dtypes: category(4), float64(9), int64(4), object(2)\n",
      "memory usage: 21.6+ MB\n"
     ]
    }
   ],
   "source": [
    "# Delayed flights data info\n",
    "delayed_flights.info()"
   ]
  },
  {
   "cell_type": "code",
   "execution_count": 66,
   "metadata": {},
   "outputs": [
    {
     "data": {
      "text/html": [
       "<div>\n",
       "<style>\n",
       "    .dataframe thead tr:only-child th {\n",
       "        text-align: right;\n",
       "    }\n",
       "\n",
       "    .dataframe thead th {\n",
       "        text-align: left;\n",
       "    }\n",
       "\n",
       "    .dataframe tbody tr th {\n",
       "        vertical-align: top;\n",
       "    }\n",
       "</style>\n",
       "<table border=\"1\" class=\"dataframe\">\n",
       "  <thead>\n",
       "    <tr style=\"text-align: right;\">\n",
       "      <th></th>\n",
       "      <th>DayofMonth</th>\n",
       "      <th>DepTime</th>\n",
       "      <th>CRSDepTime</th>\n",
       "      <th>ArrTime</th>\n",
       "      <th>CRSArrTime</th>\n",
       "      <th>FlightNum</th>\n",
       "      <th>ArrDelay</th>\n",
       "      <th>DepDelay</th>\n",
       "      <th>CarrierDelay</th>\n",
       "      <th>WeatherDelay</th>\n",
       "      <th>NASDelay</th>\n",
       "      <th>SecurityDelay</th>\n",
       "      <th>LateAircraftDelay</th>\n",
       "    </tr>\n",
       "  </thead>\n",
       "  <tbody>\n",
       "    <tr>\n",
       "      <th>count</th>\n",
       "      <td>168647.000000</td>\n",
       "      <td>168647.000000</td>\n",
       "      <td>168647.000000</td>\n",
       "      <td>168647.000000</td>\n",
       "      <td>168647.000000</td>\n",
       "      <td>168647.000000</td>\n",
       "      <td>168647.000000</td>\n",
       "      <td>168647.000000</td>\n",
       "      <td>168647.000000</td>\n",
       "      <td>168647.000000</td>\n",
       "      <td>168647.000000</td>\n",
       "      <td>168647.000000</td>\n",
       "      <td>168647.000000</td>\n",
       "    </tr>\n",
       "    <tr>\n",
       "      <th>mean</th>\n",
       "      <td>17.181871</td>\n",
       "      <td>1465.941588</td>\n",
       "      <td>1399.721454</td>\n",
       "      <td>1563.466163</td>\n",
       "      <td>1581.413556</td>\n",
       "      <td>2357.344649</td>\n",
       "      <td>62.554721</td>\n",
       "      <td>53.529722</td>\n",
       "      <td>15.422806</td>\n",
       "      <td>4.435057</td>\n",
       "      <td>17.251395</td>\n",
       "      <td>0.072228</td>\n",
       "      <td>25.373235</td>\n",
       "    </tr>\n",
       "    <tr>\n",
       "      <th>std</th>\n",
       "      <td>8.293763</td>\n",
       "      <td>472.607571</td>\n",
       "      <td>439.679926</td>\n",
       "      <td>559.428175</td>\n",
       "      <td>463.076622</td>\n",
       "      <td>2061.331436</td>\n",
       "      <td>63.287180</td>\n",
       "      <td>64.200553</td>\n",
       "      <td>39.539046</td>\n",
       "      <td>25.519685</td>\n",
       "      <td>31.153545</td>\n",
       "      <td>1.565449</td>\n",
       "      <td>45.011729</td>\n",
       "    </tr>\n",
       "    <tr>\n",
       "      <th>min</th>\n",
       "      <td>1.000000</td>\n",
       "      <td>1.000000</td>\n",
       "      <td>5.000000</td>\n",
       "      <td>1.000000</td>\n",
       "      <td>1.000000</td>\n",
       "      <td>1.000000</td>\n",
       "      <td>15.000000</td>\n",
       "      <td>-34.000000</td>\n",
       "      <td>0.000000</td>\n",
       "      <td>0.000000</td>\n",
       "      <td>0.000000</td>\n",
       "      <td>0.000000</td>\n",
       "      <td>0.000000</td>\n",
       "    </tr>\n",
       "    <tr>\n",
       "      <th>25%</th>\n",
       "      <td>11.000000</td>\n",
       "      <td>1117.000000</td>\n",
       "      <td>1040.000000</td>\n",
       "      <td>1230.000000</td>\n",
       "      <td>1230.000000</td>\n",
       "      <td>658.000000</td>\n",
       "      <td>24.000000</td>\n",
       "      <td>15.000000</td>\n",
       "      <td>0.000000</td>\n",
       "      <td>0.000000</td>\n",
       "      <td>0.000000</td>\n",
       "      <td>0.000000</td>\n",
       "      <td>0.000000</td>\n",
       "    </tr>\n",
       "    <tr>\n",
       "      <th>50%</th>\n",
       "      <td>18.000000</td>\n",
       "      <td>1510.000000</td>\n",
       "      <td>1425.000000</td>\n",
       "      <td>1642.000000</td>\n",
       "      <td>1624.000000</td>\n",
       "      <td>1676.000000</td>\n",
       "      <td>41.000000</td>\n",
       "      <td>35.000000</td>\n",
       "      <td>0.000000</td>\n",
       "      <td>0.000000</td>\n",
       "      <td>7.000000</td>\n",
       "      <td>0.000000</td>\n",
       "      <td>3.000000</td>\n",
       "    </tr>\n",
       "    <tr>\n",
       "      <th>75%</th>\n",
       "      <td>23.000000</td>\n",
       "      <td>1841.000000</td>\n",
       "      <td>1749.000000</td>\n",
       "      <td>2014.000000</td>\n",
       "      <td>1950.000000</td>\n",
       "      <td>3593.000000</td>\n",
       "      <td>77.000000</td>\n",
       "      <td>71.000000</td>\n",
       "      <td>15.000000</td>\n",
       "      <td>0.000000</td>\n",
       "      <td>22.000000</td>\n",
       "      <td>0.000000</td>\n",
       "      <td>33.000000</td>\n",
       "    </tr>\n",
       "    <tr>\n",
       "      <th>max</th>\n",
       "      <td>31.000000</td>\n",
       "      <td>2400.000000</td>\n",
       "      <td>2359.000000</td>\n",
       "      <td>2400.000000</td>\n",
       "      <td>2359.000000</td>\n",
       "      <td>9741.000000</td>\n",
       "      <td>1655.000000</td>\n",
       "      <td>1597.000000</td>\n",
       "      <td>1307.000000</td>\n",
       "      <td>1352.000000</td>\n",
       "      <td>903.000000</td>\n",
       "      <td>254.000000</td>\n",
       "      <td>1143.000000</td>\n",
       "    </tr>\n",
       "  </tbody>\n",
       "</table>\n",
       "</div>"
      ],
      "text/plain": [
       "          DayofMonth        DepTime     CRSDepTime        ArrTime  \\\n",
       "count  168647.000000  168647.000000  168647.000000  168647.000000   \n",
       "mean       17.181871    1465.941588    1399.721454    1563.466163   \n",
       "std         8.293763     472.607571     439.679926     559.428175   \n",
       "min         1.000000       1.000000       5.000000       1.000000   \n",
       "25%        11.000000    1117.000000    1040.000000    1230.000000   \n",
       "50%        18.000000    1510.000000    1425.000000    1642.000000   \n",
       "75%        23.000000    1841.000000    1749.000000    2014.000000   \n",
       "max        31.000000    2400.000000    2359.000000    2400.000000   \n",
       "\n",
       "          CRSArrTime      FlightNum       ArrDelay       DepDelay  \\\n",
       "count  168647.000000  168647.000000  168647.000000  168647.000000   \n",
       "mean     1581.413556    2357.344649      62.554721      53.529722   \n",
       "std       463.076622    2061.331436      63.287180      64.200553   \n",
       "min         1.000000       1.000000      15.000000     -34.000000   \n",
       "25%      1230.000000     658.000000      24.000000      15.000000   \n",
       "50%      1624.000000    1676.000000      41.000000      35.000000   \n",
       "75%      1950.000000    3593.000000      77.000000      71.000000   \n",
       "max      2359.000000    9741.000000    1655.000000    1597.000000   \n",
       "\n",
       "        CarrierDelay   WeatherDelay       NASDelay  SecurityDelay  \\\n",
       "count  168647.000000  168647.000000  168647.000000  168647.000000   \n",
       "mean       15.422806       4.435057      17.251395       0.072228   \n",
       "std        39.539046      25.519685      31.153545       1.565449   \n",
       "min         0.000000       0.000000       0.000000       0.000000   \n",
       "25%         0.000000       0.000000       0.000000       0.000000   \n",
       "50%         0.000000       0.000000       7.000000       0.000000   \n",
       "75%        15.000000       0.000000      22.000000       0.000000   \n",
       "max      1307.000000    1352.000000     903.000000     254.000000   \n",
       "\n",
       "       LateAircraftDelay  \n",
       "count      168647.000000  \n",
       "mean           25.373235  \n",
       "std            45.011729  \n",
       "min             0.000000  \n",
       "25%             0.000000  \n",
       "50%             3.000000  \n",
       "75%            33.000000  \n",
       "max          1143.000000  "
      ]
     },
     "execution_count": 66,
     "metadata": {},
     "output_type": "execute_result"
    }
   ],
   "source": [
    "delayed_flights.describe()"
   ]
  },
  {
   "cell_type": "code",
   "execution_count": 18,
   "metadata": {},
   "outputs": [
    {
     "data": {
      "text/plain": [
       "168647"
      ]
     },
     "execution_count": 18,
     "metadata": {},
     "output_type": "execute_result"
    }
   ],
   "source": [
    "# Compare sum of the causes of the delay columns with arrival delay\n",
    "\n",
    "(delayed_flights[delay_cols].sum(axis=1) == delayed_flights['ArrDelay']).sum()"
   ]
  },
  {
   "cell_type": "markdown",
   "metadata": {},
   "source": [
    "The sum of the delay causes in minutes totals the arrival delay  in the  delayed flights subset"
   ]
  },
  {
   "cell_type": "markdown",
   "metadata": {},
   "source": [
    "#### Proportion of On Time and Delayed Flights on December 2008"
   ]
  },
  {
   "cell_type": "code",
   "execution_count": 19,
   "metadata": {},
   "outputs": [
    {
     "data": {
      "image/png": "[encoded data removed]",
      "text/plain": [
       "<matplotlib.figure.Figure at 0x20b8b06e438>"
      ]
     },
     "metadata": {},
     "output_type": "display_data"
    }
   ],
   "source": [
    "# Pie chart plotting\n",
    "\n",
    "sizes  = [len(on_time_flights), len(delayed_flights)]\n",
    "colors = ['thistle','lavender']\n",
    "labels = ['On Time \\n' + str(sizes[0]), 'Delayed \\n' + str(sizes[1])]\n",
    "\n",
    "patches, texts, autotexts = plt.pie(sizes, autopct='%.2f%%', startangle=90, colors=colors, labels=labels)\n",
    "\n",
    "plt.axis('square') # equal aspect ratio ensures that pie is drawn as a circle\n",
    "plt.title('Proportion of Domestic Flight Status on Dec-2008\\n', fontsize=14);"
   ]
  },
  {
   "cell_type": "markdown",
   "metadata": {},
   "source": [
    "Out of 524,747 on track flights on December 2008, 356,100 were on time (67.86%) and 168,647 (32.14%) delayed. This set excludes the cancelled and diverted flights.\n",
    "Flights with arrival delays over 15 minutes are the ones considered as 'delayed'."
   ]
  },
  {
   "cell_type": "markdown",
   "metadata": {},
   "source": [
    "## Univariate Exploration\n"
   ]
  },
  {
   "cell_type": "markdown",
   "metadata": {},
   "source": [
    "#### Departure/Arrival Delays on December 2008"
   ]
  },
  {
   "cell_type": "code",
   "execution_count": 20,
   "metadata": {},
   "outputs": [
    {
     "data": {
      "image/png": "[encoded data removed]",
      "text/plain": [
       "<matplotlib.figure.Figure at 0x20b8b0a6208>"
      ]
     },
     "metadata": {},
     "output_type": "display_data"
    }
   ],
   "source": [
    "# Histogram plotting\n",
    "\n",
    "fig = plt.figure(figsize = [15, 5])\n",
    "fig.suptitle('Domestic Flights Delays on Dec-2008', fontsize=16)\n",
    "\n",
    "# Departure and Arrival delays subset without Nan values\n",
    "dep_delay = flights.DepDelay\n",
    "arr_delay = flights.ArrDelay\n",
    "\n",
    "dep_bins = np.arange(dep_delay.min(), dep_delay.max()+50, 50) \n",
    "arr_bins = np.arange(arr_delay.min(), arr_delay.max()+50, 50) \n",
    "\n",
    "xticks = [i*100 for i in np.arange(-1, 18)]\n",
    "yticks = [i*5e4 for i in np.arange(0, 7)]\n",
    "ylabels = ['0','5e4', '10e4', '15e4', '20e4', '25e4', '30e4']\n",
    "\n",
    "ax1 = plt.subplot(1,2,1)\n",
    "plt.hist(dep_delay, bins=dep_bins, color='silver')\n",
    "plt.xlabel('Departure Delay (mins)')\n",
    "plt.ylabel('Number of Flight Operations')\n",
    "plt.xticks(xticks, xticks, rotation=45)\n",
    "plt.yticks(yticks, ylabels)\n",
    "plt.axvline(x=15, c='red');\n",
    "\n",
    "ax2 = plt.subplot(1,2,2, sharey=ax1)\n",
    "plt.hist(arr_delay, bins=arr_bins, color='silver')\n",
    "plt.xlabel('Arrival Delay (mins)')\n",
    "plt.ylabel('Number of Flight Operations')\n",
    "plt.xticks(xticks, xticks, rotation=45)\n",
    "plt.axvline(x=15, c='red');"
   ]
  },
  {
   "cell_type": "markdown",
   "metadata": {},
   "source": [
    "Both of the above distributions are right skewed, with long tail.\n",
    "\n",
    "On each plot, the red line divides the on time flights to the left, and the delayed ones to the right.\n",
    "A flight is considered delayed when it has a delay of 15 or more minutes than the schedule.\n",
    "\n",
    "Delay plots show many on time flights on Dec-2008: more than 250,000 for departure and more than 300,000 for arrivals; but still it is visible a bulk of delayed flights too: around 200,000 for departure and close to 150,000 for arrivals.\n",
    "\n",
    "Interesting that the frequency for ontime flights are different in both plots; with an approximate difference around 50,000 flights, which delays are in the negative range from -100 to 0 minutes.\n",
    "\n",
    "It might be worthy to explore these skewed distributions on a log scale."
   ]
  },
  {
   "cell_type": "markdown",
   "metadata": {},
   "source": [
    "To plot on a log scale, the logarithym function has to be applied on the data, but since this one has negative values and the function applies only to positive values, it will be necessary to shift the data to the right side of the y-axis in the plot for visualization purposes. How far right does it need to be shifted? I will take the minimum values +1 (to avoid calculation of log(0))"
   ]
  },
  {
   "cell_type": "code",
   "execution_count": 21,
   "metadata": {},
   "outputs": [
    {
     "name": "stdout",
     "output_type": "stream",
     "text": [
      "Since the minimum delay times are -49 for departure and -90 for arrival, then will add 50 and 91 to the data to set the minimum in 1s\n"
     ]
    }
   ],
   "source": [
    "min_dep = dep_delay.min()\n",
    "min_arr = arr_delay.min()\n",
    "text = 'Since the minimum delay times are {} for departure and {} for arrival, then will add 50 and 91 to the data to set the minimum in 1s'\n",
    "print(text.format(int(min_dep), int(min_arr)))"
   ]
  },
  {
   "cell_type": "code",
   "execution_count": 22,
   "metadata": {},
   "outputs": [
    {
     "data": {
      "text/plain": [
       "(20, 600)"
      ]
     },
     "execution_count": 22,
     "metadata": {},
     "output_type": "execute_result"
    },
    {
     "data": {
      "image/png": "[encoded data removed]",
      "text/plain": [
       "<matplotlib.figure.Figure at 0x20b8b9a9c50>"
      ]
     },
     "metadata": {},
     "output_type": "display_data"
    }
   ],
   "source": [
    "# Delayed departures and arrivals on a log scale\n",
    "\n",
    "plt.figure(figsize = [15, 5]);\n",
    "fig.suptitle('(Log) Domestic Flights Delays on Dec-2008', fontsize=16)\n",
    "\n",
    "dep_del_50 = dep_delay+50\n",
    "arr_del_91 = arr_delay+91\n",
    "\n",
    "bin_size = .02\n",
    "dep_bins = 10 ** np.arange(0, np.log10((dep_del_50).max())+bin_size, bin_size)\n",
    "arr_bins = 10 ** np.arange(0, np.log10((arr_del_91).max())+bin_size, bin_size)\n",
    "\n",
    "x_labels = [-30, -10, 0, 50, 200, 500, 1000]\n",
    "xticks_dep = [x+50 for x in x_labels]\n",
    "xticks_arr = [x+91 for x in x_labels]\n",
    "\n",
    "# Departure delay subplot\n",
    "ax1 = plt.subplot(1,2,1)\n",
    "plt.hist(dep_del_50, bins=dep_bins, color='silver')\n",
    "plt.xscale('log')\n",
    "plt.xlabel('Log Departure Delay (mins)')\n",
    "plt.xticks(xticks_dep, x_labels)\n",
    "plt.axvline(15+50, color='r')\n",
    "ax1.xaxis.set_minor_locator(plt.NullLocator());\n",
    "plt.xlim(20,600)\n",
    "\n",
    "# Arrival delay subplot\n",
    "ax2 = plt.subplot(1,2,2, sharey=ax1)\n",
    "plt.hist(arr_del_91, bins=arr_bins, color='silver')\n",
    "plt.xscale('log')\n",
    "plt.xlabel('Log Arrival Delay (mins)')\n",
    "plt.xticks(xticks_arr, x_labels)\n",
    "plt.axvline(15+91, color='r')\n",
    "ax2.xaxis.set_minor_locator(plt.NullLocator());\n",
    "plt.xlim(20,600)"
   ]
  },
  {
   "cell_type": "markdown",
   "metadata": {},
   "source": [
    "When plotted on a log-scale, the distribution shape for departure delays is still right skewed, it looks logarithmic, while for arrival delays is more similar to a Normal distribution. The main peak on both distribution show very punctual flights, with frequencies on departure delays in the 100k and in the 50k (half of it) on arrival delays. Outliers seem to be located on delays above 200 mins (>~ 3.5 hours) for both.\n",
    "\n",
    "The red line divides on time flights to the left and delayed to the right on the x-axis. Since the size of both distributions was small in the original plot, it was necessary to set limits on the x-axis to be able to get a closer look on the bulk of the distributions."
   ]
  },
  {
   "cell_type": "markdown",
   "metadata": {},
   "source": [
    "#### Delay Causes on Dec-2008"
   ]
  },
  {
   "cell_type": "markdown",
   "metadata": {},
   "source": [
    "Arrival delay times is the sum of the causes delay times; but the cause of a delay can be one or multiple.\n",
    "Not all the listed causes contributes to arrival delay times, unless their values are greater than 0 minutes.\n",
    "\n",
    "For this reason, the following histograms will plot the frequency of flights with delay causes time greater than 1 minute; delay causes with 0 as values null them as delay causes by definition. "
   ]
  },
  {
   "cell_type": "code",
   "execution_count": 23,
   "metadata": {
    "collapsed": true
   },
   "outputs": [],
   "source": [
    "delay_cols = ['CarrierDelay','WeatherDelay','NASDelay','SecurityDelay','LateAircraftDelay']\n",
    "col_labels = [col[:-5] for col in delay_cols]"
   ]
  },
  {
   "cell_type": "code",
   "execution_count": 136,
   "metadata": {},
   "outputs": [
    {
     "data": {
      "image/png": "[encoded data removed]",
      "text/plain": [
       "<matplotlib.figure.Figure at 0x20c05284358>"
      ]
     },
     "metadata": {},
     "output_type": "display_data"
    }
   ],
   "source": [
    "# Histogram subplotting in Scalar and Log scale\n",
    "fig, ax = plt.subplots(nrows=5, ncols=2, figsize=[15,20]);\n",
    "\n",
    "for i in np.arange(0,10):\n",
    "    plt.subplot(5,2,i+1)\n",
    "    col = str(delay_cols[int(i/2)]) # cause column (string)\n",
    "    data = delayed_flights[delayed_flights[col]>0] # causes with times different from 0 minutes\n",
    "\n",
    "\n",
    "    if i%2 == 0: # histogram (left)\n",
    "\n",
    "        binsize = 5\n",
    "        bins = np.arange(0, data[col].max() + binsize, binsize)\n",
    "               \n",
    "        plt.hist(data=data, x=col, bins=bins, color='lightsteelblue')\n",
    "        plt.xlabel(col[:-5] + ' Delay (mins)')\n",
    "\n",
    "        # Remove from sight delays longer than 3 hours to get a closer look to the bulk of the distribution       \n",
    "        plt.xlim(0,180)\n",
    "  \n",
    "    else: # histogram on log scale (right)\n",
    "\n",
    "        binsize = 0.14\n",
    "        log_bins = 10 ** np.arange(np.log10(data[col].min()), np.log10(data[col].max())+binsize, binsize)\n",
    "        \n",
    "        plt.hist(data=data, x=col, bins=log_bins, color='lightblue')\n",
    "        plt.xscale('log')\n",
    "        plt.xlabel('(Log) ' + col[:-5] + ' Delay (mins)')   \n",
    "    \n",
    "        xticks = [1, 2, 3, 4, 5, 10, 15, 25, 60, 120, 180, 300]\n",
    "        plt.xticks(xticks, xticks)\n",
    "        \n",
    "        plt.axvline(60) # to mark one hour delay\n",
    "        \n",
    "        # Remove from sight delays longer than 6 hours to get a closer look to the bulk of the distribution       \n",
    "        plt.xlim(0,360)\n",
    "\n",
    "    plt.ylabel('Number of Flights Operations')\n",
    "\n",
    "\n",
    "plt.show()\n",
    "# Source: https://stackoverflow.com/questions/10035446/how-can-i-make-a-blank-subplot-in-matplotlib"
   ]
  },
  {
   "cell_type": "markdown",
   "metadata": {},
   "source": [
    "Since the cause delays distributions have a logarithmic shape, they were plot on a log scale (on its right).\n",
    "\n",
    "On this scale, these distributions look pretty much Normal; with the main peak in the range of 13-25 minutes for carrier (frequency 10k), weather (frequency 1.8k) and NAS (frequency 16k) as delay causes; for security issues the main peak is located between 13-18 minutes (less than 140) and for late aircraft arrival between 18-25 minutes (frequency 11k).\n",
    "\n",
    "In all of these distribution there is a little peak between 4-5 minutes.\n",
    "\n",
    "Per their frequencies, it looks like that the top reason of delay is due to the National Aviation System (NAS), followed by late-arriving aircraft, air carrier and extreme weather. The bottom reason for delay is due to security issues.\n",
    "\n",
    "The blue line delimits delays longer than one hour to the right. It seems that pretty much the duration of these delays are less than one hour.\n",
    "\n",
    "####################\n",
    "Air Carrier: The cause of the cancellation or delay was due to circumstances within the airline's control (e.g. maintenance or crew problems, aircraft cleaning, baggage loading, fueling, etc.).\n",
    "\n",
    "Extreme Weather: Significant meteorological conditions (actual or forecasted) that, in the judgment of the carrier, delays or prevents the operation of a flight such as tornado, blizzard or hurricane.\n",
    "\n",
    "National Aviation System (NAS): Delays that refer to a broad set of conditions, such as non-extreme weather conditions, airport operations, heavy traffic volume, and air traffic control.\n",
    "\n",
    "Late-arriving aircraft: A previous flight with same aircraft arrived late, causing the present flight to depart late.\n",
    "\n",
    "Security: Delays caused by evacuation of a terminal or concourse, re-boarding of aircraft because of security breach, inoperative screening equipment and/or long lines in excess of 29 minutes at screening areas."
   ]
  },
  {
   "cell_type": "markdown",
   "metadata": {},
   "source": [
    "#### Flights Operations by Airlines on Dec-2008"
   ]
  },
  {
   "cell_type": "code",
   "execution_count": 25,
   "metadata": {
    "collapsed": true
   },
   "outputs": [],
   "source": [
    "# Dictionary of airlines codes and names\n",
    "Airlines = {'9E':'Endeavor Air', 'AA':'American Airlines', 'AS':'Alaska Airlines', 'B6':'JetBlue Airways',\\\n",
    "            'CO':'Continental Air Lines', 'DL':'Delta Air Lines', 'EV':'ExpressJet Airlines', 'F9':'Frontier Airlines',\\\n",
    "            'FL':'AirTran Airways', 'HA': 'Hawaiian Airlines', 'MQ':'Envoy Air', 'NW':'Northwest Airlines',\\\n",
    "            'OH':'PSA Airlines', 'OO':'SkyWest Airlines', 'UA':'United Air Lines', 'US':'US Airways',\\\n",
    "            'WN': 'Southwest Airlines', 'XE':'ExpressJet Airlines(1)', 'YV':'Mesa Airlines'}"
   ]
  },
  {
   "cell_type": "code",
   "execution_count": 26,
   "metadata": {},
   "outputs": [
    {
     "data": {
      "image/png": "[encoded data removed]",
      "text/plain": [
       "<matplotlib.figure.Figure at 0x20b8ba4e978>"
      ]
     },
     "metadata": {},
     "output_type": "display_data"
    }
   ],
   "source": [
    "# Bar chart plotting\n",
    "\n",
    "cat_order = flights['UniqueCarrier'].value_counts().index\n",
    "\n",
    "plt.figure(figsize=(8,6))\n",
    "sb.countplot(data=flights, y='UniqueCarrier', color='lightblue', order=cat_order)\n",
    "\n",
    "plt.title( 'Domestic Flights on Dec-2008', fontsize=14)\n",
    "plt.xlabel('Flight Operations')\n",
    "plt.ylabel('Airlines');\n",
    "\n",
    "xlocs   = [0, 10e3, 20e3, 30e3, 40e3, 50e3, 60e3, 70e3, 80e3, 90e3, 10e4]\n",
    "xlabels = ['{}k'.format(i*10) for i in np.arange(0,11)]\n",
    "plt.xticks(xlocs, xlabels)\n",
    "\n",
    "ylocs, ylabels = plt.yticks()\n",
    "ylabels = [Airlines[cat] for cat in cat_order]\n",
    "plt.yticks(ylocs, ylabels);"
   ]
  },
  {
   "cell_type": "markdown",
   "metadata": {},
   "source": [
    "The airline with more flight operations (almost 100,000) on Dec-2008 was Southwest, followed by American and Skywest (both airlines with operations above the mid 40,000). Southwest doubles the number of flight operations of the following top two!\n",
    "\n",
    "On the bottom side, Frontier and Hawaiian Airlines, operated each one less than 10,000 flights that period.\n",
    "\n",
    "It would be expected that the airlines with most number of operations, be the ones with more delays. But this exploration will take place in the Bivariate Exploration section."
   ]
  },
  {
   "cell_type": "markdown",
   "metadata": {},
   "source": [
    "#### Domestic Flights Operations per Days of Week\n",
    "\n",
    "Since December has 31 days, 4 weeks + 3 days, the frequency of days of the week is 4 for four days and 5 for the other three days. To be fair on the Days of Week comparison, the frequency flights will be measured by the average of flights per day of the week."
   ]
  },
  {
   "cell_type": "code",
   "execution_count": 27,
   "metadata": {
    "scrolled": true
   },
   "outputs": [
    {
     "data": {
      "image/png": "[encoded data removed]",
      "text/plain": [
       "<matplotlib.figure.Figure at 0x20c0489cdd8>"
      ]
     },
     "metadata": {},
     "output_type": "display_data"
    }
   ],
   "source": [
    "# Bar plotting\n",
    "plt.figure(figsize=[8,5]);\n",
    "\n",
    "days = ['Monday', 'Tuesday', 'Wednesday', 'Thursday', 'Friday', 'Saturday', 'Sunday']\n",
    "days_frequency = [5,5,5,4,4,4,4]\n",
    "\n",
    "groupby_day_wk = flights.groupby('DayOfWeek').count()[['DayofMonth']]\n",
    "day_avg = groupby_day_wk.DayofMonth / days_frequency # average of flights per day of the week\n",
    "\n",
    "plt.bar(day_avg.index, day_avg, color='peachpuff')\n",
    "plt.title('Average of Flights per Day of the Week on Dec', fontsize=14)\n",
    "plt.ylabel('Average of Flight Operations')\n",
    "plt.xticks(np.arange(1,8), days)\n",
    "plt.yticks([2500,5000,7500,10000,12500,15000,17500],['2,5k','5k','7,5k','10k','12,5k','15k','17,5k']);"
   ]
  },
  {
   "cell_type": "markdown",
   "metadata": {},
   "source": [
    "On Dec-2008, the most popular traveling day was Friday, followed by Monday (both days with an average around 18,500 daily flights). The less popular traveling day was Saturday (average around 15,500 daily flights)."
   ]
  },
  {
   "cell_type": "markdown",
   "metadata": {},
   "source": [
    "#### Domestic Flights Timeline on Dec-2008"
   ]
  },
  {
   "cell_type": "code",
   "execution_count": 46,
   "metadata": {},
   "outputs": [
    {
     "data": {
      "image/png": "[encoded data removed]",
      "text/plain": [
       "<matplotlib.figure.Figure at 0x20c074829e8>"
      ]
     },
     "metadata": {},
     "output_type": "display_data"
    }
   ],
   "source": [
    "# Timeline plotting\n",
    "plt.figure(figsize=[16,4])\n",
    "\n",
    "groupby_day_all = flights.groupby('DayofMonth').count()[['DayOfWeek']]\n",
    "groupby_day_del = delayed_flights.groupby('DayofMonth').count()[['DayOfWeek']]\n",
    "\n",
    "# Stacking two plots\n",
    "plt.errorbar(x=groupby_day_all.index, y=groupby_day_all, alpha=.7, label='All flights');\n",
    "plt.errorbar(x=groupby_day_del.index, y=groupby_day_del, color='r', alpha=.7, label='Delayed flights');\n",
    "\n",
    "plt.title( 'Domestic Flights Timeline', fontsize=14)\n",
    "plt.xlabel('December 2008 (day)')\n",
    "plt.ylabel('Number of Flights')\n",
    "\n",
    "plt.tick_params(axis='y', which='both', labelleft='on', labelright='on')\n",
    "\n",
    "xticks = np.arange(1,32)\n",
    "plt.xticks(xticks, xticks, rotation=45)\n",
    "\n",
    "legend(bbox_to_anchor=(1.05, 1), loc=2, borderaxespad=0.);\n",
    "\n",
    "# Source: https://matplotlib.org/1.3.1/users/legend_guide.html"
   ]
  },
  {
   "cell_type": "markdown",
   "metadata": {},
   "source": [
    "Both lines follow a rough parallel \n",
    "There is an ascending trend of flights frequency since Dec-13\n",
    "\n",
    "On every week the timeline looks similar ('bimodal' shape) until December 20th (a day before Hanukkah commences). From this date on, the frequency of flight operations is exceptional per the Winter Holidays: the frequency ascends through the 22nd-23rd, and then it plummets on Christmas eve and remains pretty much the same on Christmas day.\n",
    "On the same Holidays, like Christmas and New Year's Eve (both on Wednesdays), flights operation drop drastically.\n",
    "XXXXXXXXXXXXXXXX\n",
    "The 'bimodal' shape shows peaks on Fridays (days 5, 12, 19, 26) and lower spikes on Saturdays (days 6, 13, 20 and 27). A weaker plummeting in flights frequency occurs on Tuesdays (days 2,9,16).\n",
    "\n",
    "About frequencies, the lowest points show around 14,500 flights (Dec 6, 13) and the top ones above 18,000 flights. The maximum frequency (close to 19,000) was on December 1st (first Monday after Thanksgiving 2008)."
   ]
  },
  {
   "cell_type": "markdown",
   "metadata": {},
   "source": [
    "### DELAY FLIGHTS TIMELINE TO THE Y-RIGHT AXIS STACKED ON ABOVE"
   ]
  },
  {
   "cell_type": "markdown",
   "metadata": {},
   "source": [
    "#### Flights Operations from/to State on Dec-2008"
   ]
  },
  {
   "cell_type": "code",
   "execution_count": 29,
   "metadata": {
    "collapsed": true
   },
   "outputs": [],
   "source": [
    "def States(airport_loc):\n",
    "    ''' Split the airport location fields (city:State and airport) and return the State'''\n",
    "    airport_loc_fields = airport_loc.str.split(':')\n",
    "    return [field[0][-2:] for field in airport_loc_fields]\n",
    "\n",
    "\n",
    "# Count the ocurrences of each State, convert from Counter object to Series and sort descending by values\n",
    "states_list  = States(flights.OriginDescription)\n",
    "origin_valct = pd.Series(Counter(states_list)).sort_values(ascending=False)\n",
    "\n",
    "# Count the ocurrences of each State, convert from Counter object to Series and sort by values\n",
    "states_list  = States(flights.DestDescription)\n",
    "destin_valct = pd.Series(Counter(states_list)).sort_values(ascending=False)\n",
    "\n",
    "# https://stackoverflow.com/questions/2600191/how-can-i-count-the-occurrences-of-a-list-item"
   ]
  },
  {
   "cell_type": "markdown",
   "metadata": {},
   "source": [
    "*Notice that there are 52 States, since PR (Puerto Rico) and VI (Virgin Islands) are included in the data.\n",
    "For the State Heatmap, unfortunately there is no way under the parameter 'locationmode' to incorporate these origins in.\n",
    "The same will apply for destinations*"
   ]
  },
  {
   "cell_type": "code",
   "execution_count": 30,
   "metadata": {},
   "outputs": [
    {
     "data": {
      "application/vnd.plotly.v1+json": {
       "config": {
        "linkText": "Export to plot.ly",
        "plotlyServerURL": "https://plot.ly",
        "showLink": false
       },
       "data": [
        {
         "autocolorscale": false,
         "colorbar": {
          "title": {
           "text": "Flights Operations"
          }
         },
         "colorscale": [
          [
           0,
           "rgb(242,240,247)"
          ],
          [
           0.2,
           "rgb(218,218,235)"
          ],
          [
           0.4,
           "rgb(188,189,220)"
          ],
          [
           0.6,
           "rgb(158,154,200)"
          ],
          [
           0.8,
           "rgb(117,107,177)"
          ],
          [
           1,
           "rgb(84,39,143)"
          ]
         ],
         "locationmode": "USA-states",
         "locations": [
          "CA",
          "TX",
          "FL",
          "GA",
          "IL",
          "NY",
          "CO",
          "AZ",
          "NC",
          "OH",
          "MI",
          "NV",
          "DC",
          "TN",
          "PA",
          "UT",
          "NJ",
          "MN",
          "MO",
          "HI",
          "WA",
          "MA",
          "MD",
          "OR",
          "WI",
          "LA",
          "IN",
          "OK",
          "VA",
          "AL",
          "NM",
          "SC",
          "AR",
          "AK",
          "KY",
          "NE",
          "IA",
          "CT",
          "ID",
          "PR",
          "MS",
          "RI",
          "MT",
          "NH",
          "KS",
          "WY",
          "SD",
          "ND",
          "ME",
          "VT",
          "WV",
          "VI"
         ],
         "marker": {
          "line": {
           "color": "rgb(255,255,255)",
           "width": 2
          }
         },
         "type": "choropleth",
         "uid": "142d29fc-bcc1-48c1-adae-faa6bcafba2f",
         "z": [
          60367,
          57048,
          38054,
          34484,
          32264,
          23765,
          22292,
          17520,
          16465,
          15477,
          14653,
          14293,
          12311,
          12274,
          12187,
          10840,
          9776,
          9743,
          9638,
          9194,
          9084,
          8465,
          8062,
          5414,
          5339,
          5037,
          4356,
          3723,
          3645,
          3482,
          3230,
          2987,
          2643,
          2633,
          2400,
          2316,
          2127,
          2069,
          2012,
          1902,
          1769,
          1708,
          1482,
          1342,
          1065,
          756,
          723,
          626,
          597,
          505,
          331,
          272
         ]
        }
       ],
       "layout": {
        "geo": {
         "projection": {
          "type": "albers usa"
         },
         "scope": "north america"
        },
        "title": {
         "text": "Domestic Flights FROM State on Dec-2008<br>"
        }
       }
      },
      "text/html": [
       "<div id=\"c739f435-be47-4dc3-a420-a1503c43cf7f\" style=\"height: 525px; width: 100%;\" class=\"plotly-graph-div\"></div><script type=\"text/javascript\">require([\"plotly\"], function(Plotly) { window.PLOTLYENV=window.PLOTLYENV || {};window.PLOTLYENV.BASE_URL=\"https://plot.ly\";Plotly.newPlot(\"c739f435-be47-4dc3-a420-a1503c43cf7f\", [{\"autocolorscale\": false, \"colorbar\": {\"title\": {\"text\": \"Flights Operations\"}}, \"colorscale\": [[0.0, \"rgb(242,240,247)\"], [0.2, \"rgb(218,218,235)\"], [0.4, \"rgb(188,189,220)\"], [0.6, \"rgb(158,154,200)\"], [0.8, \"rgb(117,107,177)\"], [1.0, \"rgb(84,39,143)\"]], \"locationmode\": \"USA-states\", \"locations\": [\"CA\", \"TX\", \"FL\", \"GA\", \"IL\", \"NY\", \"CO\", \"AZ\", \"NC\", \"OH\", \"MI\", \"NV\", \"DC\", \"TN\", \"PA\", \"UT\", \"NJ\", \"MN\", \"MO\", \"HI\", \"WA\", \"MA\", \"MD\", \"OR\", \"WI\", \"LA\", \"IN\", \"OK\", \"VA\", \"AL\", \"NM\", \"SC\", \"AR\", \"AK\", \"KY\", \"NE\", \"IA\", \"CT\", \"ID\", \"PR\", \"MS\", \"RI\", \"MT\", \"NH\", \"KS\", \"WY\", \"SD\", \"ND\", \"ME\", \"VT\", \"WV\", \"VI\"], \"marker\": {\"line\": {\"color\": \"rgb(255,255,255)\", \"width\": 2}}, \"z\": [60367, 57048, 38054, 34484, 32264, 23765, 22292, 17520, 16465, 15477, 14653, 14293, 12311, 12274, 12187, 10840, 9776, 9743, 9638, 9194, 9084, 8465, 8062, 5414, 5339, 5037, 4356, 3723, 3645, 3482, 3230, 2987, 2643, 2633, 2400, 2316, 2127, 2069, 2012, 1902, 1769, 1708, 1482, 1342, 1065, 756, 723, 626, 597, 505, 331, 272], \"type\": \"choropleth\", \"uid\": \"6fad36e5-0643-420c-8c1a-de8a1157803d\"}], {\"geo\": {\"projection\": {\"type\": \"albers usa\"}, \"scope\": \"north america\"}, \"title\": {\"text\": \"Domestic Flights FROM State on Dec-2008<br>\"}}, {\"showLink\": false, \"linkText\": \"Export to plot.ly\", \"plotlyServerURL\": \"https://plot.ly\"})});</script><script type=\"text/javascript\">window.addEventListener(\"resize\", function(){window._Plotly.Plots.resize(document.getElementById(\"c739f435-be47-4dc3-a420-a1503c43cf7f\"));});</script>"
      ],
      "text/vnd.plotly.v1+html": [
       "<div id=\"c739f435-be47-4dc3-a420-a1503c43cf7f\" style=\"height: 525px; width: 100%;\" class=\"plotly-graph-div\"></div><script type=\"text/javascript\">require([\"plotly\"], function(Plotly) { window.PLOTLYENV=window.PLOTLYENV || {};window.PLOTLYENV.BASE_URL=\"https://plot.ly\";Plotly.newPlot(\"c739f435-be47-4dc3-a420-a1503c43cf7f\", [{\"autocolorscale\": false, \"colorbar\": {\"title\": {\"text\": \"Flights Operations\"}}, \"colorscale\": [[0.0, \"rgb(242,240,247)\"], [0.2, \"rgb(218,218,235)\"], [0.4, \"rgb(188,189,220)\"], [0.6, \"rgb(158,154,200)\"], [0.8, \"rgb(117,107,177)\"], [1.0, \"rgb(84,39,143)\"]], \"locationmode\": \"USA-states\", \"locations\": [\"CA\", \"TX\", \"FL\", \"GA\", \"IL\", \"NY\", \"CO\", \"AZ\", \"NC\", \"OH\", \"MI\", \"NV\", \"DC\", \"TN\", \"PA\", \"UT\", \"NJ\", \"MN\", \"MO\", \"HI\", \"WA\", \"MA\", \"MD\", \"OR\", \"WI\", \"LA\", \"IN\", \"OK\", \"VA\", \"AL\", \"NM\", \"SC\", \"AR\", \"AK\", \"KY\", \"NE\", \"IA\", \"CT\", \"ID\", \"PR\", \"MS\", \"RI\", \"MT\", \"NH\", \"KS\", \"WY\", \"SD\", \"ND\", \"ME\", \"VT\", \"WV\", \"VI\"], \"marker\": {\"line\": {\"color\": \"rgb(255,255,255)\", \"width\": 2}}, \"z\": [60367, 57048, 38054, 34484, 32264, 23765, 22292, 17520, 16465, 15477, 14653, 14293, 12311, 12274, 12187, 10840, 9776, 9743, 9638, 9194, 9084, 8465, 8062, 5414, 5339, 5037, 4356, 3723, 3645, 3482, 3230, 2987, 2643, 2633, 2400, 2316, 2127, 2069, 2012, 1902, 1769, 1708, 1482, 1342, 1065, 756, 723, 626, 597, 505, 331, 272], \"type\": \"choropleth\", \"uid\": \"6fad36e5-0643-420c-8c1a-de8a1157803d\"}], {\"geo\": {\"projection\": {\"type\": \"albers usa\"}, \"scope\": \"north america\"}, \"title\": {\"text\": \"Domestic Flights FROM State on Dec-2008<br>\"}}, {\"showLink\": false, \"linkText\": \"Export to plot.ly\", \"plotlyServerURL\": \"https://plot.ly\"})});</script><script type=\"text/javascript\">window.addEventListener(\"resize\", function(){window._Plotly.Plots.resize(document.getElementById(\"c739f435-be47-4dc3-a420-a1503c43cf7f\"));});</script>"
      ]
     },
     "metadata": {},
     "output_type": "display_data"
    }
   ],
   "source": [
    "# (Origin) State Heatmap plotting\n",
    "scl = [[0.0, 'rgb(242,240,247)'],[0.2, 'rgb(218,218,235)'],[0.4, 'rgb(188,189,220)'],\\\n",
    "            [0.6, 'rgb(158,154,200)'],[0.8, 'rgb(117,107,177)'],[1.0, 'rgb(84,39,143)']]\n",
    "\n",
    "data = [ dict(\n",
    "        type='choropleth',\n",
    "        colorscale=scl,\n",
    "        autocolorscale=False,\n",
    "        locations=origin_valct.index,\n",
    "        z=origin_valct,\n",
    "        locationmode='USA-states',\n",
    "        marker = dict(line = dict(color='rgb(255,255,255)', width=2)),\n",
    "        colorbar = dict(title=\"Flights Operations\")\n",
    "    ) ]\n",
    "\n",
    "layout = dict(\n",
    "        title = 'Domestic Flights FROM State on Dec-2008<br>',\n",
    "        geo = dict(scope='north america', projection=dict( type='albers usa'))\n",
    "        )\n",
    "\n",
    "fig = dict( data=data, layout=layout )\n",
    "\n",
    "iplot( fig, filename='origin-cloropleth-map' )\n",
    "\n",
    "# Source: https://datascience.stackexchange.com/questions/9616/how-to-create-us-state-heatmap"
   ]
  },
  {
   "cell_type": "markdown",
   "metadata": {},
   "source": [
    "Origin States with more flight operations (around 60k) on Dec-2008 were California (60,367) and Texas (57,048), followed by Florida (38,054), Georgia (34,484) and Illinois (32,264). On the bottom end below the 10k flights operations, are Wyoming (756), South Dakota (723),  North Dakota (626), Maine (567), Vermont (505) and West Virginia (331). The top ones are shaded darker and the bottom ones in lighter shades."
   ]
  },
  {
   "cell_type": "markdown",
   "metadata": {},
   "source": [
    "*These numbers are visible as hovering over the States in the map*"
   ]
  },
  {
   "cell_type": "code",
   "execution_count": 31,
   "metadata": {},
   "outputs": [
    {
     "data": {
      "application/vnd.plotly.v1+json": {
       "config": {
        "linkText": "Export to plot.ly",
        "plotlyServerURL": "https://plot.ly",
        "showLink": false
       },
       "data": [
        {
         "autocolorscale": false,
         "colorbar": {
          "title": {
           "text": "Flights Operations"
          }
         },
         "colorscale": [
          [
           0,
           "rgb(242,240,247)"
          ],
          [
           0.2,
           "rgb(218,218,235)"
          ],
          [
           0.4,
           "rgb(188,189,220)"
          ],
          [
           0.6,
           "rgb(158,154,200)"
          ],
          [
           0.8,
           "rgb(117,107,177)"
          ],
          [
           1,
           "rgb(84,39,143)"
          ]
         ],
         "locationmode": "USA-states",
         "locations": [
          "CA",
          "TX",
          "FL",
          "GA",
          "IL",
          "NY",
          "CO",
          "AZ",
          "NC",
          "OH",
          "MI",
          "NV",
          "DC",
          "TN",
          "PA",
          "UT",
          "NJ",
          "MN",
          "MO",
          "HI",
          "WA",
          "MA",
          "MD",
          "OR",
          "WI",
          "LA",
          "IN",
          "OK",
          "VA",
          "AL",
          "NM",
          "SC",
          "AR",
          "AK",
          "KY",
          "NE",
          "IA",
          "CT",
          "ID",
          "PR",
          "MS",
          "RI",
          "MT",
          "NH",
          "KS",
          "WY",
          "SD",
          "ND",
          "ME",
          "VT",
          "WV",
          "VI"
         ],
         "marker": {
          "line": {
           "color": "rgb(255,255,255)",
           "width": 2
          }
         },
         "type": "choropleth",
         "uid": "32f32933-11af-41ae-a7b9-46e555c9baff",
         "z": [
          60092,
          57032,
          38158,
          34495,
          32110,
          23937,
          22293,
          17530,
          16466,
          15457,
          14660,
          14307,
          12336,
          12289,
          12237,
          10823,
          9783,
          9690,
          9671,
          9199,
          9090,
          8494,
          8077,
          5419,
          5343,
          5036,
          4358,
          3716,
          3650,
          3484,
          3231,
          2998,
          2643,
          2635,
          2408,
          2321,
          2142,
          2061,
          1962,
          1911,
          1767,
          1708,
          1487,
          1331,
          1070,
          757,
          726,
          634,
          594,
          502,
          330,
          297
         ]
        }
       ],
       "layout": {
        "geo": {
         "projection": {
          "type": "albers usa"
         },
         "scope": "north america"
        },
        "title": {
         "text": "Domestic Flights TO State on Dec-2008<br>"
        }
       }
      },
      "text/html": [
       "<div id=\"5eebf089-2232-4f02-8a93-7f2c2d6ba3f5\" style=\"height: 525px; width: 100%;\" class=\"plotly-graph-div\"></div><script type=\"text/javascript\">require([\"plotly\"], function(Plotly) { window.PLOTLYENV=window.PLOTLYENV || {};window.PLOTLYENV.BASE_URL=\"https://plot.ly\";Plotly.newPlot(\"5eebf089-2232-4f02-8a93-7f2c2d6ba3f5\", [{\"autocolorscale\": false, \"colorbar\": {\"title\": {\"text\": \"Flights Operations\"}}, \"colorscale\": [[0.0, \"rgb(242,240,247)\"], [0.2, \"rgb(218,218,235)\"], [0.4, \"rgb(188,189,220)\"], [0.6, \"rgb(158,154,200)\"], [0.8, \"rgb(117,107,177)\"], [1.0, \"rgb(84,39,143)\"]], \"locationmode\": \"USA-states\", \"locations\": [\"CA\", \"TX\", \"FL\", \"GA\", \"IL\", \"NY\", \"CO\", \"AZ\", \"NC\", \"OH\", \"MI\", \"NV\", \"DC\", \"TN\", \"PA\", \"UT\", \"NJ\", \"MN\", \"MO\", \"HI\", \"WA\", \"MA\", \"MD\", \"OR\", \"WI\", \"LA\", \"IN\", \"OK\", \"VA\", \"AL\", \"NM\", \"SC\", \"AR\", \"AK\", \"KY\", \"NE\", \"IA\", \"CT\", \"ID\", \"PR\", \"MS\", \"RI\", \"MT\", \"NH\", \"KS\", \"WY\", \"SD\", \"ND\", \"ME\", \"VT\", \"WV\", \"VI\"], \"marker\": {\"line\": {\"color\": \"rgb(255,255,255)\", \"width\": 2}}, \"z\": [60092, 57032, 38158, 34495, 32110, 23937, 22293, 17530, 16466, 15457, 14660, 14307, 12336, 12289, 12237, 10823, 9783, 9690, 9671, 9199, 9090, 8494, 8077, 5419, 5343, 5036, 4358, 3716, 3650, 3484, 3231, 2998, 2643, 2635, 2408, 2321, 2142, 2061, 1962, 1911, 1767, 1708, 1487, 1331, 1070, 757, 726, 634, 594, 502, 330, 297], \"type\": \"choropleth\", \"uid\": \"8c899aa7-79bc-464a-ac5d-997196c0605c\"}], {\"geo\": {\"projection\": {\"type\": \"albers usa\"}, \"scope\": \"north america\"}, \"title\": {\"text\": \"Domestic Flights TO State on Dec-2008<br>\"}}, {\"showLink\": false, \"linkText\": \"Export to plot.ly\", \"plotlyServerURL\": \"https://plot.ly\"})});</script><script type=\"text/javascript\">window.addEventListener(\"resize\", function(){window._Plotly.Plots.resize(document.getElementById(\"5eebf089-2232-4f02-8a93-7f2c2d6ba3f5\"));});</script>"
      ],
      "text/vnd.plotly.v1+html": [
       "<div id=\"5eebf089-2232-4f02-8a93-7f2c2d6ba3f5\" style=\"height: 525px; width: 100%;\" class=\"plotly-graph-div\"></div><script type=\"text/javascript\">require([\"plotly\"], function(Plotly) { window.PLOTLYENV=window.PLOTLYENV || {};window.PLOTLYENV.BASE_URL=\"https://plot.ly\";Plotly.newPlot(\"5eebf089-2232-4f02-8a93-7f2c2d6ba3f5\", [{\"autocolorscale\": false, \"colorbar\": {\"title\": {\"text\": \"Flights Operations\"}}, \"colorscale\": [[0.0, \"rgb(242,240,247)\"], [0.2, \"rgb(218,218,235)\"], [0.4, \"rgb(188,189,220)\"], [0.6, \"rgb(158,154,200)\"], [0.8, \"rgb(117,107,177)\"], [1.0, \"rgb(84,39,143)\"]], \"locationmode\": \"USA-states\", \"locations\": [\"CA\", \"TX\", \"FL\", \"GA\", \"IL\", \"NY\", \"CO\", \"AZ\", \"NC\", \"OH\", \"MI\", \"NV\", \"DC\", \"TN\", \"PA\", \"UT\", \"NJ\", \"MN\", \"MO\", \"HI\", \"WA\", \"MA\", \"MD\", \"OR\", \"WI\", \"LA\", \"IN\", \"OK\", \"VA\", \"AL\", \"NM\", \"SC\", \"AR\", \"AK\", \"KY\", \"NE\", \"IA\", \"CT\", \"ID\", \"PR\", \"MS\", \"RI\", \"MT\", \"NH\", \"KS\", \"WY\", \"SD\", \"ND\", \"ME\", \"VT\", \"WV\", \"VI\"], \"marker\": {\"line\": {\"color\": \"rgb(255,255,255)\", \"width\": 2}}, \"z\": [60092, 57032, 38158, 34495, 32110, 23937, 22293, 17530, 16466, 15457, 14660, 14307, 12336, 12289, 12237, 10823, 9783, 9690, 9671, 9199, 9090, 8494, 8077, 5419, 5343, 5036, 4358, 3716, 3650, 3484, 3231, 2998, 2643, 2635, 2408, 2321, 2142, 2061, 1962, 1911, 1767, 1708, 1487, 1331, 1070, 757, 726, 634, 594, 502, 330, 297], \"type\": \"choropleth\", \"uid\": \"8c899aa7-79bc-464a-ac5d-997196c0605c\"}], {\"geo\": {\"projection\": {\"type\": \"albers usa\"}, \"scope\": \"north america\"}, \"title\": {\"text\": \"Domestic Flights TO State on Dec-2008<br>\"}}, {\"showLink\": false, \"linkText\": \"Export to plot.ly\", \"plotlyServerURL\": \"https://plot.ly\"})});</script><script type=\"text/javascript\">window.addEventListener(\"resize\", function(){window._Plotly.Plots.resize(document.getElementById(\"5eebf089-2232-4f02-8a93-7f2c2d6ba3f5\"));});</script>"
      ]
     },
     "metadata": {},
     "output_type": "display_data"
    }
   ],
   "source": [
    "# (Destination) State Heatmap plotting\n",
    "\n",
    "data[0]['locations'] = destin_valct.index\n",
    "data[0]['z'] = destin_valct\n",
    "layout['title'] = 'Domestic Flights TO State on Dec-2008<br>'\n",
    "\n",
    "fig = dict( data=data, layout=layout )\n",
    "\n",
    "iplot( fig, filename='destin-cloropleth-map' )"
   ]
  },
  {
   "cell_type": "markdown",
   "metadata": {},
   "source": [
    "Destination States with more flight operations (around 60k) on Dec-2008 were California (60,092) and Texas (57,032), followed by Florida (38,158), Georgia (34,495) and Illinois (32,110). On the bottom end below the 10k flights operations, are Wyoming (757), South Dakota (726),  North Dakota (634), Maine (594), Vermont (502) and West Virginia (330). The top ones are shaded darker and the bottom ones in lighter shades."
   ]
  },
  {
   "cell_type": "markdown",
   "metadata": {},
   "source": [
    "*These numbers are visible as hovering over the States in the map*"
   ]
  },
  {
   "cell_type": "markdown",
   "metadata": {},
   "source": [
    "**COLOCAR UN MAPA AL LADO DEL OTRO** same bar"
   ]
  },
  {
   "cell_type": "code",
   "execution_count": 217,
   "metadata": {},
   "outputs": [
    {
     "ename": "SyntaxError",
     "evalue": "keyword can't be an expression (<ipython-input-217-05e6f63218c0>, line 31)",
     "output_type": "error",
     "traceback": [
      "\u001b[1;36m  File \u001b[1;32m\"<ipython-input-217-05e6f63218c0>\"\u001b[1;36m, line \u001b[1;32m31\u001b[0m\n\u001b[1;33m    geo = dict(scope='north america', projection=dict( type='albers usa' ), 'x' = domain_x, 'y' = [0.0, 500.0] )\u001b[0m\n\u001b[1;37m                                                                           ^\u001b[0m\n\u001b[1;31mSyntaxError\u001b[0m\u001b[1;31m:\u001b[0m keyword can't be an expression\n"
     ]
    }
   ],
   "source": [
    "# DOS MAPAS\n",
    "\n",
    "scl = [ [0.0, 'rgb(242,240,247)'],[0.2, 'rgb(218,218,235)'],[0.4, 'rgb(188,189,220)'],\\\n",
    "        [0.6, 'rgb(158,154,200)'],[0.8, 'rgb(117,107,177)'],[1.0, 'rgb(84,39,143)'] ]\n",
    "\n",
    "data = []\n",
    "\n",
    "#layout = dict( title = 'Domestic Flights FROM/TO State on Dec-2008<br>' )\n",
    "\n",
    "location_status = ['origin', 'destin']\n",
    "\n",
    "for i in location_status:\n",
    "    valct = origin_valct if i=='origin' else destin_valct\n",
    "    domain_x = [0.0, 500.] if i=='origin' else [500., 1000.]\n",
    "    \n",
    "    data.append(\n",
    "        dict(\n",
    "                type='choropleth',\n",
    "                colorscale=scl,\n",
    "                autocolorscale=False,\n",
    "                locations=valct.index,\n",
    "                z=valct,\n",
    "                locationmode='USA-states',\n",
    "                marker = dict(line = dict(color='rgb(255,255,255)', width=2)),\n",
    "                colorbar = dict(title=\"Flights Operations\"), \n",
    "            )\n",
    "        )\n",
    "    \n",
    "    \n",
    "    layout[i] = dict(\n",
    "                        #title = 'Domestic Flights FROM/TO State on Dec-2008<br>',\n",
    "                        geo = dict(scope='north america', projection=dict( type='albers usa' ), x = domain_x, y = [0.0, 500.0] )\n",
    "                        #scope='north america',\n",
    "                        #projection=dict( type='albers usa' ),\n",
    "                        #domain = dict( x = domain_x, y = [0.0, 500.0] )\n",
    "                    )\n",
    "\n",
    "\n",
    "fig = dict( data=data, layout=layout )\n",
    "iplot( fig, filename='origin-destin-cloropleth-map')#, height=500, width=1000 )"
   ]
  },
  {
   "cell_type": "code",
   "execution_count": 50,
   "metadata": {
    "collapsed": true
   },
   "outputs": [
    {
     "data": {
      "text/plain": [
       "CA    275\n",
       "IL    154\n",
       "MN     53\n",
       "ID     50\n",
       "OH     20\n",
       "UT     17\n",
       "TX     16\n",
       "NH     11\n",
       "CT      8\n",
       "OK      7\n",
       "VT      3\n",
       "ME      3\n",
       "MS      2\n",
       "WV      1\n",
       "LA      1\n",
       "RI      0\n",
       "AR      0\n",
       "NC     -1\n",
       "NM     -1\n",
       "CO     -1\n",
       "WY     -1\n",
       "AK     -2\n",
       "AL     -2\n",
       "IN     -2\n",
       "SD     -3\n",
       "WI     -4\n",
       "OR     -5\n",
       "HI     -5\n",
       "NE     -5\n",
       "MT     -5\n",
       "VA     -5\n",
       "KS     -5\n",
       "WA     -6\n",
       "NJ     -7\n",
       "MI     -7\n",
       "KY     -8\n",
       "ND     -8\n",
       "PR     -9\n",
       "AZ    -10\n",
       "GA    -11\n",
       "SC    -11\n",
       "NV    -14\n",
       "TN    -15\n",
       "MD    -15\n",
       "IA    -15\n",
       "VI    -25\n",
       "DC    -25\n",
       "MA    -29\n",
       "MO    -33\n",
       "PA    -50\n",
       "FL   -104\n",
       "NY   -172\n",
       "dtype: int64"
      ]
     },
     "execution_count": 50,
     "metadata": {},
     "output_type": "execute_result"
    }
   ],
   "source": [
    "(origin_valct - destin_valct).sort_values(ascending=False)"
   ]
  },
  {
   "cell_type": "markdown",
   "metadata": {},
   "source": [
    "XXXXXXXXXXXXXXX\n",
    "The difference flights operations by State is longer than an hour in California (~4.5 hours) and Illinois (~2.5 hours), longer than half hour in Minnesota and Idaho, and less than 20 minutes in the rest of the country.\n",
    "\n",
    "very small, keeping the same frequency order as for Origin as for Destination; therefore the heat map for both looks the same, with the same shades on the States. It is likely that these variables are highly correlated with one another."
   ]
  },
  {
   "cell_type": "markdown",
   "metadata": {},
   "source": [
    "### Discuss the distribution(s) of your variable(s) of interest. Were there any unusual points? Did you need to perform any transformations?\n",
    "\n",
    "Logarithm transformation was needed for right skewed distributions of flights with delays greater than 15 minutes. For negative delays, it was not worthy since the logarithm function applies only for positive values.\n",
    "By manipulating the bin sizes to get a better look of the distributions, the resultant shapes were similar to a Weibull distribution as well for departures and as for arrivals. \n",
    "Outliers seem to be located on delays longer than 8 hours.\n",
    "\n",
    "### Of the features you investigated, were there any unusual distributions? Did you perform any operations on the data to tidy, adjust, or change the form of the data? If so, why did you do this?\n",
    "\n",
    "In order to explore the proportions of flight statuses on Dec-2008, for the pie chart plot, the whole data has to be split in the categories on time, delayed. This was done in the preliminary wrangling phase rather than in the Univariate exploration."
   ]
  },
  {
   "cell_type": "markdown",
   "metadata": {},
   "source": [
    "## Bivariate Exploration\n"
   ]
  },
  {
   "cell_type": "markdown",
   "metadata": {},
   "source": [
    "**WHICH AIRLINES AND CITIES HAD MORE FLIGHT DELAYS AND WHAT ARE THE CAUSES? ON DEC-2008**"
   ]
  },
  {
   "cell_type": "markdown",
   "metadata": {},
   "source": [
    "The dataset has the following numeric variables:\n",
    "- departure and arrival Delays (in minutes), which are calculated differences between the actual and schedule departure/arrival times, as corresponding.\n",
    "- (arrival) delay causes (in minutes): carrier, weather, NAS, security, late aircraft\n",
    "\n",
    "The categorical variables are the days of week, the airlines, the (origin/destination) States , the (5) delay causes (applicable only for delayed flights) and the flight statuses (on time, delayed)."
   ]
  },
  {
   "cell_type": "markdown",
   "metadata": {},
   "source": [
    "#### Departure Delay vs Arrival Delay"
   ]
  },
  {
   "cell_type": "code",
   "execution_count": null,
   "metadata": {},
   "outputs": [],
   "source": [
    "# Scatter plot\n",
    "plt.scatter(dep_delay, arr_delay, alpha=.1, color='gray')\n",
    "plt.xlabel('Departure Delay (mins)')\n",
    "plt.ylabel('Arrival Delay (mins)')\n",
    "plt.axvline(15, color='r')\n",
    "plt.axhline(15, color='r');"
   ]
  },
  {
   "cell_type": "code",
   "execution_count": null,
   "metadata": {},
   "outputs": [],
   "source": [
    "# Correlation plot\n",
    "plt.figure(figsize = [8, 5])\n",
    "sb.heatmap(flights[['DepDelay', 'ArrDelay']].corr(), annot = True, fmt = '.3f', cmap = 'vlag_r', center = 0)\n",
    "plt.show()"
   ]
  },
  {
   "cell_type": "markdown",
   "metadata": {},
   "source": [
    "The red lines divide the scatter plot in four sections, to remark flights considered on time or delayed.\n",
    "The plot shows a very linear strong positive correlation between Departure and Arrival Delays.\n",
    "\n",
    "These variables are highly correlated. It seems logical that late departed flights end up with lated arrivals. By exploring the delay causes will give more light."
   ]
  },
  {
   "cell_type": "code",
   "execution_count": null,
   "metadata": {},
   "outputs": [],
   "source": [
    "dep_bins = np.arange(dep_delay.min(), dep_delay.max()+200, 200) # -49 1597\n",
    "arr_bins = np.arange(arr_delay.min(), arr_delay.max()+200, 200) # -90 1655\n",
    "\n",
    "plt.hist2d(dep_delay, arr_delay, bins=[dep_bins, arr_bins], cmap='viridis_r', cmin=0.5);"
   ]
  },
  {
   "cell_type": "markdown",
   "metadata": {},
   "source": [
    "### WHICH AIRLINES HAD MORE FLIGHT DELAYS AND WHAT ARE THE CAUSES? ON DEC-2008\n",
    "QUITAR CIUDAD DEL ANALISIS\n",
    "\n",
    "Numeric vars: departure and arrival Delays (in minutes), which are calculated differences between the actual and schedule departure/arrival times, as corresponding. Delay causes (in minutes) also belong to numeric variables.\n",
    "\n",
    "Categorical: days of week, the airlines, the (origin/destination) States, the (5) delay causes (applicable only for delayed flights), and the flight statuses (on time, delayed).\n",
    "\n",
    "Main vars of interest: airlines, cities/states (orig/dest), delays (dep/arr), causes\n",
    "\n",
    "PLOTS TO DO FOR DELAYED FLIGHTS BETWEEN:\n",
    "Num vs Cat: Violin, Boxplots, Adapted Bar Chart\n",
    "1- Arrival Delay vs DOWeek/DOMonth\n",
    "\n",
    "2- Arrival Delay vs Delay Causes: numeric vs numeric (BOXPLOT / VIOLIN), numeric vs categorical\n",
    "\n",
    "3- Arrival Delay vs Airline (BOXPLOT)\n",
    "\n",
    "***4- Arrival Delay vs origin/destination (CITY): Atlanta ATL, Los Angeles LAX, O'Hare International Airport Chicago ORD, Dallas/Fort Worth International Airport DFW, \n",
    "JFK NY, DEN Denver, SFO Sn Fco, LAS Las Vegas, PHX Phoenix, IAH Houston\n",
    "\n",
    "Cat vs Cat: Clustered Bar Chart\n",
    "***5- Airlines vs cities\n",
    "\n",
    "6- Airlines vs delay causes: numeric vs categorical, cat vs cat\n",
    "\n",
    "***7- Cities vs delay Causes: numeric vs categorical, cat vs cat (HEATMAP)\n",
    "\n",
    "8- Date vs Delay (CONTEO DE DELAYS)\n"
   ]
  },
  {
   "cell_type": "markdown",
   "metadata": {},
   "source": [
    "#### 2- Causes of Delay"
   ]
  },
  {
   "cell_type": "code",
   "execution_count": null,
   "metadata": {
    "scrolled": true
   },
   "outputs": [],
   "source": [
    "delayed_flights[delay_cols].sum()"
   ]
  },
  {
   "cell_type": "code",
   "execution_count": null,
   "metadata": {},
   "outputs": [],
   "source": [
    "# Bars plotting BOXPLOTTTTTTTTTTTTTTTTTTTTTTTTTTTTTTTTTTTTTTTTTTTTTTTTT\n",
    "delay_causes_avg = delayed_flights[delay_cols].mean().sort_values(ascending=False)\n",
    "delay_causes_avg.plot(kind='bar', color='lightsteelblue')\n",
    "plt.title('Average (Arrival) Delay per Causes on Dec-2008 ', fontsize=14)\n",
    "plt.ylabel('Average Delay (mins)')\n",
    "plt.xticks(np.arange(0, 5), col_labels, rotation=45);"
   ]
  },
  {
   "cell_type": "markdown",
   "metadata": {},
   "source": [
    "The domain of above data is related to delayed flights, which causes of delay  can be one or multiple, and the sum of their delay times totals the (arrival) delay time.\n",
    "\n",
    "On December 2008, the first cause of delay is due to airline issues with an average of 25 minutes and the least likely cause is due to a late aircraft arrival.\n",
    "The second delay cause is due to weather conditions with an average of 17 minutes, followed by NAS issues with an average of 15 minutes, and then by security issues with an average of 4 minutes."
   ]
  },
  {
   "cell_type": "markdown",
   "metadata": {},
   "source": [
    "It would be expected since airline issues contributes mainly to the (arrival) delays, that their distribution be similar to the arrival delay.\n",
    "On the log scales, on this distribution the most frequent delays were situated in the range of 20-25 minutes."
   ]
  },
  {
   "cell_type": "code",
   "execution_count": null,
   "metadata": {},
   "outputs": [],
   "source": [
    "delay_causes_avg "
   ]
  },
  {
   "cell_type": "code",
   "execution_count": null,
   "metadata": {},
   "outputs": [],
   "source": [
    "#MELT DELAY COLUMNS\n",
    "plt.figure(figsize=[8,4]);\n",
    "\n",
    "sb.boxplot(delay_causes_avg.index[0], delayed_flights[str(delay_cols[4])]);"
   ]
  },
  {
   "cell_type": "markdown",
   "metadata": {},
   "source": [
    "#### Airlines vs Flight Statuses"
   ]
  },
  {
   "cell_type": "code",
   "execution_count": null,
   "metadata": {},
   "outputs": [],
   "source": [
    "# Bar chart plotting of airlines by flight statuses\n",
    "fig, ax = plt.subplots(nrows=2, figsize=[8,12]);#, sharex=True);\n",
    "\n",
    "flight_status = [on_time_flights, delayed_flights]\n",
    "status_label = ['On Time Flights', 'Delayed Flights']\n",
    "\n",
    "orders = [ on_time_flights['UniqueCarrier'].value_counts().index,\\\n",
    "           delayed_flights['UniqueCarrier'].value_counts().index,]\n",
    "\n",
    "for i in np.arange(0,2):\n",
    "    sb.countplot(data=flight_status[i], y='UniqueCarrier', color=colors[i], order=orders[i], ax=ax[i])\n",
    "    ax[i].set(xlabel=status_label[i], yticklabels=[Airlines[order] for order in orders[i]])\n",
    "\n",
    "plt.show()"
   ]
  },
  {
   "cell_type": "markdown",
   "metadata": {},
   "source": [
    "ESCRIBIR ANALISIS FOCUSED MAINLY IN DELAYED FLIGHTS\n",
    "\n",
    "For on time flights,\n",
    "\n",
    "\n",
    "Envoy is situated among the top-5 delayed, the first on cancelled and in the top-5 diverted.\n",
    "\n",
    "the bar chart got the same airlines order like in the bar chart for all domestic flights operations; and it makes sense since it represents 96.29% of the data.\n",
    "Southwest remain in the top with more scheduled flight operations on Dec-2008, except for cancelled flights, were Envoy has the 1st position and Southwest the 2nd.\n",
    "On the bottom end, Frontier and Hawaiian are located as the airlines with the least scheduled flight operations, regardless the status.\n",
    "\n",
    "Relative frequencies of cancellations and diversions in relation to total of flights operations per airline, would give better sense of proportions of each airline on these statuses."
   ]
  },
  {
   "cell_type": "markdown",
   "metadata": {},
   "source": [
    "### Talk about some of the relationships you observed in this part of the investigation. How did the feature(s) of interest vary with other features in the dataset?\n",
    "\n",
    "> Your answer here!\n",
    "\n",
    "### Did you observe any interesting relationships between the other features (not the main feature(s) of interest)?\n",
    "\n",
    "> Your answer here!"
   ]
  },
  {
   "cell_type": "markdown",
   "metadata": {},
   "source": [
    "## Multivariate Exploration\n",
    "\n",
    "> Create plots of three or more variables to investigate your data even\n",
    "further. Make sure that your investigations are justified, and follow from\n",
    "your work in the previous sections."
   ]
  },
  {
   "cell_type": "markdown",
   "metadata": {
    "collapsed": true
   },
   "source": [
    "Numeric vars: departure and arrival Delays (in minutes), which are calculated differences between the actual and schedule departure/arrival times, as corresponding. Delay causes (in minutes) also belong to numeric variables.\n",
    "\n",
    "Categorical: days of week, the airlines, the (origin/destination) States, the (5) delay causes (applicable only for delayed flights), and the flight statuses (on time, delayed).\n",
    "\n",
    "Main vars of interest: airlines, cities/states (orig/dest), delays (dep/arr), causes\n",
    "\n",
    "\n",
    "DELAY TIME, DELAY CAUSES, DOW\n",
    "DELAY TIME x AIRLINE x DAYMONTH\n",
    "DELAY TIME, DELAY CAUSE, DOW\n",
    "DELAY TIME, DELAY CAUSE, DOMONTH"
   ]
  },
  {
   "cell_type": "markdown",
   "metadata": {},
   "source": [
    "### Talk about some of the relationships you observed in this part of the investigation. Were there features that strengthened each other in terms of looking at your feature(s) of interest?\n",
    "\n",
    "> Your answer here!\n",
    "\n",
    "### Were there any interesting or surprising interactions between features?\n",
    "\n",
    "> Your answer here!"
   ]
  },
  {
   "cell_type": "markdown",
   "metadata": {},
   "source": [
    "> At the end of your report, make sure that you export the notebook as an\n",
    "html file from the `File > Download as... > HTML` menu. Make sure you keep\n",
    "track of where the exported file goes, so you can put it in the same folder\n",
    "as this notebook for project submission. Also, make sure you remove all of\n",
    "the quote-formatted guide notes like this one before you finish your report!"
   ]
  },
  {
   "cell_type": "code",
   "execution_count": null,
   "metadata": {
    "collapsed": true
   },
   "outputs": [],
   "source": []
  }
 ],
 "metadata": {
  "kernelspec": {
   "display_name": "Python 3",
   "language": "python",
   "name": "python3"
  },
  "language_info": {
   "codemirror_mode": {
    "name": "ipython",
    "version": 3
   },
   "file_extension": ".py",
   "mimetype": "text/x-python",
   "name": "python",
   "nbconvert_exporter": "python",
   "pygments_lexer": "ipython3",
   "version": "3.6.2"
  }
 },
 "nbformat": 4,
 "nbformat_minor": 2
}
